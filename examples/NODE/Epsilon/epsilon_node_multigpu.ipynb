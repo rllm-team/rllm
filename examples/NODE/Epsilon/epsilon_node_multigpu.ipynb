{
 "cells": [
  {
   "cell_type": "code",
   "execution_count": 1,
   "metadata": {},
   "outputs": [
    {
     "name": "stdout",
     "output_type": "stream",
     "text": [
      "env: CUDA_VISIBLE_DEVICES=0,1\n",
      "reading dataset (it may take a long time)\n",
      "experiment: epsilon_node_2layers_2019.08.28_13:04\n"
     ]
    }
   ],
   "source": [
    "%load_ext autoreload\n",
    "%autoreload 2\n",
    "%env CUDA_VISIBLE_DEVICES=0,1\n",
    "import os, sys\n",
    "import time\n",
    "sys.path.insert(0, '..')\n",
    "import numpy as np\n",
    "import pandas as pd\n",
    "import matplotlib.pyplot as plt\n",
    "%matplotlib inline\n",
    "import lib\n",
    "import torch, torch.nn as nn\n",
    "import torch.nn.functional as F\n",
    "from qhoptim.pyt import QHAdam\n",
    "\n",
    "# read the data\n",
    "data = lib.Dataset(\"EPSILON\", random_state=1337, quantile_transform=True, quantile_noise=1e-3)\n",
    "\n",
    "device = 'cuda' if torch.cuda.is_available() else 'cpu'\n",
    "\n",
    "experiment_name = 'epsilon_node_2layers'\n",
    "experiment_name = '{}_{}.{:0>2d}.{:0>2d}_{:0>2d}:{:0>2d}'.format(experiment_name, *time.gmtime()[:5])\n",
    "print(\"experiment:\", experiment_name)"
   ]
  },
  {
   "cell_type": "markdown",
   "metadata": {},
   "source": [
    "__Note:__ make sure you're using torch version `>= 1.1.0`, the code will silently fail even on 1.0.1."
   ]
  },
  {
   "cell_type": "code",
   "execution_count": 2,
   "metadata": {},
   "outputs": [],
   "source": [
    "num_features = data.X_train.shape[1]\n",
    "num_classes = len(set(data.y_train))\n",
    "\n",
    "model = nn.Sequential(\n",
    "    lib.DenseBlock(num_features, layer_dim=1024, num_layers=2, tree_dim=num_classes + 1, flatten_output=False,\n",
    "                   depth=6, choice_function=lib.entmax15, bin_function=lib.entmoid15),\n",
    "    lib.Lambda(lambda x: x[..., :num_classes].mean(dim=-2)),\n",
    ").to(device)\n",
    "\n",
    "with torch.no_grad():\n",
    "    res = model(torch.as_tensor(data.X_train[:2000], device=device))\n",
    "    # trigger data-aware init\n",
    "    \n",
    "if torch.cuda.device_count() > 1:\n",
    "    model = nn.DataParallel(model)\n",
    "\n",
    "\n",
    "trainer = lib.Trainer(\n",
    "    model=model, loss_function=F.cross_entropy,\n",
    "    experiment_name=experiment_name,\n",
    "    warm_start=False,\n",
    "    Optimizer=QHAdam,\n",
    "    optimizer_params=dict(nus=(0.7, 1.0), betas=(0.95, 0.998)),\n",
    "    verbose=True,\n",
    "    n_last_checkpoints=5\n",
    ")"
   ]
  },
  {
   "cell_type": "code",
   "execution_count": 3,
   "metadata": {},
   "outputs": [],
   "source": [
    "from tqdm import tqdm\n",
    "from IPython.display import clear_output\n",
    "loss_history, err_history = [], []\n",
    "best_val_err = 1.0\n",
    "best_step = 0\n",
    "early_stopping_rounds = 10_000\n",
    "report_frequency = 100"
   ]
  },
  {
   "cell_type": "code",
   "execution_count": 4,
   "metadata": {},
   "outputs": [
    {
     "data": {
      "image/png": "[encoded data removed]",
      "text/plain": [
       "<matplotlib.figure.Figure at 0x7fe689dc28d0>"
      ]
     },
     "metadata": {},
     "output_type": "display_data"
    },
    {
     "name": "stdout",
     "output_type": "stream",
     "text": [
      "Loss 0.04272\n",
      "Val Error Rate: 0.11866\n",
      "BREAK. There is no improvment for 10000 steps\n",
      "Best step:  2100\n",
      "Best Val Error Rate: 0.10340\n"
     ]
    }
   ],
   "source": [
    "for batch in lib.iterate_minibatches(data.X_train, data.y_train, batch_size=1024, \n",
    "                                                shuffle=True, epochs=float('inf')):\n",
    "    metrics = trainer.train_on_batch(*batch, device=device)\n",
    "    \n",
    "    loss_history.append(metrics['loss'])\n",
    "\n",
    "    if trainer.step % report_frequency == 0:\n",
    "        trainer.save_checkpoint()\n",
    "        trainer.average_checkpoints(out_tag='avg')\n",
    "        trainer.load_checkpoint(tag='avg')\n",
    "        err = trainer.evaluate_classification_error(\n",
    "            data.X_valid, data.y_valid, device=device, batch_size=1024)\n",
    "        \n",
    "        if err < best_val_err:\n",
    "            best_val_err = err\n",
    "            best_step = trainer.step\n",
    "            trainer.save_checkpoint(tag='best')\n",
    "        \n",
    "        err_history.append(err)\n",
    "        trainer.load_checkpoint()  # last\n",
    "        trainer.remove_old_temp_checkpoints()\n",
    "            \n",
    "        clear_output(True)\n",
    "        plt.figure(figsize=[12, 6])\n",
    "        plt.subplot(1, 2, 1)\n",
    "        plt.plot(loss_history)\n",
    "        plt.grid()\n",
    "        plt.subplot(1,2,2)\n",
    "        plt.plot(err_history)\n",
    "        plt.grid()\n",
    "        plt.show()\n",
    "        print(\"Loss %.5f\" % (metrics['loss']))\n",
    "        print(\"Val Error Rate: %0.5f\" % (err))\n",
    "        \n",
    "    if trainer.step > best_step + early_stopping_rounds:\n",
    "        print('BREAK. There is no improvment for {} steps'.format(early_stopping_rounds))\n",
    "        print(\"Best step: \", best_step)\n",
    "        print(\"Best Val Error Rate: %0.5f\" % (best_val_err))\n",
    "        break"
   ]
  },
  {
   "cell_type": "code",
   "execution_count": 6,
   "metadata": {},
   "outputs": [
    {
     "name": "stdout",
     "output_type": "stream",
     "text": [
      "Loaded logs/epsilon_node_2layers_2019.08.28_13:04/checkpoint_best.pth\n",
      "Best step:  2100\n",
      "Test Error rate: 0.10372\n",
      "Loaded logs/epsilon_node_2layers_2019.08.28_13:04/checkpoint_temp_12100.pth\n"
     ]
    },
    {
     "data": {
      "text/plain": [
       "Trainer(\n",
       "  (model): DataParallel(\n",
       "    (module): Sequential(\n",
       "      (0): DenseBlock(\n",
       "        (0): ODST(in_features=2000, num_trees=1024, depth=6, tree_dim=3, flatten_output=True)\n",
       "        (1): ODST(in_features=5072, num_trees=1024, depth=6, tree_dim=3, flatten_output=True)\n",
       "      )\n",
       "      (1): Lambda()\n",
       "    )\n",
       "  )\n",
       ")"
      ]
     },
     "execution_count": 6,
     "metadata": {},
     "output_type": "execute_result"
    }
   ],
   "source": [
    "trainer.load_checkpoint(tag='best')\n",
    "error_rate = trainer.evaluate_classification_error(data.X_test, data.y_test, device=device, batch_size=1024)\n",
    "print('Best step: ', trainer.step)\n",
    "print(\"Test Error rate: %0.5f\" % (error_rate))\n",
    "trainer.load_checkpoint()"
   ]
  },
  {
   "cell_type": "code",
   "execution_count": null,
   "metadata": {},
   "outputs": [],
   "source": []
  }
 ],
 "metadata": {
  "kernelspec": {
   "display_name": "Python 3.6.13 ('rllm2': conda)",
   "language": "python",
   "name": "python3"
  },
  "language_info": {
   "codemirror_mode": {
    "name": "ipython",
    "version": 3
   },
   "file_extension": ".py",
   "mimetype": "text/x-python",
   "name": "python",
   "nbconvert_exporter": "python",
   "pygments_lexer": "ipython3",
   "version": "3.6.13"
  },
  "vscode": {
   "interpreter": {
    "hash": "bb7ecfb3c7b4639d39960e0498dde01e823af80310b69c7dd2641d49a825550e"
   }
  }
 },
 "nbformat": 4,
 "nbformat_minor": 2
}
