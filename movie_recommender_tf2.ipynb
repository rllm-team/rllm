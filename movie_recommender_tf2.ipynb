{
 "cells": [
  {
   "cell_type": "code",
   "execution_count": 287,
   "metadata": {},
   "outputs": [],
   "source": [
    "import pandas as pd\n",
    "from sklearn.model_selection import train_test_split\n",
    "import numpy as np\n",
    "from collections import Counter\n",
    "import tensorflow as tf\n",
    "\n",
    "import os\n",
    "import pickle\n",
    "import re\n",
    "from tensorflow.python.ops import math_ops"
   ]
  },
  {
   "cell_type": "code",
   "execution_count": 288,
   "metadata": {},
   "outputs": [],
   "source": [
    "from urllib.request import urlretrieve\n",
    "from os.path import isfile, isdir\n",
    "from tqdm import tqdm\n",
    "import zipfile\n",
    "import hashlib\n",
    "\n",
    "def _unzip(save_path, _, database_name, data_path):\n",
    "    \"\"\"\n",
    "    Unzip wrapper with the same interface as _ungzip\n",
    "    :param save_path: The path of the gzip files\n",
    "    :param database_name: Name of database\n",
    "    :param data_path: Path to extract to\n",
    "    :param _: HACK - Used to have to same interface as _ungzip\n",
    "    \"\"\"\n",
    "    print('Extracting {}...'.format(database_name))\n",
    "    with zipfile.ZipFile(save_path) as zf:\n",
    "        zf.extractall(data_path)\n",
    "\n",
    "def download_extract(database_name, data_path):\n",
    "    \"\"\"\n",
    "    Download and extract database\n",
    "    :param database_name: Database name\n",
    "    \"\"\"\n",
    "    DATASET_ML1M = 'ml-1m'\n",
    "\n",
    "    if database_name == DATASET_ML1M:\n",
    "        url = 'http://files.grouplens.org/datasets/movielens/ml-1m.zip'\n",
    "        hash_code = 'c4d9eecfca2ab87c1945afe126590906'\n",
    "        extract_path = os.path.join(data_path, 'ml-1m')\n",
    "        save_path = os.path.join(data_path, 'ml-1m.zip')\n",
    "        extract_fn = _unzip\n",
    "\n",
    "    if os.path.exists(extract_path):\n",
    "        print('Found {} Data'.format(database_name))\n",
    "        return\n",
    "\n",
    "    if not os.path.exists(data_path):\n",
    "        os.makedirs(data_path)\n",
    "\n",
    "    if not os.path.exists(save_path):\n",
    "        with DLProgress(unit='B', unit_scale=True, miniters=1, desc='Downloading {}'.format(database_name)) as pbar:\n",
    "            urlretrieve(\n",
    "                url,\n",
    "                save_path,\n",
    "                pbar.hook)\n",
    "\n",
    "    assert hashlib.md5(open(save_path, 'rb').read()).hexdigest() == hash_code, \\\n",
    "        '{} file is corrupted.  Remove the file and try again.'.format(save_path)\n",
    "\n",
    "    os.makedirs(extract_path)\n",
    "    try:\n",
    "        extract_fn(save_path, extract_path, database_name, data_path)\n",
    "    except Exception as err:\n",
    "        shutil.rmtree(extract_path)  # Remove extraction folder if there is an error\n",
    "        raise err\n",
    "\n",
    "    print('Done.')\n",
    "    # Remove compressed data\n",
    "#     os.remove(save_path)\n",
    "\n",
    "class DLProgress(tqdm):\n",
    "    \"\"\"\n",
    "    Handle Progress Bar while Downloading\n",
    "    \"\"\"\n",
    "    last_block = 0\n",
    "\n",
    "    def hook(self, block_num=1, block_size=1, total_size=None):\n",
    "        \"\"\"\n",
    "        A hook function that will be called once on establishment of the network connection and\n",
    "        once after each block read thereafter.\n",
    "        :param block_num: A count of blocks transferred so far\n",
    "        :param block_size: Block size in bytes\n",
    "        :param total_size: The total size of the file. This may be -1 on older FTP servers which do not return\n",
    "                            a file size in response to a retrieval request.\n",
    "        \"\"\"\n",
    "        self.total = total_size\n",
    "        self.update((block_num - self.last_block) * block_size)\n",
    "        self.last_block = block_num"
   ]
  },
  {
   "cell_type": "code",
   "execution_count": 289,
   "metadata": {},
   "outputs": [
    {
     "name": "stdout",
     "output_type": "stream",
     "text": [
      "Found ml-1m Data\n"
     ]
    }
   ],
   "source": [
    "data_dir = './'\n",
    "download_extract('ml-1m', data_dir)"
   ]
  },
  {
   "cell_type": "code",
   "execution_count": 290,
   "metadata": {},
   "outputs": [
    {
     "data": {
      "text/html": [
       "<div>\n",
       "<style scoped>\n",
       "    .dataframe tbody tr th:only-of-type {\n",
       "        vertical-align: middle;\n",
       "    }\n",
       "\n",
       "    .dataframe tbody tr th {\n",
       "        vertical-align: top;\n",
       "    }\n",
       "\n",
       "    .dataframe thead th {\n",
       "        text-align: right;\n",
       "    }\n",
       "</style>\n",
       "<table border=\"1\" class=\"dataframe\">\n",
       "  <thead>\n",
       "    <tr style=\"text-align: right;\">\n",
       "      <th></th>\n",
       "      <th>UserID</th>\n",
       "      <th>Gender</th>\n",
       "      <th>Age</th>\n",
       "      <th>OccupationID</th>\n",
       "      <th>Zip-code</th>\n",
       "    </tr>\n",
       "  </thead>\n",
       "  <tbody>\n",
       "    <tr>\n",
       "      <th>0</th>\n",
       "      <td>1</td>\n",
       "      <td>F</td>\n",
       "      <td>1</td>\n",
       "      <td>10</td>\n",
       "      <td>48067</td>\n",
       "    </tr>\n",
       "    <tr>\n",
       "      <th>1</th>\n",
       "      <td>2</td>\n",
       "      <td>M</td>\n",
       "      <td>56</td>\n",
       "      <td>16</td>\n",
       "      <td>70072</td>\n",
       "    </tr>\n",
       "    <tr>\n",
       "      <th>2</th>\n",
       "      <td>3</td>\n",
       "      <td>M</td>\n",
       "      <td>25</td>\n",
       "      <td>15</td>\n",
       "      <td>55117</td>\n",
       "    </tr>\n",
       "    <tr>\n",
       "      <th>3</th>\n",
       "      <td>4</td>\n",
       "      <td>M</td>\n",
       "      <td>45</td>\n",
       "      <td>7</td>\n",
       "      <td>02460</td>\n",
       "    </tr>\n",
       "    <tr>\n",
       "      <th>4</th>\n",
       "      <td>5</td>\n",
       "      <td>M</td>\n",
       "      <td>25</td>\n",
       "      <td>20</td>\n",
       "      <td>55455</td>\n",
       "    </tr>\n",
       "  </tbody>\n",
       "</table>\n",
       "</div>"
      ],
      "text/plain": [
       "   UserID Gender  Age  OccupationID Zip-code\n",
       "0       1      F    1            10    48067\n",
       "1       2      M   56            16    70072\n",
       "2       3      M   25            15    55117\n",
       "3       4      M   45             7    02460\n",
       "4       5      M   25            20    55455"
      ]
     },
     "execution_count": 290,
     "metadata": {},
     "output_type": "execute_result"
    }
   ],
   "source": [
    "users_title = ['UserID', 'Gender', 'Age', 'OccupationID', 'Zip-code']\n",
    "users = pd.read_csv('D:/chrome_download/rllm-main/rllm/datasets/rel-movielens1m/regression/users.csv', header=None, names=users_title, engine = 'python',skiprows=1)\n",
    "users.head()"
   ]
  },
  {
   "cell_type": "code",
   "execution_count": 291,
   "metadata": {},
   "outputs": [
    {
     "data": {
      "text/html": [
       "<div>\n",
       "<style scoped>\n",
       "    .dataframe tbody tr th:only-of-type {\n",
       "        vertical-align: middle;\n",
       "    }\n",
       "\n",
       "    .dataframe tbody tr th {\n",
       "        vertical-align: top;\n",
       "    }\n",
       "\n",
       "    .dataframe thead th {\n",
       "        text-align: right;\n",
       "    }\n",
       "</style>\n",
       "<table border=\"1\" class=\"dataframe\">\n",
       "  <thead>\n",
       "    <tr style=\"text-align: right;\">\n",
       "      <th></th>\n",
       "      <th>MovieID</th>\n",
       "      <th>Title</th>\n",
       "      <th>Genres</th>\n",
       "    </tr>\n",
       "  </thead>\n",
       "  <tbody>\n",
       "    <tr>\n",
       "      <th>0</th>\n",
       "      <td>1</td>\n",
       "      <td>Toy Story</td>\n",
       "      <td>Animation|Children's|Comedy</td>\n",
       "    </tr>\n",
       "    <tr>\n",
       "      <th>1</th>\n",
       "      <td>2</td>\n",
       "      <td>Jumanji</td>\n",
       "      <td>Adventure|Children's|Fantasy</td>\n",
       "    </tr>\n",
       "    <tr>\n",
       "      <th>2</th>\n",
       "      <td>3</td>\n",
       "      <td>Grumpier Old Men</td>\n",
       "      <td>Comedy|Romance</td>\n",
       "    </tr>\n",
       "    <tr>\n",
       "      <th>3</th>\n",
       "      <td>4</td>\n",
       "      <td>Waiting to Exhale</td>\n",
       "      <td>Comedy|Drama</td>\n",
       "    </tr>\n",
       "    <tr>\n",
       "      <th>4</th>\n",
       "      <td>5</td>\n",
       "      <td>Father of the Bride Part II</td>\n",
       "      <td>Comedy</td>\n",
       "    </tr>\n",
       "  </tbody>\n",
       "</table>\n",
       "</div>"
      ],
      "text/plain": [
       "   MovieID                        Title                        Genres\n",
       "0        1                    Toy Story   Animation|Children's|Comedy\n",
       "1        2                      Jumanji  Adventure|Children's|Fantasy\n",
       "2        3             Grumpier Old Men                Comedy|Romance\n",
       "3        4            Waiting to Exhale                  Comedy|Drama\n",
       "4        5  Father of the Bride Part II                        Comedy"
      ]
     },
     "execution_count": 291,
     "metadata": {},
     "output_type": "execute_result"
    }
   ],
   "source": [
    "movies_title = ['MovieID', 'Title', 'Genres']\n",
    "# movies = pd.read_csv('./ml-1m/movies.dat', sep='::', header=None, names=movies_title, engine = 'python')\n",
    "movies = pd.read_csv('D:/chrome_download/rllm-main/rllm/datasets/rel-movielens1m/regression/moviess0.dat',sep=\"::\",header=None, names=movies_title, engine='python', encoding='latin1',skiprows=1)\n",
    "\n",
    "movies.head()"
   ]
  },
  {
   "cell_type": "code",
   "execution_count": 292,
   "metadata": {},
   "outputs": [
    {
     "name": "stdout",
     "output_type": "stream",
     "text": [
      "WARNING:tensorflow:Detecting that an object or model or tf.train.Checkpoint is being deleted with unrestored values. See the following logs for the specific values in question. To silence these warnings, use `status.expect_partial()`. See https://www.tensorflow.org/api_docs/python/tf/train/Checkpoint#restorefor details about the status object returned by the restore function.\n"
     ]
    },
    {
     "name": "stderr",
     "output_type": "stream",
     "text": [
      "WARNING:tensorflow:Detecting that an object or model or tf.train.Checkpoint is being deleted with unrestored values. See the following logs for the specific values in question. To silence these warnings, use `status.expect_partial()`. See https://www.tensorflow.org/api_docs/python/tf/train/Checkpoint#restorefor details about the status object returned by the restore function.\n"
     ]
    },
    {
     "name": "stdout",
     "output_type": "stream",
     "text": [
      "WARNING:tensorflow:Value in checkpoint could not be found in the restored object: (root).save_counter\n"
     ]
    },
    {
     "name": "stderr",
     "output_type": "stream",
     "text": [
      "WARNING:tensorflow:Value in checkpoint could not be found in the restored object: (root).save_counter\n"
     ]
    },
    {
     "name": "stdout",
     "output_type": "stream",
     "text": [
      "WARNING:tensorflow:Value in checkpoint could not be found in the restored object: (root).optimizer._variables.2\n"
     ]
    },
    {
     "name": "stderr",
     "output_type": "stream",
     "text": [
      "WARNING:tensorflow:Value in checkpoint could not be found in the restored object: (root).optimizer._variables.2\n"
     ]
    },
    {
     "name": "stdout",
     "output_type": "stream",
     "text": [
      "WARNING:tensorflow:Value in checkpoint could not be found in the restored object: (root).optimizer._variables.3\n"
     ]
    },
    {
     "name": "stderr",
     "output_type": "stream",
     "text": [
      "WARNING:tensorflow:Value in checkpoint could not be found in the restored object: (root).optimizer._variables.3\n"
     ]
    },
    {
     "name": "stdout",
     "output_type": "stream",
     "text": [
      "WARNING:tensorflow:Value in checkpoint could not be found in the restored object: (root).optimizer._variables.4\n"
     ]
    },
    {
     "name": "stderr",
     "output_type": "stream",
     "text": [
      "WARNING:tensorflow:Value in checkpoint could not be found in the restored object: (root).optimizer._variables.4\n"
     ]
    },
    {
     "name": "stdout",
     "output_type": "stream",
     "text": [
      "WARNING:tensorflow:Value in checkpoint could not be found in the restored object: (root).optimizer._variables.5\n"
     ]
    },
    {
     "name": "stderr",
     "output_type": "stream",
     "text": [
      "WARNING:tensorflow:Value in checkpoint could not be found in the restored object: (root).optimizer._variables.5\n"
     ]
    },
    {
     "name": "stdout",
     "output_type": "stream",
     "text": [
      "WARNING:tensorflow:Value in checkpoint could not be found in the restored object: (root).optimizer._variables.6\n"
     ]
    },
    {
     "name": "stderr",
     "output_type": "stream",
     "text": [
      "WARNING:tensorflow:Value in checkpoint could not be found in the restored object: (root).optimizer._variables.6\n"
     ]
    },
    {
     "name": "stdout",
     "output_type": "stream",
     "text": [
      "WARNING:tensorflow:Value in checkpoint could not be found in the restored object: (root).optimizer._variables.7\n"
     ]
    },
    {
     "name": "stderr",
     "output_type": "stream",
     "text": [
      "WARNING:tensorflow:Value in checkpoint could not be found in the restored object: (root).optimizer._variables.7\n"
     ]
    },
    {
     "name": "stdout",
     "output_type": "stream",
     "text": [
      "WARNING:tensorflow:Value in checkpoint could not be found in the restored object: (root).optimizer._variables.8\n"
     ]
    },
    {
     "name": "stderr",
     "output_type": "stream",
     "text": [
      "WARNING:tensorflow:Value in checkpoint could not be found in the restored object: (root).optimizer._variables.8\n"
     ]
    },
    {
     "name": "stdout",
     "output_type": "stream",
     "text": [
      "WARNING:tensorflow:Value in checkpoint could not be found in the restored object: (root).optimizer._variables.9\n"
     ]
    },
    {
     "name": "stderr",
     "output_type": "stream",
     "text": [
      "WARNING:tensorflow:Value in checkpoint could not be found in the restored object: (root).optimizer._variables.9\n"
     ]
    },
    {
     "name": "stdout",
     "output_type": "stream",
     "text": [
      "WARNING:tensorflow:Value in checkpoint could not be found in the restored object: (root).optimizer._variables.10\n"
     ]
    },
    {
     "name": "stderr",
     "output_type": "stream",
     "text": [
      "WARNING:tensorflow:Value in checkpoint could not be found in the restored object: (root).optimizer._variables.10\n"
     ]
    },
    {
     "name": "stdout",
     "output_type": "stream",
     "text": [
      "WARNING:tensorflow:Value in checkpoint could not be found in the restored object: (root).optimizer._variables.11\n"
     ]
    },
    {
     "name": "stderr",
     "output_type": "stream",
     "text": [
      "WARNING:tensorflow:Value in checkpoint could not be found in the restored object: (root).optimizer._variables.11\n"
     ]
    },
    {
     "name": "stdout",
     "output_type": "stream",
     "text": [
      "WARNING:tensorflow:Value in checkpoint could not be found in the restored object: (root).optimizer._variables.12\n"
     ]
    },
    {
     "name": "stderr",
     "output_type": "stream",
     "text": [
      "WARNING:tensorflow:Value in checkpoint could not be found in the restored object: (root).optimizer._variables.12\n"
     ]
    },
    {
     "name": "stdout",
     "output_type": "stream",
     "text": [
      "WARNING:tensorflow:Value in checkpoint could not be found in the restored object: (root).optimizer._variables.13\n"
     ]
    },
    {
     "name": "stderr",
     "output_type": "stream",
     "text": [
      "WARNING:tensorflow:Value in checkpoint could not be found in the restored object: (root).optimizer._variables.13\n"
     ]
    },
    {
     "name": "stdout",
     "output_type": "stream",
     "text": [
      "WARNING:tensorflow:Value in checkpoint could not be found in the restored object: (root).optimizer._variables.14\n"
     ]
    },
    {
     "name": "stderr",
     "output_type": "stream",
     "text": [
      "WARNING:tensorflow:Value in checkpoint could not be found in the restored object: (root).optimizer._variables.14\n"
     ]
    },
    {
     "name": "stdout",
     "output_type": "stream",
     "text": [
      "WARNING:tensorflow:Value in checkpoint could not be found in the restored object: (root).optimizer._variables.15\n"
     ]
    },
    {
     "name": "stderr",
     "output_type": "stream",
     "text": [
      "WARNING:tensorflow:Value in checkpoint could not be found in the restored object: (root).optimizer._variables.15\n"
     ]
    },
    {
     "name": "stdout",
     "output_type": "stream",
     "text": [
      "WARNING:tensorflow:Value in checkpoint could not be found in the restored object: (root).optimizer._variables.16\n"
     ]
    },
    {
     "name": "stderr",
     "output_type": "stream",
     "text": [
      "WARNING:tensorflow:Value in checkpoint could not be found in the restored object: (root).optimizer._variables.16\n"
     ]
    },
    {
     "name": "stdout",
     "output_type": "stream",
     "text": [
      "WARNING:tensorflow:Value in checkpoint could not be found in the restored object: (root).optimizer._variables.17\n"
     ]
    },
    {
     "name": "stderr",
     "output_type": "stream",
     "text": [
      "WARNING:tensorflow:Value in checkpoint could not be found in the restored object: (root).optimizer._variables.17\n"
     ]
    },
    {
     "name": "stdout",
     "output_type": "stream",
     "text": [
      "WARNING:tensorflow:Value in checkpoint could not be found in the restored object: (root).optimizer._variables.18\n"
     ]
    },
    {
     "name": "stderr",
     "output_type": "stream",
     "text": [
      "WARNING:tensorflow:Value in checkpoint could not be found in the restored object: (root).optimizer._variables.18\n"
     ]
    },
    {
     "name": "stdout",
     "output_type": "stream",
     "text": [
      "WARNING:tensorflow:Value in checkpoint could not be found in the restored object: (root).optimizer._variables.19\n"
     ]
    },
    {
     "name": "stderr",
     "output_type": "stream",
     "text": [
      "WARNING:tensorflow:Value in checkpoint could not be found in the restored object: (root).optimizer._variables.19\n"
     ]
    },
    {
     "name": "stdout",
     "output_type": "stream",
     "text": [
      "WARNING:tensorflow:Value in checkpoint could not be found in the restored object: (root).optimizer._variables.20\n"
     ]
    },
    {
     "name": "stderr",
     "output_type": "stream",
     "text": [
      "WARNING:tensorflow:Value in checkpoint could not be found in the restored object: (root).optimizer._variables.20\n"
     ]
    },
    {
     "name": "stdout",
     "output_type": "stream",
     "text": [
      "WARNING:tensorflow:Value in checkpoint could not be found in the restored object: (root).optimizer._variables.21\n"
     ]
    },
    {
     "name": "stderr",
     "output_type": "stream",
     "text": [
      "WARNING:tensorflow:Value in checkpoint could not be found in the restored object: (root).optimizer._variables.21\n"
     ]
    },
    {
     "name": "stdout",
     "output_type": "stream",
     "text": [
      "WARNING:tensorflow:Value in checkpoint could not be found in the restored object: (root).optimizer._variables.22\n"
     ]
    },
    {
     "name": "stderr",
     "output_type": "stream",
     "text": [
      "WARNING:tensorflow:Value in checkpoint could not be found in the restored object: (root).optimizer._variables.22\n"
     ]
    },
    {
     "name": "stdout",
     "output_type": "stream",
     "text": [
      "WARNING:tensorflow:Value in checkpoint could not be found in the restored object: (root).optimizer._variables.23\n"
     ]
    },
    {
     "name": "stderr",
     "output_type": "stream",
     "text": [
      "WARNING:tensorflow:Value in checkpoint could not be found in the restored object: (root).optimizer._variables.23\n"
     ]
    },
    {
     "name": "stdout",
     "output_type": "stream",
     "text": [
      "WARNING:tensorflow:Value in checkpoint could not be found in the restored object: (root).optimizer._variables.24\n"
     ]
    },
    {
     "name": "stderr",
     "output_type": "stream",
     "text": [
      "WARNING:tensorflow:Value in checkpoint could not be found in the restored object: (root).optimizer._variables.24\n"
     ]
    },
    {
     "name": "stdout",
     "output_type": "stream",
     "text": [
      "WARNING:tensorflow:Value in checkpoint could not be found in the restored object: (root).optimizer._variables.25\n"
     ]
    },
    {
     "name": "stderr",
     "output_type": "stream",
     "text": [
      "WARNING:tensorflow:Value in checkpoint could not be found in the restored object: (root).optimizer._variables.25\n"
     ]
    },
    {
     "name": "stdout",
     "output_type": "stream",
     "text": [
      "WARNING:tensorflow:Value in checkpoint could not be found in the restored object: (root).optimizer._variables.26\n"
     ]
    },
    {
     "name": "stderr",
     "output_type": "stream",
     "text": [
      "WARNING:tensorflow:Value in checkpoint could not be found in the restored object: (root).optimizer._variables.26\n"
     ]
    },
    {
     "name": "stdout",
     "output_type": "stream",
     "text": [
      "WARNING:tensorflow:Value in checkpoint could not be found in the restored object: (root).optimizer._variables.27\n"
     ]
    },
    {
     "name": "stderr",
     "output_type": "stream",
     "text": [
      "WARNING:tensorflow:Value in checkpoint could not be found in the restored object: (root).optimizer._variables.27\n"
     ]
    },
    {
     "name": "stdout",
     "output_type": "stream",
     "text": [
      "WARNING:tensorflow:Value in checkpoint could not be found in the restored object: (root).optimizer._variables.28\n"
     ]
    },
    {
     "name": "stderr",
     "output_type": "stream",
     "text": [
      "WARNING:tensorflow:Value in checkpoint could not be found in the restored object: (root).optimizer._variables.28\n"
     ]
    },
    {
     "name": "stdout",
     "output_type": "stream",
     "text": [
      "WARNING:tensorflow:Value in checkpoint could not be found in the restored object: (root).optimizer._variables.29\n"
     ]
    },
    {
     "name": "stderr",
     "output_type": "stream",
     "text": [
      "WARNING:tensorflow:Value in checkpoint could not be found in the restored object: (root).optimizer._variables.29\n"
     ]
    },
    {
     "name": "stdout",
     "output_type": "stream",
     "text": [
      "WARNING:tensorflow:Value in checkpoint could not be found in the restored object: (root).optimizer._variables.30\n"
     ]
    },
    {
     "name": "stderr",
     "output_type": "stream",
     "text": [
      "WARNING:tensorflow:Value in checkpoint could not be found in the restored object: (root).optimizer._variables.30\n"
     ]
    },
    {
     "name": "stdout",
     "output_type": "stream",
     "text": [
      "WARNING:tensorflow:Value in checkpoint could not be found in the restored object: (root).optimizer._variables.31\n"
     ]
    },
    {
     "name": "stderr",
     "output_type": "stream",
     "text": [
      "WARNING:tensorflow:Value in checkpoint could not be found in the restored object: (root).optimizer._variables.31\n"
     ]
    },
    {
     "name": "stdout",
     "output_type": "stream",
     "text": [
      "WARNING:tensorflow:Value in checkpoint could not be found in the restored object: (root).optimizer._variables.32\n"
     ]
    },
    {
     "name": "stderr",
     "output_type": "stream",
     "text": [
      "WARNING:tensorflow:Value in checkpoint could not be found in the restored object: (root).optimizer._variables.32\n"
     ]
    },
    {
     "name": "stdout",
     "output_type": "stream",
     "text": [
      "WARNING:tensorflow:Value in checkpoint could not be found in the restored object: (root).optimizer._variables.33\n"
     ]
    },
    {
     "name": "stderr",
     "output_type": "stream",
     "text": [
      "WARNING:tensorflow:Value in checkpoint could not be found in the restored object: (root).optimizer._variables.33\n"
     ]
    },
    {
     "name": "stdout",
     "output_type": "stream",
     "text": [
      "WARNING:tensorflow:Value in checkpoint could not be found in the restored object: (root).optimizer._variables.34\n"
     ]
    },
    {
     "name": "stderr",
     "output_type": "stream",
     "text": [
      "WARNING:tensorflow:Value in checkpoint could not be found in the restored object: (root).optimizer._variables.34\n"
     ]
    },
    {
     "name": "stdout",
     "output_type": "stream",
     "text": [
      "WARNING:tensorflow:Value in checkpoint could not be found in the restored object: (root).optimizer._variables.35\n"
     ]
    },
    {
     "name": "stderr",
     "output_type": "stream",
     "text": [
      "WARNING:tensorflow:Value in checkpoint could not be found in the restored object: (root).optimizer._variables.35\n"
     ]
    },
    {
     "name": "stdout",
     "output_type": "stream",
     "text": [
      "WARNING:tensorflow:Value in checkpoint could not be found in the restored object: (root).optimizer._variables.36\n"
     ]
    },
    {
     "name": "stderr",
     "output_type": "stream",
     "text": [
      "WARNING:tensorflow:Value in checkpoint could not be found in the restored object: (root).optimizer._variables.36\n"
     ]
    },
    {
     "name": "stdout",
     "output_type": "stream",
     "text": [
      "WARNING:tensorflow:Value in checkpoint could not be found in the restored object: (root).optimizer._variables.37\n"
     ]
    },
    {
     "name": "stderr",
     "output_type": "stream",
     "text": [
      "WARNING:tensorflow:Value in checkpoint could not be found in the restored object: (root).optimizer._variables.37\n"
     ]
    },
    {
     "name": "stdout",
     "output_type": "stream",
     "text": [
      "WARNING:tensorflow:Value in checkpoint could not be found in the restored object: (root).optimizer._variables.38\n"
     ]
    },
    {
     "name": "stderr",
     "output_type": "stream",
     "text": [
      "WARNING:tensorflow:Value in checkpoint could not be found in the restored object: (root).optimizer._variables.38\n"
     ]
    },
    {
     "name": "stdout",
     "output_type": "stream",
     "text": [
      "WARNING:tensorflow:Value in checkpoint could not be found in the restored object: (root).optimizer._variables.39\n"
     ]
    },
    {
     "name": "stderr",
     "output_type": "stream",
     "text": [
      "WARNING:tensorflow:Value in checkpoint could not be found in the restored object: (root).optimizer._variables.39\n"
     ]
    },
    {
     "name": "stdout",
     "output_type": "stream",
     "text": [
      "WARNING:tensorflow:Value in checkpoint could not be found in the restored object: (root).optimizer._variables.40\n"
     ]
    },
    {
     "name": "stderr",
     "output_type": "stream",
     "text": [
      "WARNING:tensorflow:Value in checkpoint could not be found in the restored object: (root).optimizer._variables.40\n"
     ]
    },
    {
     "name": "stdout",
     "output_type": "stream",
     "text": [
      "WARNING:tensorflow:Value in checkpoint could not be found in the restored object: (root).optimizer._variables.41\n"
     ]
    },
    {
     "name": "stderr",
     "output_type": "stream",
     "text": [
      "WARNING:tensorflow:Value in checkpoint could not be found in the restored object: (root).optimizer._variables.41\n"
     ]
    },
    {
     "name": "stdout",
     "output_type": "stream",
     "text": [
      "WARNING:tensorflow:Value in checkpoint could not be found in the restored object: (root).optimizer._variables.42\n"
     ]
    },
    {
     "name": "stderr",
     "output_type": "stream",
     "text": [
      "WARNING:tensorflow:Value in checkpoint could not be found in the restored object: (root).optimizer._variables.42\n"
     ]
    },
    {
     "name": "stdout",
     "output_type": "stream",
     "text": [
      "WARNING:tensorflow:Value in checkpoint could not be found in the restored object: (root).optimizer._variables.43\n"
     ]
    },
    {
     "name": "stderr",
     "output_type": "stream",
     "text": [
      "WARNING:tensorflow:Value in checkpoint could not be found in the restored object: (root).optimizer._variables.43\n"
     ]
    },
    {
     "name": "stdout",
     "output_type": "stream",
     "text": [
      "WARNING:tensorflow:Value in checkpoint could not be found in the restored object: (root).optimizer._variables.44\n"
     ]
    },
    {
     "name": "stderr",
     "output_type": "stream",
     "text": [
      "WARNING:tensorflow:Value in checkpoint could not be found in the restored object: (root).optimizer._variables.44\n"
     ]
    },
    {
     "name": "stdout",
     "output_type": "stream",
     "text": [
      "WARNING:tensorflow:Value in checkpoint could not be found in the restored object: (root).optimizer._variables.45\n"
     ]
    },
    {
     "name": "stderr",
     "output_type": "stream",
     "text": [
      "WARNING:tensorflow:Value in checkpoint could not be found in the restored object: (root).optimizer._variables.45\n"
     ]
    },
    {
     "name": "stdout",
     "output_type": "stream",
     "text": [
      "WARNING:tensorflow:Value in checkpoint could not be found in the restored object: (root).optimizer._variables.46\n"
     ]
    },
    {
     "name": "stderr",
     "output_type": "stream",
     "text": [
      "WARNING:tensorflow:Value in checkpoint could not be found in the restored object: (root).optimizer._variables.46\n"
     ]
    },
    {
     "name": "stdout",
     "output_type": "stream",
     "text": [
      "WARNING:tensorflow:Value in checkpoint could not be found in the restored object: (root).optimizer._variables.47\n"
     ]
    },
    {
     "name": "stderr",
     "output_type": "stream",
     "text": [
      "WARNING:tensorflow:Value in checkpoint could not be found in the restored object: (root).optimizer._variables.47\n"
     ]
    },
    {
     "name": "stdout",
     "output_type": "stream",
     "text": [
      "WARNING:tensorflow:Value in checkpoint could not be found in the restored object: (root).optimizer._variables.48\n"
     ]
    },
    {
     "name": "stderr",
     "output_type": "stream",
     "text": [
      "WARNING:tensorflow:Value in checkpoint could not be found in the restored object: (root).optimizer._variables.48\n"
     ]
    },
    {
     "name": "stdout",
     "output_type": "stream",
     "text": [
      "WARNING:tensorflow:Value in checkpoint could not be found in the restored object: (root).optimizer._variables.49\n"
     ]
    },
    {
     "name": "stderr",
     "output_type": "stream",
     "text": [
      "WARNING:tensorflow:Value in checkpoint could not be found in the restored object: (root).optimizer._variables.49\n"
     ]
    },
    {
     "name": "stdout",
     "output_type": "stream",
     "text": [
      "WARNING:tensorflow:Value in checkpoint could not be found in the restored object: (root).optimizer._variables.50\n"
     ]
    },
    {
     "name": "stderr",
     "output_type": "stream",
     "text": [
      "WARNING:tensorflow:Value in checkpoint could not be found in the restored object: (root).optimizer._variables.50\n"
     ]
    },
    {
     "name": "stdout",
     "output_type": "stream",
     "text": [
      "WARNING:tensorflow:Value in checkpoint could not be found in the restored object: (root).optimizer._variables.51\n"
     ]
    },
    {
     "name": "stderr",
     "output_type": "stream",
     "text": [
      "WARNING:tensorflow:Value in checkpoint could not be found in the restored object: (root).optimizer._variables.51\n"
     ]
    },
    {
     "name": "stdout",
     "output_type": "stream",
     "text": [
      "WARNING:tensorflow:Value in checkpoint could not be found in the restored object: (root).optimizer._variables.52\n"
     ]
    },
    {
     "name": "stderr",
     "output_type": "stream",
     "text": [
      "WARNING:tensorflow:Value in checkpoint could not be found in the restored object: (root).optimizer._variables.52\n"
     ]
    },
    {
     "name": "stdout",
     "output_type": "stream",
     "text": [
      "WARNING:tensorflow:Value in checkpoint could not be found in the restored object: (root).optimizer._variables.53\n"
     ]
    },
    {
     "name": "stderr",
     "output_type": "stream",
     "text": [
      "WARNING:tensorflow:Value in checkpoint could not be found in the restored object: (root).optimizer._variables.53\n"
     ]
    },
    {
     "name": "stdout",
     "output_type": "stream",
     "text": [
      "WARNING:tensorflow:Value in checkpoint could not be found in the restored object: (root).optimizer._variables.54\n"
     ]
    },
    {
     "name": "stderr",
     "output_type": "stream",
     "text": [
      "WARNING:tensorflow:Value in checkpoint could not be found in the restored object: (root).optimizer._variables.54\n"
     ]
    },
    {
     "name": "stdout",
     "output_type": "stream",
     "text": [
      "WARNING:tensorflow:Value in checkpoint could not be found in the restored object: (root).optimizer._variables.55\n"
     ]
    },
    {
     "name": "stderr",
     "output_type": "stream",
     "text": [
      "WARNING:tensorflow:Value in checkpoint could not be found in the restored object: (root).optimizer._variables.55\n"
     ]
    },
    {
     "name": "stdout",
     "output_type": "stream",
     "text": [
      "WARNING:tensorflow:Value in checkpoint could not be found in the restored object: (root).optimizer._variables.56\n"
     ]
    },
    {
     "name": "stderr",
     "output_type": "stream",
     "text": [
      "WARNING:tensorflow:Value in checkpoint could not be found in the restored object: (root).optimizer._variables.56\n"
     ]
    },
    {
     "name": "stdout",
     "output_type": "stream",
     "text": [
      "WARNING:tensorflow:Value in checkpoint could not be found in the restored object: (root).optimizer._variables.57\n"
     ]
    },
    {
     "name": "stderr",
     "output_type": "stream",
     "text": [
      "WARNING:tensorflow:Value in checkpoint could not be found in the restored object: (root).optimizer._variables.57\n"
     ]
    },
    {
     "name": "stdout",
     "output_type": "stream",
     "text": [
      "WARNING:tensorflow:Value in checkpoint could not be found in the restored object: (root).optimizer._variables.58\n"
     ]
    },
    {
     "name": "stderr",
     "output_type": "stream",
     "text": [
      "WARNING:tensorflow:Value in checkpoint could not be found in the restored object: (root).optimizer._variables.58\n"
     ]
    },
    {
     "name": "stdout",
     "output_type": "stream",
     "text": [
      "WARNING:tensorflow:Value in checkpoint could not be found in the restored object: (root).optimizer._variables.59\n"
     ]
    },
    {
     "name": "stderr",
     "output_type": "stream",
     "text": [
      "WARNING:tensorflow:Value in checkpoint could not be found in the restored object: (root).optimizer._variables.59\n"
     ]
    },
    {
     "name": "stdout",
     "output_type": "stream",
     "text": [
      "WARNING:tensorflow:Value in checkpoint could not be found in the restored object: (root).optimizer._variables.60\n"
     ]
    },
    {
     "name": "stderr",
     "output_type": "stream",
     "text": [
      "WARNING:tensorflow:Value in checkpoint could not be found in the restored object: (root).optimizer._variables.60\n"
     ]
    },
    {
     "name": "stdout",
     "output_type": "stream",
     "text": [
      "WARNING:tensorflow:Value in checkpoint could not be found in the restored object: (root).optimizer._variables.61\n"
     ]
    },
    {
     "name": "stderr",
     "output_type": "stream",
     "text": [
      "WARNING:tensorflow:Value in checkpoint could not be found in the restored object: (root).optimizer._variables.61\n"
     ]
    },
    {
     "name": "stdout",
     "output_type": "stream",
     "text": [
      "WARNING:tensorflow:Value in checkpoint could not be found in the restored object: (root).optimizer._variables.62\n"
     ]
    },
    {
     "name": "stderr",
     "output_type": "stream",
     "text": [
      "WARNING:tensorflow:Value in checkpoint could not be found in the restored object: (root).optimizer._variables.62\n"
     ]
    },
    {
     "name": "stdout",
     "output_type": "stream",
     "text": [
      "WARNING:tensorflow:Value in checkpoint could not be found in the restored object: (root).optimizer._variables.63\n"
     ]
    },
    {
     "name": "stderr",
     "output_type": "stream",
     "text": [
      "WARNING:tensorflow:Value in checkpoint could not be found in the restored object: (root).optimizer._variables.63\n"
     ]
    },
    {
     "data": {
      "text/html": [
       "<div>\n",
       "<style scoped>\n",
       "    .dataframe tbody tr th:only-of-type {\n",
       "        vertical-align: middle;\n",
       "    }\n",
       "\n",
       "    .dataframe tbody tr th {\n",
       "        vertical-align: top;\n",
       "    }\n",
       "\n",
       "    .dataframe thead th {\n",
       "        text-align: right;\n",
       "    }\n",
       "</style>\n",
       "<table border=\"1\" class=\"dataframe\">\n",
       "  <thead>\n",
       "    <tr style=\"text-align: right;\">\n",
       "      <th></th>\n",
       "      <th>UserID</th>\n",
       "      <th>MovieID</th>\n",
       "      <th>Rating</th>\n",
       "      <th>timestamps</th>\n",
       "    </tr>\n",
       "  </thead>\n",
       "  <tbody>\n",
       "    <tr>\n",
       "      <th>0</th>\n",
       "      <td>6040</td>\n",
       "      <td>858</td>\n",
       "      <td>4</td>\n",
       "      <td>956703932</td>\n",
       "    </tr>\n",
       "    <tr>\n",
       "      <th>1</th>\n",
       "      <td>6040</td>\n",
       "      <td>2384</td>\n",
       "      <td>4</td>\n",
       "      <td>956703954</td>\n",
       "    </tr>\n",
       "    <tr>\n",
       "      <th>2</th>\n",
       "      <td>6040</td>\n",
       "      <td>593</td>\n",
       "      <td>5</td>\n",
       "      <td>956703954</td>\n",
       "    </tr>\n",
       "    <tr>\n",
       "      <th>3</th>\n",
       "      <td>6040</td>\n",
       "      <td>1961</td>\n",
       "      <td>4</td>\n",
       "      <td>956703977</td>\n",
       "    </tr>\n",
       "    <tr>\n",
       "      <th>4</th>\n",
       "      <td>6040</td>\n",
       "      <td>2019</td>\n",
       "      <td>5</td>\n",
       "      <td>956703977</td>\n",
       "    </tr>\n",
       "  </tbody>\n",
       "</table>\n",
       "</div>"
      ],
      "text/plain": [
       "   UserID  MovieID  Rating  timestamps\n",
       "0    6040      858       4   956703932\n",
       "1    6040     2384       4   956703954\n",
       "2    6040      593       5   956703954\n",
       "3    6040     1961       4   956703977\n",
       "4    6040     2019       5   956703977"
      ]
     },
     "execution_count": 292,
     "metadata": {},
     "output_type": "execute_result"
    }
   ],
   "source": [
    "ratings_title = ['UserID','MovieID', 'Rating', 'timestamps']\n",
    "ratings = pd.read_csv('D:/chrome_download/rllm-main/rllm/datasets/rel-movielens1m/regression/ratings/train.csv',  header=None, names=ratings_title, engine = 'python',skiprows=1)\n",
    "ratings.head()"
   ]
  },
  {
   "cell_type": "code",
   "execution_count": 293,
   "metadata": {},
   "outputs": [],
   "source": [
    "def load_data():\n",
    "    \"\"\"\n",
    "    Load Dataset from File\n",
    "    \"\"\"\n",
    "    #读取User数据\n",
    "    users_title = ['UserID', 'Gender', 'Age', 'JobID', 'Zip-code']\n",
    "    users = pd.read_csv('D:/chrome_download/rllm-main/rllm/datasets/rel-movielens1m/regression/users.csv', header=None, names=users_title, engine = 'python',skiprows=1)\n",
    "\n",
    "    users = users.filter(regex='UserID|Gender|Age|JobID')\n",
    "    users_orig = users.values\n",
    "    #改变User数据中性别和年龄\n",
    "    gender_map = {'F':0, 'M':1}\n",
    "    users['Gender'] = users['Gender'].map(gender_map)\n",
    "\n",
    "    age_map = {val:ii for ii,val in enumerate(set(users['Age']))}\n",
    "    users['Age'] = users['Age'].map(age_map)\n",
    "\n",
    "    #读取Movie数据集\n",
    "    movies_title = ['MovieID', 'Title', 'Genres']\n",
    "    # movies = pd.read_csv('./ml-1m/movies.dat', sep='::', header=None, names=movies_title, engine = 'python')\n",
    "    movies = pd.read_csv('D:/chrome_download/rllm-main/rllm/datasets/rel-movielens1m/regression/moviess0.dat',sep=\"::\",header=None, names=movies_title, engine='python', encoding='latin1',skiprows=1)\n",
    "\n",
    "    movies_orig = movies.values\n",
    "    # #将Title中的年份去掉\n",
    "    # pattern = re.compile(r'^(.*)\\((\\d+)\\)$')\n",
    "\n",
    "    # title_map = {val:pattern.match(val).group(1) for ii,val in enumerate(set(movies['Title']))}\n",
    "    # movies['Title'] = movies['Title'].map(title_map)\n",
    "\n",
    "    #电影类型转数字字典\n",
    "    genres_set = set()\n",
    "    for val in movies['Genres'].str.split('|'):\n",
    "        genres_set.update(val)\n",
    "\n",
    "    genres_set.add('<PAD>')\n",
    "    genres2int = {val:ii for ii, val in enumerate(genres_set)}\n",
    "\n",
    "    #将电影类型转成等长数字列表，长度是18\n",
    "    genres_map = {val:[genres2int[row] for row in val.split('|')] for ii,val in enumerate(set(movies['Genres']))}\n",
    "\n",
    "    for key in genres_map:\n",
    "        for cnt in range(max(genres2int.values()) - len(genres_map[key])):\n",
    "            genres_map[key].insert(len(genres_map[key]) + cnt,genres2int['<PAD>'])\n",
    "    \n",
    "    movies['Genres'] = movies['Genres'].map(genres_map)\n",
    "\n",
    "    #电影Title转数字字典\n",
    "    title_set = set()\n",
    "    for val in movies['Title'].str.split():\n",
    "        title_set.update(val)\n",
    "    \n",
    "    title_set.add('<PAD>')\n",
    "    title2int = {val:ii for ii, val in enumerate(title_set)}\n",
    "\n",
    "    #将电影Title转成等长数字列表，长度是15\n",
    "    title_count = 15\n",
    "    title_map = {val:[title2int[row] for row in val.split()] for ii,val in enumerate(set(movies['Title']))}\n",
    "    \n",
    "    for key in title_map:\n",
    "        for cnt in range(title_count - len(title_map[key])):\n",
    "            title_map[key].insert(len(title_map[key]) + cnt,title2int['<PAD>'])\n",
    "    \n",
    "    movies['Title'] = movies['Title'].map(title_map)\n",
    "\n",
    "    #读取评分数据集\n",
    "    ratings_title = ['UserID','MovieID', 'ratings', 'timestamps']\n",
    "    ratings = pd.read_csv('D:/chrome_download/rllm-main/rllm/datasets/rel-movielens1m/regression/ratings/train.csv',  header=None, names=ratings_title, engine = 'python',skiprows=1)\n",
    "    ratings = ratings.filter(regex='UserID|MovieID|ratings')\n",
    "\n",
    "    #合并三个表\n",
    "    data = pd.merge(pd.merge(ratings, users), movies)\n",
    "    \n",
    "    #将数据分成X和y两张表\n",
    "    target_fields = ['ratings']\n",
    "    features_pd, targets_pd = data.drop(target_fields, axis=1), data[target_fields]\n",
    "    \n",
    "    features = features_pd.values\n",
    "    targets_values = targets_pd.values\n",
    "    \n",
    "    return title_count, title_set, genres2int, features, targets_values, ratings, users, movies, data, movies_orig, users_orig"
   ]
  },
  {
   "cell_type": "code",
   "execution_count": 294,
   "metadata": {},
   "outputs": [],
   "source": [
    "title_count, title_set, genres2int, features, targets_values, ratings, users, movies, data, movies_orig, users_orig = load_data()\n",
    "\n",
    "pickle.dump((title_count, title_set, genres2int, features, targets_values, ratings, users, movies, data, movies_orig, users_orig), open('preprocess.p', 'wb'))"
   ]
  },
  {
   "cell_type": "code",
   "execution_count": 295,
   "metadata": {},
   "outputs": [
    {
     "data": {
      "text/html": [
       "<div>\n",
       "<style scoped>\n",
       "    .dataframe tbody tr th:only-of-type {\n",
       "        vertical-align: middle;\n",
       "    }\n",
       "\n",
       "    .dataframe tbody tr th {\n",
       "        vertical-align: top;\n",
       "    }\n",
       "\n",
       "    .dataframe thead th {\n",
       "        text-align: right;\n",
       "    }\n",
       "</style>\n",
       "<table border=\"1\" class=\"dataframe\">\n",
       "  <thead>\n",
       "    <tr style=\"text-align: right;\">\n",
       "      <th></th>\n",
       "      <th>UserID</th>\n",
       "      <th>Gender</th>\n",
       "      <th>Age</th>\n",
       "      <th>JobID</th>\n",
       "    </tr>\n",
       "  </thead>\n",
       "  <tbody>\n",
       "    <tr>\n",
       "      <th>0</th>\n",
       "      <td>1</td>\n",
       "      <td>0</td>\n",
       "      <td>0</td>\n",
       "      <td>10</td>\n",
       "    </tr>\n",
       "    <tr>\n",
       "      <th>1</th>\n",
       "      <td>2</td>\n",
       "      <td>1</td>\n",
       "      <td>5</td>\n",
       "      <td>16</td>\n",
       "    </tr>\n",
       "    <tr>\n",
       "      <th>2</th>\n",
       "      <td>3</td>\n",
       "      <td>1</td>\n",
       "      <td>6</td>\n",
       "      <td>15</td>\n",
       "    </tr>\n",
       "    <tr>\n",
       "      <th>3</th>\n",
       "      <td>4</td>\n",
       "      <td>1</td>\n",
       "      <td>2</td>\n",
       "      <td>7</td>\n",
       "    </tr>\n",
       "    <tr>\n",
       "      <th>4</th>\n",
       "      <td>5</td>\n",
       "      <td>1</td>\n",
       "      <td>6</td>\n",
       "      <td>20</td>\n",
       "    </tr>\n",
       "  </tbody>\n",
       "</table>\n",
       "</div>"
      ],
      "text/plain": [
       "   UserID  Gender  Age  JobID\n",
       "0       1       0    0     10\n",
       "1       2       1    5     16\n",
       "2       3       1    6     15\n",
       "3       4       1    2      7\n",
       "4       5       1    6     20"
      ]
     },
     "execution_count": 295,
     "metadata": {},
     "output_type": "execute_result"
    }
   ],
   "source": [
    "users.head()"
   ]
  },
  {
   "cell_type": "code",
   "execution_count": 296,
   "metadata": {},
   "outputs": [
    {
     "data": {
      "text/html": [
       "<div>\n",
       "<style scoped>\n",
       "    .dataframe tbody tr th:only-of-type {\n",
       "        vertical-align: middle;\n",
       "    }\n",
       "\n",
       "    .dataframe tbody tr th {\n",
       "        vertical-align: top;\n",
       "    }\n",
       "\n",
       "    .dataframe thead th {\n",
       "        text-align: right;\n",
       "    }\n",
       "</style>\n",
       "<table border=\"1\" class=\"dataframe\">\n",
       "  <thead>\n",
       "    <tr style=\"text-align: right;\">\n",
       "      <th></th>\n",
       "      <th>MovieID</th>\n",
       "      <th>Title</th>\n",
       "      <th>Genres</th>\n",
       "    </tr>\n",
       "  </thead>\n",
       "  <tbody>\n",
       "    <tr>\n",
       "      <th>0</th>\n",
       "      <td>1</td>\n",
       "      <td>[3900, 4557, 897, 897, 897, 897, 897, 897, 897...</td>\n",
       "      <td>[22, 42, 41, 6, 6, 6, 6, 6, 6, 6, 6, 6, 6, 6, ...</td>\n",
       "    </tr>\n",
       "    <tr>\n",
       "      <th>1</th>\n",
       "      <td>2</td>\n",
       "      <td>[387, 897, 897, 897, 897, 897, 897, 897, 897, ...</td>\n",
       "      <td>[37, 42, 45, 6, 6, 6, 6, 6, 6, 6, 6, 6, 6, 6, ...</td>\n",
       "    </tr>\n",
       "    <tr>\n",
       "      <th>2</th>\n",
       "      <td>3</td>\n",
       "      <td>[5075, 798, 84, 897, 897, 897, 897, 897, 897, ...</td>\n",
       "      <td>[41, 31, 6, 6, 6, 6, 6, 6, 6, 6, 6, 6, 6, 6, 6...</td>\n",
       "    </tr>\n",
       "    <tr>\n",
       "      <th>3</th>\n",
       "      <td>4</td>\n",
       "      <td>[4386, 3734, 3526, 897, 897, 897, 897, 897, 89...</td>\n",
       "      <td>[41, 3, 6, 6, 6, 6, 6, 6, 6, 6, 6, 6, 6, 6, 6,...</td>\n",
       "    </tr>\n",
       "    <tr>\n",
       "      <th>4</th>\n",
       "      <td>5</td>\n",
       "      <td>[2813, 120, 2713, 1176, 5080, 4713, 897, 897, ...</td>\n",
       "      <td>[41, 6, 6, 6, 6, 6, 6, 6, 6, 6, 6, 6, 6, 6, 6,...</td>\n",
       "    </tr>\n",
       "  </tbody>\n",
       "</table>\n",
       "</div>"
      ],
      "text/plain": [
       "   MovieID                                              Title  \\\n",
       "0        1  [3900, 4557, 897, 897, 897, 897, 897, 897, 897...   \n",
       "1        2  [387, 897, 897, 897, 897, 897, 897, 897, 897, ...   \n",
       "2        3  [5075, 798, 84, 897, 897, 897, 897, 897, 897, ...   \n",
       "3        4  [4386, 3734, 3526, 897, 897, 897, 897, 897, 89...   \n",
       "4        5  [2813, 120, 2713, 1176, 5080, 4713, 897, 897, ...   \n",
       "\n",
       "                                              Genres  \n",
       "0  [22, 42, 41, 6, 6, 6, 6, 6, 6, 6, 6, 6, 6, 6, ...  \n",
       "1  [37, 42, 45, 6, 6, 6, 6, 6, 6, 6, 6, 6, 6, 6, ...  \n",
       "2  [41, 31, 6, 6, 6, 6, 6, 6, 6, 6, 6, 6, 6, 6, 6...  \n",
       "3  [41, 3, 6, 6, 6, 6, 6, 6, 6, 6, 6, 6, 6, 6, 6,...  \n",
       "4  [41, 6, 6, 6, 6, 6, 6, 6, 6, 6, 6, 6, 6, 6, 6,...  "
      ]
     },
     "execution_count": 296,
     "metadata": {},
     "output_type": "execute_result"
    }
   ],
   "source": [
    "movies.head()"
   ]
  },
  {
   "cell_type": "code",
   "execution_count": 297,
   "metadata": {},
   "outputs": [
    {
     "data": {
      "text/plain": [
       "array([1,\n",
       "       list([3900, 4557, 897, 897, 897, 897, 897, 897, 897, 897, 897, 897, 897, 897, 897]),\n",
       "       list([22, 42, 41, 6, 6, 6, 6, 6, 6, 6, 6, 6, 6, 6, 6, 6, 6, 6, 6, 6, 6, 6, 6, 6, 6, 6, 6, 6, 6, 6, 6, 6, 6, 6, 6, 6, 6, 6, 6, 6, 6, 6, 6, 6, 6, 6, 6, 6, 6, 6, 6])],\n",
       "      dtype=object)"
      ]
     },
     "execution_count": 297,
     "metadata": {},
     "output_type": "execute_result"
    }
   ],
   "source": [
    "movies.values[0]"
   ]
  },
  {
   "cell_type": "code",
   "execution_count": 298,
   "metadata": {
    "collapsed": true
   },
   "outputs": [],
   "source": [
    "title_count, title_set, genres2int, features, targets_values, ratings, users, movies, data, movies_orig, users_orig = pickle.load(open('preprocess.p', mode='rb'))"
   ]
  },
  {
   "cell_type": "code",
   "execution_count": 299,
   "metadata": {},
   "outputs": [],
   "source": [
    "import tensorflow as tf\n",
    "import os\n",
    "import pickle\n",
    "\n",
    "def save_params(params):\n",
    "    \"\"\"\n",
    "    Save parameters to file\n",
    "    \"\"\"\n",
    "    pickle.dump(params, open('params.p', 'wb'))\n",
    "\n",
    "\n",
    "def load_params():\n",
    "    \"\"\"\n",
    "    Load parameters from file\n",
    "    \"\"\"\n",
    "    return pickle.load(open('params.p', mode='rb'))\n"
   ]
  },
  {
   "cell_type": "code",
   "execution_count": 300,
   "metadata": {},
   "outputs": [
    {
     "name": "stdout",
     "output_type": "stream",
     "text": [
      "3953\n"
     ]
    }
   ],
   "source": [
    "#嵌入矩阵的维度\n",
    "embed_dim = 32\n",
    "#用户ID个数\n",
    "uid_max = max(features.take(0,1)) + 1 # 6040\n",
    "#性别个数\n",
    "gender_max = max(features.take(2,1)) + 1 # 1 + 1 = 2\n",
    "#年龄类别个数\n",
    "age_max = max(features.take(3,1)) + 1 # 6 + 1 = 7\n",
    "#职业个数\n",
    "job_max = max(features.take(4,1)) + 1# 20 + 1 = 21\n",
    "\n",
    "#电影ID个数\n",
    "movie_id_max = max(features.take(1,1)) + 1 # 3952\n",
    "print(movie_id_max)\n",
    "#电影类型个数\n",
    "movie_categories_max = max(genres2int.values()) + 1 # 18 + 1 = 19\n",
    "#电影名单词个数\n",
    "movie_title_max = len(title_set) # 5216\n",
    "\n",
    "#对电影类型嵌入向量做加和操作的标志，考虑过使用mean做平均，但是没实现mean\n",
    "combiner = \"sum\"\n",
    "\n",
    "#电影名长度\n",
    "sentences_size = title_count # = 15\n",
    "#文本卷积滑动窗口，分别滑动2, 3, 4, 5个单词\n",
    "window_sizes = {2, 3, 4, 5}\n",
    "#文本卷积核数量\n",
    "filter_num = 8\n",
    "\n",
    "#电影ID转下标的字典，数据集中电影ID跟下标不一致，比如第5行的数据电影ID不一定是5\n",
    "movieid2idx = {val[0]:i for i, val in enumerate(movies.values)}"
   ]
  },
  {
   "cell_type": "code",
   "execution_count": 301,
   "metadata": {},
   "outputs": [],
   "source": [
    "# Number of Epochs\n",
    "num_epochs = 5\n",
    "# Batch Size\n",
    "batch_size = 256\n",
    "\n",
    "dropout_keep = 0.5\n",
    "# Learning Rate\n",
    "learning_rate = 0.0001\n",
    "# Show stats for every n number of batches\n",
    "show_every_n_batches = 20\n",
    "\n",
    "save_dir = './save'"
   ]
  },
  {
   "cell_type": "code",
   "execution_count": 302,
   "metadata": {},
   "outputs": [],
   "source": [
    "def get_inputs():\n",
    "    uid = tf.keras.layers.Input(shape=(1,), dtype='int32', name='uid')  \n",
    "    user_gender = tf.keras.layers.Input(shape=(1,), dtype='int32', name='user_gender')  \n",
    "    user_age = tf.keras.layers.Input(shape=(1,), dtype='int32', name='user_age') \n",
    "    user_job = tf.keras.layers.Input(shape=(1,), dtype='int32', name='user_job')\n",
    "\n",
    "    movie_id = tf.keras.layers.Input(shape=(1,), dtype='int32', name='movie_id') \n",
    "    movie_categories = tf.keras.layers.Input(shape=(18,), dtype='int32', name='movie_categories') \n",
    "    movie_titles = tf.keras.layers.Input(shape=(15,), dtype='int32', name='movie_titles') \n",
    "    return uid, user_gender, user_age, user_job, movie_id, movie_categories, movie_titles"
   ]
  },
  {
   "cell_type": "code",
   "execution_count": 303,
   "metadata": {},
   "outputs": [],
   "source": [
    "def get_user_embedding(uid, user_gender, user_age, user_job):\n",
    "    uid_embed_layer = tf.keras.layers.Embedding(uid_max, embed_dim, input_length=1, name='uid_embed_layer')(uid)\n",
    "    gender_embed_layer = tf.keras.layers.Embedding(gender_max, embed_dim // 2, input_length=1, name='gender_embed_layer')(user_gender)\n",
    "    age_embed_layer = tf.keras.layers.Embedding(age_max, embed_dim // 2, input_length=1, name='age_embed_layer')(user_age)\n",
    "    job_embed_layer = tf.keras.layers.Embedding(job_max, embed_dim // 2, input_length=1, name='job_embed_layer')(user_job)\n",
    "    return uid_embed_layer, gender_embed_layer, age_embed_layer, job_embed_layer"
   ]
  },
  {
   "cell_type": "code",
   "execution_count": 304,
   "metadata": {},
   "outputs": [],
   "source": [
    "def get_user_feature_layer(uid_embed_layer, gender_embed_layer, age_embed_layer, job_embed_layer):\n",
    "    #第一层全连接\n",
    "    uid_fc_layer = tf.keras.layers.Dense(embed_dim, name=\"uid_fc_layer\", activation='relu')(uid_embed_layer)\n",
    "    gender_fc_layer = tf.keras.layers.Dense(embed_dim, name=\"gender_fc_layer\", activation='relu')(gender_embed_layer)\n",
    "    age_fc_layer = tf.keras.layers.Dense(embed_dim, name=\"age_fc_layer\", activation='relu')(age_embed_layer)\n",
    "    job_fc_layer = tf.keras.layers.Dense(embed_dim, name=\"job_fc_layer\", activation='relu')(job_embed_layer)\n",
    "\n",
    "    #第二层全连接\n",
    "    user_combine_layer = tf.keras.layers.concatenate([uid_fc_layer, gender_fc_layer, age_fc_layer, job_fc_layer], 2)  #(?, 1, 128)\n",
    "    user_combine_layer = tf.keras.layers.Dense(200, activation='tanh')(user_combine_layer)  #(?, 1, 200)\n",
    "\n",
    "    user_combine_layer_flat = tf.keras.layers.Reshape([200], name=\"user_combine_layer_flat\")(user_combine_layer)\n",
    "    return user_combine_layer, user_combine_layer_flat"
   ]
  },
  {
   "cell_type": "code",
   "execution_count": 305,
   "metadata": {},
   "outputs": [],
   "source": [
    "def get_movie_id_embed_layer(movie_id):\n",
    "    movie_id_embed_layer = tf.keras.layers.Embedding(movie_id_max, embed_dim, input_length=1, name='movie_id_embed_layer')(movie_id)\n",
    "    return movie_id_embed_layer"
   ]
  },
  {
   "cell_type": "code",
   "execution_count": 306,
   "metadata": {},
   "outputs": [],
   "source": [
    "def get_movie_categories_layers(movie_categories):\n",
    "    movie_categories_embed_layer = tf.keras.layers.Embedding(movie_categories_max, embed_dim, input_length=18, name='movie_categories_embed_layer')(movie_categories)\n",
    "    movie_categories_embed_layer = tf.keras.layers.Lambda(lambda layer: tf.reduce_sum(layer, axis=1, keepdims=True))(movie_categories_embed_layer)\n",
    "#     movie_categories_embed_layer = tf.keras.layers.Reshape([1, 18 * embed_dim])(movie_categories_embed_layer)\n",
    "\n",
    "    return movie_categories_embed_layer"
   ]
  },
  {
   "cell_type": "code",
   "execution_count": 307,
   "metadata": {},
   "outputs": [],
   "source": [
    "def get_movie_cnn_layer(movie_titles):\n",
    "    #从嵌入矩阵中得到电影名对应的各个单词的嵌入向量\n",
    "    movie_title_embed_layer = tf.keras.layers.Embedding(movie_title_max, embed_dim, input_length=15, name='movie_title_embed_layer')(movie_titles)\n",
    "    sp=movie_title_embed_layer.shape\n",
    "    movie_title_embed_layer_expand = tf.keras.layers.Reshape([sp[1], sp[2], 1])(movie_title_embed_layer)\n",
    "    #对文本嵌入层使用不同尺寸的卷积核做卷积和最大池化\n",
    "    pool_layer_lst = []\n",
    "    for window_size in window_sizes:\n",
    "        conv_layer = tf.keras.layers.Conv2D(filter_num, (window_size, embed_dim), 1, activation='relu')(movie_title_embed_layer_expand)\n",
    "        maxpool_layer = tf.keras.layers.MaxPooling2D(pool_size=(sentences_size - window_size + 1 ,1), strides=1)(conv_layer)\n",
    "        pool_layer_lst.append(maxpool_layer)\n",
    "    #Dropout层\n",
    "    pool_layer = tf.keras.layers.concatenate(pool_layer_lst, 3, name =\"pool_layer\")  \n",
    "    max_num = len(window_sizes) * filter_num\n",
    "    pool_layer_flat = tf.keras.layers.Reshape([1, max_num], name = \"pool_layer_flat\")(pool_layer)\n",
    "\n",
    "    dropout_layer = tf.keras.layers.Dropout(dropout_keep, name = \"dropout_layer\")(pool_layer_flat)\n",
    "    return pool_layer_flat, dropout_layer"
   ]
  },
  {
   "cell_type": "code",
   "execution_count": 308,
   "metadata": {},
   "outputs": [],
   "source": [
    "def get_movie_feature_layer(movie_id_embed_layer, movie_categories_embed_layer, dropout_layer):\n",
    "    #第一层全连接\n",
    "    movie_id_fc_layer = tf.keras.layers.Dense(embed_dim, name=\"movie_id_fc_layer\", activation='relu')(movie_id_embed_layer)\n",
    "    movie_categories_fc_layer = tf.keras.layers.Dense(embed_dim, name=\"movie_categories_fc_layer\", activation='relu')(movie_categories_embed_layer)\n",
    "\n",
    "    #第二层全连接\n",
    "    movie_combine_layer = tf.keras.layers.concatenate([movie_id_fc_layer, movie_categories_fc_layer, dropout_layer], 2)  \n",
    "    movie_combine_layer = tf.keras.layers.Dense(200, activation='tanh')(movie_combine_layer)\n",
    "\n",
    "    movie_combine_layer_flat = tf.keras.layers.Reshape([200], name=\"movie_combine_layer_flat\")(movie_combine_layer)\n",
    "    return movie_combine_layer, movie_combine_layer_flat"
   ]
  },
  {
   "cell_type": "code",
   "execution_count": 309,
   "metadata": {},
   "outputs": [
    {
     "data": {
      "text/plain": [
       "<Dense name=dense_30, built=False>"
      ]
     },
     "execution_count": 309,
     "metadata": {},
     "output_type": "execute_result"
    }
   ],
   "source": [
    "# tf.keras.layers.\n",
    "tf.keras.layers.Dense(units=64, activation='relu')\n"
   ]
  },
  {
   "cell_type": "code",
   "execution_count": 310,
   "metadata": {},
   "outputs": [],
   "source": [
    "import tensorflow as tf\n",
    "import datetime\n",
    "from tensorflow import keras\n",
    "from tensorflow.python.ops import summary_ops_v2\n",
    "import time\n",
    "\n",
    "MODEL_DIR = \"./models\"\n",
    "\n",
    "\n",
    "class mv_network(object):\n",
    "    def __init__(self, batch_size=256):\n",
    "        self.batch_size = batch_size\n",
    "        self.best_loss = 9999\n",
    "        self.losses = {'train': [], 'test': []}\n",
    "\n",
    "        # 获取输入占位符\n",
    "        uid, user_gender, user_age, user_job, movie_id, movie_categories, movie_titles = get_inputs()\n",
    "        # 获取User的4个嵌入向量\n",
    "        uid_embed_layer, gender_embed_layer, age_embed_layer, job_embed_layer = get_user_embedding(uid, user_gender,\n",
    "                                                                                                   user_age, user_job)\n",
    "        # 得到用户特征\n",
    "        user_combine_layer, user_combine_layer_flat = get_user_feature_layer(uid_embed_layer, gender_embed_layer,\n",
    "                                                                             age_embed_layer, job_embed_layer)\n",
    "        # 获取电影ID的嵌入向量\n",
    "        movie_id_embed_layer = get_movie_id_embed_layer(movie_id)\n",
    "        # 获取电影类型的嵌入向量\n",
    "        movie_categories_embed_layer = get_movie_categories_layers(movie_categories)\n",
    "        # 获取电影名的特征向量\n",
    "        pool_layer_flat, dropout_layer = get_movie_cnn_layer(movie_titles)\n",
    "        # 得到电影特征\n",
    "        movie_combine_layer, movie_combine_layer_flat = get_movie_feature_layer(movie_id_embed_layer,\n",
    "                                                                                movie_categories_embed_layer,\n",
    "                                                                                dropout_layer)\n",
    "        # 计算出评分\n",
    "        # 将用户特征和电影特征做矩阵乘法得到一个预测评分的方案\n",
    "        inference = tf.keras.layers.Lambda(lambda layer: \n",
    "            tf.reduce_sum(layer[0] * layer[1], axis=1), name=\"inference\")((user_combine_layer_flat, movie_combine_layer_flat))\n",
    "        inference = tf.keras.layers.Lambda(lambda layer: tf.expand_dims(layer, axis=1))(inference)\n",
    "        \n",
    "        # 将用户特征和电影特征作为输入，经过全连接，输出一个值的方案\n",
    "#         inference_layer = tf.keras.layers.concatenate([user_combine_layer_flat, movie_combine_layer_flat],\n",
    "#                                                       1)  # (?, 400)\n",
    "        # 你可以使用下面这个全连接层，试试效果\n",
    "        #inference_dense = tf.keras.layers.Dense(64, kernel_regularizer=tf.nn.l2_loss, activation='relu')(\n",
    "        #    inference_layer)\n",
    "#         inference = tf.keras.layers.Dense(1, name=\"inference\")(inference_layer)  # inference_dense\n",
    "\n",
    "        self.model = tf.keras.Model(\n",
    "            inputs=[uid, user_gender, user_age, user_job, movie_id, movie_categories, movie_titles],\n",
    "            outputs=[inference])\n",
    "\n",
    "        self.model.summary()\n",
    "\n",
    "        self.optimizer = tf.keras.optimizers.Adam(learning_rate)\n",
    "        # MSE损失，将计算值回归到评分\n",
    "        self.ComputeLoss = tf.keras.losses.MeanSquaredError()\n",
    "        self.ComputeMetrics = tf.keras.metrics.MeanAbsoluteError()\n",
    "\n",
    "        if tf.io.gfile.exists(MODEL_DIR):\n",
    "            #             print('Removing existing model dir: {}'.format(MODEL_DIR))\n",
    "            #             tf.io.gfile.rmtree(MODEL_DIR)\n",
    "            pass\n",
    "        else:\n",
    "            tf.io.gfile.makedirs(MODEL_DIR)\n",
    "\n",
    "        train_dir = os.path.join(MODEL_DIR, 'summaries', 'train')\n",
    "        test_dir = os.path.join(MODEL_DIR, 'summaries', 'eval')\n",
    "\n",
    "        #         self.train_summary_writer = summary_ops_v2.create_file_writer(train_dir, flush_millis=10000)\n",
    "        #         self.test_summary_writer = summary_ops_v2.create_file_writer(test_dir, flush_millis=10000, name='test')\n",
    "\n",
    "        checkpoint_dir = os.path.join(MODEL_DIR, 'checkpoints')\n",
    "        self.checkpoint_prefix = os.path.join(checkpoint_dir, 'ckpt')\n",
    "        self.checkpoint = tf.train.Checkpoint(model=self.model, optimizer=self.optimizer)\n",
    "\n",
    "        # Restore variables on creation if a checkpoint exists.\n",
    "        self.checkpoint.restore(tf.train.latest_checkpoint(checkpoint_dir))\n",
    "\n",
    "    def compute_loss(self, labels, logits):\n",
    "        return tf.reduce_mean(tf.keras.losses.mse(labels, logits))\n",
    "\n",
    "    def compute_metrics(self, labels, logits):\n",
    "        return tf.keras.metrics.mae(labels, logits)  #\n",
    "\n",
    "    @tf.function\n",
    "    def train_step(self, x, y):\n",
    "        # Record the operations used to compute the loss, so that the gradient\n",
    "        # of the loss with respect to the variables can be computed.\n",
    "        #         metrics = 0\n",
    "        with tf.GradientTape() as tape:\n",
    "            logits = self.model([x[0],\n",
    "                                 x[1],\n",
    "                                 x[2],\n",
    "                                 x[3],\n",
    "                                 x[4],\n",
    "                                 x[5],\n",
    "                                 x[6]], training=True)\n",
    "            loss = self.ComputeLoss(y, logits)\n",
    "            # loss = self.compute_loss(labels, logits)\n",
    "            self.ComputeMetrics(y, logits)\n",
    "            # metrics = self.compute_metrics(labels, logits)\n",
    "        grads = tape.gradient(loss, self.model.trainable_variables)\n",
    "        self.optimizer.apply_gradients(zip(grads, self.model.trainable_variables))\n",
    "        return loss, logits\n",
    "    def training(self, features, targets_values, epochs=5, log_freq=50):\n",
    "        for epoch_i in range(epochs):\n",
    "            # 将数据集分成训练集和测试集，随机种子不固定\n",
    "            train_X, test_X, train_y, test_y = train_test_split(features,\n",
    "                                                                targets_values,\n",
    "                                                                test_size=0.2,\n",
    "                                                                random_state=0)\n",
    "\n",
    "            train_batches = get_batches(train_X, train_y, self.batch_size)\n",
    "            batch_num = (len(train_X) // self.batch_size)\n",
    "\n",
    "            train_start = time.time()\n",
    "            start = time.time()  # 初始化 start 变量\n",
    "\n",
    "            for batch_i in range(batch_num):\n",
    "                x, y = next(train_batches)\n",
    "                categories = np.zeros([self.batch_size, 18])\n",
    "                for i in range(self.batch_size):\n",
    "                    categories[i] = x.take(6, 1)[i]\n",
    "\n",
    "                titles = np.zeros([self.batch_size, sentences_size])\n",
    "                for i in range(self.batch_size):\n",
    "                    titles[i] = x.take(5, 1)[i]\n",
    "\n",
    "                loss, logits = self.train_step([np.reshape(x.take(0, 1), [self.batch_size, 1]).astype(np.float32),\n",
    "                                                np.reshape(x.take(2, 1), [self.batch_size, 1]).astype(np.float32),\n",
    "                                                np.reshape(x.take(3, 1), [self.batch_size, 1]).astype(np.float32),\n",
    "                                                np.reshape(x.take(4, 1), [self.batch_size, 1]).astype(np.float32),\n",
    "                                                np.reshape(x.take(1, 1), [self.batch_size, 1]).astype(np.float32),\n",
    "                                                categories.astype(np.float32),\n",
    "                                                titles.astype(np.float32)],\n",
    "                                            np.reshape(y, [self.batch_size, 1]).astype(np.float32))\n",
    "                self.losses['train'].append(loss)\n",
    "\n",
    "                if self.optimizer.iterations % log_freq == 0:\n",
    "                    rate = log_freq / (time.time() - start)\n",
    "                    print('Step #{}\\tEpoch {:>3} Batch {:>4}/{}   Loss: {:0.6f} mae: {:0.6f} ({} steps/sec)'.format(\n",
    "                        self.optimizer.iterations.numpy(),\n",
    "                        epoch_i,\n",
    "                        batch_i,\n",
    "                        batch_num,\n",
    "                        loss, (self.ComputeMetrics.result()), rate))\n",
    "                    start = time.time()\n",
    "\n",
    "            train_end = time.time()\n",
    "            print(\n",
    "                '\\nTrain time for epoch #{} ({} total steps): {}'.format(epoch_i + 1, self.optimizer.iterations.numpy(),\n",
    "                                                                        train_end - train_start))\n",
    "            self.testing((test_X, test_y), self.optimizer.iterations)\n",
    "            # self.checkpoint.save(self.checkpoint_prefix)\n",
    "        self.export_path = os.path.join(MODEL_DIR, 'export')\n",
    "        tf.saved_model.save(self.model, self.export_path)\n",
    "\n",
    "\n",
    "    def testing(self, test_dataset, step_num):\n",
    "        test_X, test_y = test_dataset\n",
    "        test_batches = get_batches(test_X, test_y, self.batch_size)\n",
    "\n",
    "        \"\"\"Perform an evaluation of `model` on the examples from `dataset`.\"\"\"\n",
    "        avg_loss = tf.keras.metrics.Mean('loss', dtype=tf.float32)\n",
    "        #         avg_mae = tf.keras.metrics.Mean('mae', dtype=tf.float32)\n",
    "\n",
    "        batch_num = (len(test_X) // self.batch_size)\n",
    "        for batch_i in range(batch_num):\n",
    "            x, y = next(test_batches)\n",
    "            categories = np.zeros([self.batch_size, 18])\n",
    "            for i in range(self.batch_size):\n",
    "                categories[i] = x.take(6, 1)[i]\n",
    "\n",
    "            titles = np.zeros([self.batch_size, sentences_size])\n",
    "            for i in range(self.batch_size):\n",
    "                titles[i] = x.take(5, 1)[i]\n",
    "\n",
    "            logits = self.model([np.reshape(x.take(0, 1), [self.batch_size, 1]).astype(np.float32),\n",
    "                                 np.reshape(x.take(2, 1), [self.batch_size, 1]).astype(np.float32),\n",
    "                                 np.reshape(x.take(3, 1), [self.batch_size, 1]).astype(np.float32),\n",
    "                                 np.reshape(x.take(4, 1), [self.batch_size, 1]).astype(np.float32),\n",
    "                                 np.reshape(x.take(1, 1), [self.batch_size, 1]).astype(np.float32),\n",
    "                                 categories.astype(np.float32),\n",
    "                                 titles.astype(np.float32)], training=False)\n",
    "            test_loss = self.ComputeLoss(np.reshape(y, [self.batch_size, 1]).astype(np.float32), logits)\n",
    "            avg_loss(test_loss)\n",
    "            # 保存测试损失\n",
    "            self.losses['test'].append(test_loss)\n",
    "            self.ComputeMetrics(np.reshape(y, [self.batch_size, 1]).astype(np.float32), logits)\n",
    "            # avg_loss(self.compute_loss(labels, logits))\n",
    "            # avg_mae(self.compute_metrics(labels, logits))\n",
    "\n",
    "        print('Model test set loss: {:0.6f} mae: {:0.6f}'.format(avg_loss.result(), self.ComputeMetrics.result()))\n",
    "        # print('Model test set loss: {:0.6f} mae: {:0.6f}'.format(avg_loss.result(), avg_mae.result()))\n",
    "        #         summary_ops_v2.scalar('loss', avg_loss.result(), step=step_num)\n",
    "        #         summary_ops_v2.scalar('mae', self.ComputeMetrics.result(), step=step_num)\n",
    "        # summary_ops_v2.scalar('mae', avg_mae.result(), step=step_num)\n",
    "\n",
    "        if avg_loss.result() < self.best_loss:\n",
    "            self.best_loss = avg_loss.result()\n",
    "            print(\"best loss = {}\".format(self.best_loss))\n",
    "            self.checkpoint.save(self.checkpoint_prefix)\n",
    "\n",
    "    def forward(self, xs):\n",
    "        predictions = self.model(xs)\n",
    "        # logits = tf.nn.softmax(predictions)\n",
    "\n",
    "        return predictions\n"
   ]
  },
  {
   "cell_type": "code",
   "execution_count": 311,
   "metadata": {},
   "outputs": [],
   "source": [
    "def get_batches(Xs, ys, batch_size):\n",
    "    for start in range(0, len(Xs), batch_size):\n",
    "        end = min(start + batch_size, len(Xs))\n",
    "        yield Xs[start:end], ys[start:end]"
   ]
  },
  {
   "cell_type": "code",
   "execution_count": 312,
   "metadata": {},
   "outputs": [
    {
     "name": "stderr",
     "output_type": "stream",
     "text": [
      "d:\\chrome_download\\movie_recommender-master\\movie_recommender-master\\lib\\site-packages\\keras\\src\\layers\\core\\embedding.py:86: UserWarning: Argument `input_length` is deprecated. Just remove it.\n",
      "  warnings.warn(\n"
     ]
    },
    {
     "data": {
      "text/html": [
       "<pre style=\"white-space:pre;overflow-x:auto;line-height:normal;font-family:Menlo,'DejaVu Sans Mono',consolas,'Courier New',monospace\"><span style=\"font-weight: bold\">Model: \"functional_27\"</span>\n",
       "</pre>\n"
      ],
      "text/plain": [
       "\u001b[1mModel: \"functional_27\"\u001b[0m\n"
      ]
     },
     "metadata": {},
     "output_type": "display_data"
    },
    {
     "data": {
      "text/html": [
       "<pre style=\"white-space:pre;overflow-x:auto;line-height:normal;font-family:Menlo,'DejaVu Sans Mono',consolas,'Courier New',monospace\">┏━━━━━━━━━━━━━━━━━━━━━┳━━━━━━━━━━━━━━━━━━━┳━━━━━━━━━━━━┳━━━━━━━━━━━━━━━━━━━┓\n",
       "┃<span style=\"font-weight: bold\"> Layer (type)        </span>┃<span style=\"font-weight: bold\"> Output Shape      </span>┃<span style=\"font-weight: bold\">    Param # </span>┃<span style=\"font-weight: bold\"> Connected to      </span>┃\n",
       "┡━━━━━━━━━━━━━━━━━━━━━╇━━━━━━━━━━━━━━━━━━━╇━━━━━━━━━━━━╇━━━━━━━━━━━━━━━━━━━┩\n",
       "│ movie_titles        │ (<span style=\"color: #00d7ff; text-decoration-color: #00d7ff\">None</span>, <span style=\"color: #00af00; text-decoration-color: #00af00\">15</span>)        │          <span style=\"color: #00af00; text-decoration-color: #00af00\">0</span> │ -                 │\n",
       "│ (<span style=\"color: #0087ff; text-decoration-color: #0087ff\">InputLayer</span>)        │                   │            │                   │\n",
       "├─────────────────────┼───────────────────┼────────────┼───────────────────┤\n",
       "│ movie_title_embed_… │ (<span style=\"color: #00d7ff; text-decoration-color: #00d7ff\">None</span>, <span style=\"color: #00af00; text-decoration-color: #00af00\">15</span>, <span style=\"color: #00af00; text-decoration-color: #00af00\">32</span>)    │    <span style=\"color: #00af00; text-decoration-color: #00af00\">166,528</span> │ movie_titles[<span style=\"color: #00af00; text-decoration-color: #00af00\">0</span>][<span style=\"color: #00af00; text-decoration-color: #00af00\">…</span> │\n",
       "│ (<span style=\"color: #0087ff; text-decoration-color: #0087ff\">Embedding</span>)         │                   │            │                   │\n",
       "├─────────────────────┼───────────────────┼────────────┼───────────────────┤\n",
       "│ reshape_11          │ (<span style=\"color: #00d7ff; text-decoration-color: #00d7ff\">None</span>, <span style=\"color: #00af00; text-decoration-color: #00af00\">15</span>, <span style=\"color: #00af00; text-decoration-color: #00af00\">32</span>, <span style=\"color: #00af00; text-decoration-color: #00af00\">1</span>) │          <span style=\"color: #00af00; text-decoration-color: #00af00\">0</span> │ movie_title_embe… │\n",
       "│ (<span style=\"color: #0087ff; text-decoration-color: #0087ff\">Reshape</span>)           │                   │            │                   │\n",
       "├─────────────────────┼───────────────────┼────────────┼───────────────────┤\n",
       "│ conv2d_44 (<span style=\"color: #0087ff; text-decoration-color: #0087ff\">Conv2D</span>)  │ (<span style=\"color: #00d7ff; text-decoration-color: #00d7ff\">None</span>, <span style=\"color: #00af00; text-decoration-color: #00af00\">14</span>, <span style=\"color: #00af00; text-decoration-color: #00af00\">1</span>, <span style=\"color: #00af00; text-decoration-color: #00af00\">8</span>)  │        <span style=\"color: #00af00; text-decoration-color: #00af00\">520</span> │ reshape_11[<span style=\"color: #00af00; text-decoration-color: #00af00\">0</span>][<span style=\"color: #00af00; text-decoration-color: #00af00\">0</span>]  │\n",
       "├─────────────────────┼───────────────────┼────────────┼───────────────────┤\n",
       "│ conv2d_45 (<span style=\"color: #0087ff; text-decoration-color: #0087ff\">Conv2D</span>)  │ (<span style=\"color: #00d7ff; text-decoration-color: #00d7ff\">None</span>, <span style=\"color: #00af00; text-decoration-color: #00af00\">13</span>, <span style=\"color: #00af00; text-decoration-color: #00af00\">1</span>, <span style=\"color: #00af00; text-decoration-color: #00af00\">8</span>)  │        <span style=\"color: #00af00; text-decoration-color: #00af00\">776</span> │ reshape_11[<span style=\"color: #00af00; text-decoration-color: #00af00\">0</span>][<span style=\"color: #00af00; text-decoration-color: #00af00\">0</span>]  │\n",
       "├─────────────────────┼───────────────────┼────────────┼───────────────────┤\n",
       "│ conv2d_46 (<span style=\"color: #0087ff; text-decoration-color: #0087ff\">Conv2D</span>)  │ (<span style=\"color: #00d7ff; text-decoration-color: #00d7ff\">None</span>, <span style=\"color: #00af00; text-decoration-color: #00af00\">12</span>, <span style=\"color: #00af00; text-decoration-color: #00af00\">1</span>, <span style=\"color: #00af00; text-decoration-color: #00af00\">8</span>)  │      <span style=\"color: #00af00; text-decoration-color: #00af00\">1,032</span> │ reshape_11[<span style=\"color: #00af00; text-decoration-color: #00af00\">0</span>][<span style=\"color: #00af00; text-decoration-color: #00af00\">0</span>]  │\n",
       "├─────────────────────┼───────────────────┼────────────┼───────────────────┤\n",
       "│ conv2d_47 (<span style=\"color: #0087ff; text-decoration-color: #0087ff\">Conv2D</span>)  │ (<span style=\"color: #00d7ff; text-decoration-color: #00d7ff\">None</span>, <span style=\"color: #00af00; text-decoration-color: #00af00\">11</span>, <span style=\"color: #00af00; text-decoration-color: #00af00\">1</span>, <span style=\"color: #00af00; text-decoration-color: #00af00\">8</span>)  │      <span style=\"color: #00af00; text-decoration-color: #00af00\">1,288</span> │ reshape_11[<span style=\"color: #00af00; text-decoration-color: #00af00\">0</span>][<span style=\"color: #00af00; text-decoration-color: #00af00\">0</span>]  │\n",
       "├─────────────────────┼───────────────────┼────────────┼───────────────────┤\n",
       "│ movie_categories    │ (<span style=\"color: #00d7ff; text-decoration-color: #00d7ff\">None</span>, <span style=\"color: #00af00; text-decoration-color: #00af00\">18</span>)        │          <span style=\"color: #00af00; text-decoration-color: #00af00\">0</span> │ -                 │\n",
       "│ (<span style=\"color: #0087ff; text-decoration-color: #0087ff\">InputLayer</span>)        │                   │            │                   │\n",
       "├─────────────────────┼───────────────────┼────────────┼───────────────────┤\n",
       "│ max_pooling2d_44    │ (<span style=\"color: #00d7ff; text-decoration-color: #00d7ff\">None</span>, <span style=\"color: #00af00; text-decoration-color: #00af00\">1</span>, <span style=\"color: #00af00; text-decoration-color: #00af00\">1</span>, <span style=\"color: #00af00; text-decoration-color: #00af00\">8</span>)   │          <span style=\"color: #00af00; text-decoration-color: #00af00\">0</span> │ conv2d_44[<span style=\"color: #00af00; text-decoration-color: #00af00\">0</span>][<span style=\"color: #00af00; text-decoration-color: #00af00\">0</span>]   │\n",
       "│ (<span style=\"color: #0087ff; text-decoration-color: #0087ff\">MaxPooling2D</span>)      │                   │            │                   │\n",
       "├─────────────────────┼───────────────────┼────────────┼───────────────────┤\n",
       "│ max_pooling2d_45    │ (<span style=\"color: #00d7ff; text-decoration-color: #00d7ff\">None</span>, <span style=\"color: #00af00; text-decoration-color: #00af00\">1</span>, <span style=\"color: #00af00; text-decoration-color: #00af00\">1</span>, <span style=\"color: #00af00; text-decoration-color: #00af00\">8</span>)   │          <span style=\"color: #00af00; text-decoration-color: #00af00\">0</span> │ conv2d_45[<span style=\"color: #00af00; text-decoration-color: #00af00\">0</span>][<span style=\"color: #00af00; text-decoration-color: #00af00\">0</span>]   │\n",
       "│ (<span style=\"color: #0087ff; text-decoration-color: #0087ff\">MaxPooling2D</span>)      │                   │            │                   │\n",
       "├─────────────────────┼───────────────────┼────────────┼───────────────────┤\n",
       "│ max_pooling2d_46    │ (<span style=\"color: #00d7ff; text-decoration-color: #00d7ff\">None</span>, <span style=\"color: #00af00; text-decoration-color: #00af00\">1</span>, <span style=\"color: #00af00; text-decoration-color: #00af00\">1</span>, <span style=\"color: #00af00; text-decoration-color: #00af00\">8</span>)   │          <span style=\"color: #00af00; text-decoration-color: #00af00\">0</span> │ conv2d_46[<span style=\"color: #00af00; text-decoration-color: #00af00\">0</span>][<span style=\"color: #00af00; text-decoration-color: #00af00\">0</span>]   │\n",
       "│ (<span style=\"color: #0087ff; text-decoration-color: #0087ff\">MaxPooling2D</span>)      │                   │            │                   │\n",
       "├─────────────────────┼───────────────────┼────────────┼───────────────────┤\n",
       "│ max_pooling2d_47    │ (<span style=\"color: #00d7ff; text-decoration-color: #00d7ff\">None</span>, <span style=\"color: #00af00; text-decoration-color: #00af00\">1</span>, <span style=\"color: #00af00; text-decoration-color: #00af00\">1</span>, <span style=\"color: #00af00; text-decoration-color: #00af00\">8</span>)   │          <span style=\"color: #00af00; text-decoration-color: #00af00\">0</span> │ conv2d_47[<span style=\"color: #00af00; text-decoration-color: #00af00\">0</span>][<span style=\"color: #00af00; text-decoration-color: #00af00\">0</span>]   │\n",
       "│ (<span style=\"color: #0087ff; text-decoration-color: #0087ff\">MaxPooling2D</span>)      │                   │            │                   │\n",
       "├─────────────────────┼───────────────────┼────────────┼───────────────────┤\n",
       "│ uid (<span style=\"color: #0087ff; text-decoration-color: #0087ff\">InputLayer</span>)    │ (<span style=\"color: #00d7ff; text-decoration-color: #00d7ff\">None</span>, <span style=\"color: #00af00; text-decoration-color: #00af00\">1</span>)         │          <span style=\"color: #00af00; text-decoration-color: #00af00\">0</span> │ -                 │\n",
       "├─────────────────────┼───────────────────┼────────────┼───────────────────┤\n",
       "│ user_gender         │ (<span style=\"color: #00d7ff; text-decoration-color: #00d7ff\">None</span>, <span style=\"color: #00af00; text-decoration-color: #00af00\">1</span>)         │          <span style=\"color: #00af00; text-decoration-color: #00af00\">0</span> │ -                 │\n",
       "│ (<span style=\"color: #0087ff; text-decoration-color: #0087ff\">InputLayer</span>)        │                   │            │                   │\n",
       "├─────────────────────┼───────────────────┼────────────┼───────────────────┤\n",
       "│ user_age            │ (<span style=\"color: #00d7ff; text-decoration-color: #00d7ff\">None</span>, <span style=\"color: #00af00; text-decoration-color: #00af00\">1</span>)         │          <span style=\"color: #00af00; text-decoration-color: #00af00\">0</span> │ -                 │\n",
       "│ (<span style=\"color: #0087ff; text-decoration-color: #0087ff\">InputLayer</span>)        │                   │            │                   │\n",
       "├─────────────────────┼───────────────────┼────────────┼───────────────────┤\n",
       "│ user_job            │ (<span style=\"color: #00d7ff; text-decoration-color: #00d7ff\">None</span>, <span style=\"color: #00af00; text-decoration-color: #00af00\">1</span>)         │          <span style=\"color: #00af00; text-decoration-color: #00af00\">0</span> │ -                 │\n",
       "│ (<span style=\"color: #0087ff; text-decoration-color: #0087ff\">InputLayer</span>)        │                   │            │                   │\n",
       "├─────────────────────┼───────────────────┼────────────┼───────────────────┤\n",
       "│ movie_id            │ (<span style=\"color: #00d7ff; text-decoration-color: #00d7ff\">None</span>, <span style=\"color: #00af00; text-decoration-color: #00af00\">1</span>)         │          <span style=\"color: #00af00; text-decoration-color: #00af00\">0</span> │ -                 │\n",
       "│ (<span style=\"color: #0087ff; text-decoration-color: #0087ff\">InputLayer</span>)        │                   │            │                   │\n",
       "├─────────────────────┼───────────────────┼────────────┼───────────────────┤\n",
       "│ movie_categories_e… │ (<span style=\"color: #00d7ff; text-decoration-color: #00d7ff\">None</span>, <span style=\"color: #00af00; text-decoration-color: #00af00\">18</span>, <span style=\"color: #00af00; text-decoration-color: #00af00\">32</span>)    │      <span style=\"color: #00af00; text-decoration-color: #00af00\">1,664</span> │ movie_categories… │\n",
       "│ (<span style=\"color: #0087ff; text-decoration-color: #0087ff\">Embedding</span>)         │                   │            │                   │\n",
       "├─────────────────────┼───────────────────┼────────────┼───────────────────┤\n",
       "│ pool_layer          │ (<span style=\"color: #00d7ff; text-decoration-color: #00d7ff\">None</span>, <span style=\"color: #00af00; text-decoration-color: #00af00\">1</span>, <span style=\"color: #00af00; text-decoration-color: #00af00\">1</span>, <span style=\"color: #00af00; text-decoration-color: #00af00\">32</span>)  │          <span style=\"color: #00af00; text-decoration-color: #00af00\">0</span> │ max_pooling2d_44… │\n",
       "│ (<span style=\"color: #0087ff; text-decoration-color: #0087ff\">Concatenate</span>)       │                   │            │ max_pooling2d_45… │\n",
       "│                     │                   │            │ max_pooling2d_46… │\n",
       "│                     │                   │            │ max_pooling2d_47… │\n",
       "├─────────────────────┼───────────────────┼────────────┼───────────────────┤\n",
       "│ uid_embed_layer     │ (<span style=\"color: #00d7ff; text-decoration-color: #00d7ff\">None</span>, <span style=\"color: #00af00; text-decoration-color: #00af00\">1</span>, <span style=\"color: #00af00; text-decoration-color: #00af00\">32</span>)     │    <span style=\"color: #00af00; text-decoration-color: #00af00\">193,312</span> │ uid[<span style=\"color: #00af00; text-decoration-color: #00af00\">0</span>][<span style=\"color: #00af00; text-decoration-color: #00af00\">0</span>]         │\n",
       "│ (<span style=\"color: #0087ff; text-decoration-color: #0087ff\">Embedding</span>)         │                   │            │                   │\n",
       "├─────────────────────┼───────────────────┼────────────┼───────────────────┤\n",
       "│ gender_embed_layer  │ (<span style=\"color: #00d7ff; text-decoration-color: #00d7ff\">None</span>, <span style=\"color: #00af00; text-decoration-color: #00af00\">1</span>, <span style=\"color: #00af00; text-decoration-color: #00af00\">16</span>)     │         <span style=\"color: #00af00; text-decoration-color: #00af00\">32</span> │ user_gender[<span style=\"color: #00af00; text-decoration-color: #00af00\">0</span>][<span style=\"color: #00af00; text-decoration-color: #00af00\">0</span>] │\n",
       "│ (<span style=\"color: #0087ff; text-decoration-color: #0087ff\">Embedding</span>)         │                   │            │                   │\n",
       "├─────────────────────┼───────────────────┼────────────┼───────────────────┤\n",
       "│ age_embed_layer     │ (<span style=\"color: #00d7ff; text-decoration-color: #00d7ff\">None</span>, <span style=\"color: #00af00; text-decoration-color: #00af00\">1</span>, <span style=\"color: #00af00; text-decoration-color: #00af00\">16</span>)     │        <span style=\"color: #00af00; text-decoration-color: #00af00\">112</span> │ user_age[<span style=\"color: #00af00; text-decoration-color: #00af00\">0</span>][<span style=\"color: #00af00; text-decoration-color: #00af00\">0</span>]    │\n",
       "│ (<span style=\"color: #0087ff; text-decoration-color: #0087ff\">Embedding</span>)         │                   │            │                   │\n",
       "├─────────────────────┼───────────────────┼────────────┼───────────────────┤\n",
       "│ job_embed_layer     │ (<span style=\"color: #00d7ff; text-decoration-color: #00d7ff\">None</span>, <span style=\"color: #00af00; text-decoration-color: #00af00\">1</span>, <span style=\"color: #00af00; text-decoration-color: #00af00\">16</span>)     │        <span style=\"color: #00af00; text-decoration-color: #00af00\">336</span> │ user_job[<span style=\"color: #00af00; text-decoration-color: #00af00\">0</span>][<span style=\"color: #00af00; text-decoration-color: #00af00\">0</span>]    │\n",
       "│ (<span style=\"color: #0087ff; text-decoration-color: #0087ff\">Embedding</span>)         │                   │            │                   │\n",
       "├─────────────────────┼───────────────────┼────────────┼───────────────────┤\n",
       "│ movie_id_embed_lay… │ (<span style=\"color: #00d7ff; text-decoration-color: #00d7ff\">None</span>, <span style=\"color: #00af00; text-decoration-color: #00af00\">1</span>, <span style=\"color: #00af00; text-decoration-color: #00af00\">32</span>)     │    <span style=\"color: #00af00; text-decoration-color: #00af00\">126,496</span> │ movie_id[<span style=\"color: #00af00; text-decoration-color: #00af00\">0</span>][<span style=\"color: #00af00; text-decoration-color: #00af00\">0</span>]    │\n",
       "│ (<span style=\"color: #0087ff; text-decoration-color: #0087ff\">Embedding</span>)         │                   │            │                   │\n",
       "├─────────────────────┼───────────────────┼────────────┼───────────────────┤\n",
       "│ lambda_22 (<span style=\"color: #0087ff; text-decoration-color: #0087ff\">Lambda</span>)  │ (<span style=\"color: #00d7ff; text-decoration-color: #00d7ff\">None</span>, <span style=\"color: #00af00; text-decoration-color: #00af00\">1</span>, <span style=\"color: #00af00; text-decoration-color: #00af00\">32</span>)     │          <span style=\"color: #00af00; text-decoration-color: #00af00\">0</span> │ movie_categories… │\n",
       "├─────────────────────┼───────────────────┼────────────┼───────────────────┤\n",
       "│ pool_layer_flat     │ (<span style=\"color: #00d7ff; text-decoration-color: #00d7ff\">None</span>, <span style=\"color: #00af00; text-decoration-color: #00af00\">1</span>, <span style=\"color: #00af00; text-decoration-color: #00af00\">32</span>)     │          <span style=\"color: #00af00; text-decoration-color: #00af00\">0</span> │ pool_layer[<span style=\"color: #00af00; text-decoration-color: #00af00\">0</span>][<span style=\"color: #00af00; text-decoration-color: #00af00\">0</span>]  │\n",
       "│ (<span style=\"color: #0087ff; text-decoration-color: #0087ff\">Reshape</span>)           │                   │            │                   │\n",
       "├─────────────────────┼───────────────────┼────────────┼───────────────────┤\n",
       "│ uid_fc_layer        │ (<span style=\"color: #00d7ff; text-decoration-color: #00d7ff\">None</span>, <span style=\"color: #00af00; text-decoration-color: #00af00\">1</span>, <span style=\"color: #00af00; text-decoration-color: #00af00\">32</span>)     │      <span style=\"color: #00af00; text-decoration-color: #00af00\">1,056</span> │ uid_embed_layer[<span style=\"color: #00af00; text-decoration-color: #00af00\">…</span> │\n",
       "│ (<span style=\"color: #0087ff; text-decoration-color: #0087ff\">Dense</span>)             │                   │            │                   │\n",
       "├─────────────────────┼───────────────────┼────────────┼───────────────────┤\n",
       "│ gender_fc_layer     │ (<span style=\"color: #00d7ff; text-decoration-color: #00d7ff\">None</span>, <span style=\"color: #00af00; text-decoration-color: #00af00\">1</span>, <span style=\"color: #00af00; text-decoration-color: #00af00\">32</span>)     │        <span style=\"color: #00af00; text-decoration-color: #00af00\">544</span> │ gender_embed_lay… │\n",
       "│ (<span style=\"color: #0087ff; text-decoration-color: #0087ff\">Dense</span>)             │                   │            │                   │\n",
       "├─────────────────────┼───────────────────┼────────────┼───────────────────┤\n",
       "│ age_fc_layer        │ (<span style=\"color: #00d7ff; text-decoration-color: #00d7ff\">None</span>, <span style=\"color: #00af00; text-decoration-color: #00af00\">1</span>, <span style=\"color: #00af00; text-decoration-color: #00af00\">32</span>)     │        <span style=\"color: #00af00; text-decoration-color: #00af00\">544</span> │ age_embed_layer[<span style=\"color: #00af00; text-decoration-color: #00af00\">…</span> │\n",
       "│ (<span style=\"color: #0087ff; text-decoration-color: #0087ff\">Dense</span>)             │                   │            │                   │\n",
       "├─────────────────────┼───────────────────┼────────────┼───────────────────┤\n",
       "│ job_fc_layer        │ (<span style=\"color: #00d7ff; text-decoration-color: #00d7ff\">None</span>, <span style=\"color: #00af00; text-decoration-color: #00af00\">1</span>, <span style=\"color: #00af00; text-decoration-color: #00af00\">32</span>)     │        <span style=\"color: #00af00; text-decoration-color: #00af00\">544</span> │ job_embed_layer[<span style=\"color: #00af00; text-decoration-color: #00af00\">…</span> │\n",
       "│ (<span style=\"color: #0087ff; text-decoration-color: #0087ff\">Dense</span>)             │                   │            │                   │\n",
       "├─────────────────────┼───────────────────┼────────────┼───────────────────┤\n",
       "│ movie_id_fc_layer   │ (<span style=\"color: #00d7ff; text-decoration-color: #00d7ff\">None</span>, <span style=\"color: #00af00; text-decoration-color: #00af00\">1</span>, <span style=\"color: #00af00; text-decoration-color: #00af00\">32</span>)     │      <span style=\"color: #00af00; text-decoration-color: #00af00\">1,056</span> │ movie_id_embed_l… │\n",
       "│ (<span style=\"color: #0087ff; text-decoration-color: #0087ff\">Dense</span>)             │                   │            │                   │\n",
       "├─────────────────────┼───────────────────┼────────────┼───────────────────┤\n",
       "│ movie_categories_f… │ (<span style=\"color: #00d7ff; text-decoration-color: #00d7ff\">None</span>, <span style=\"color: #00af00; text-decoration-color: #00af00\">1</span>, <span style=\"color: #00af00; text-decoration-color: #00af00\">32</span>)     │      <span style=\"color: #00af00; text-decoration-color: #00af00\">1,056</span> │ lambda_22[<span style=\"color: #00af00; text-decoration-color: #00af00\">0</span>][<span style=\"color: #00af00; text-decoration-color: #00af00\">0</span>]   │\n",
       "│ (<span style=\"color: #0087ff; text-decoration-color: #0087ff\">Dense</span>)             │                   │            │                   │\n",
       "├─────────────────────┼───────────────────┼────────────┼───────────────────┤\n",
       "│ dropout_layer       │ (<span style=\"color: #00d7ff; text-decoration-color: #00d7ff\">None</span>, <span style=\"color: #00af00; text-decoration-color: #00af00\">1</span>, <span style=\"color: #00af00; text-decoration-color: #00af00\">32</span>)     │          <span style=\"color: #00af00; text-decoration-color: #00af00\">0</span> │ pool_layer_flat[<span style=\"color: #00af00; text-decoration-color: #00af00\">…</span> │\n",
       "│ (<span style=\"color: #0087ff; text-decoration-color: #0087ff\">Dropout</span>)           │                   │            │                   │\n",
       "├─────────────────────┼───────────────────┼────────────┼───────────────────┤\n",
       "│ concatenate_22      │ (<span style=\"color: #00d7ff; text-decoration-color: #00d7ff\">None</span>, <span style=\"color: #00af00; text-decoration-color: #00af00\">1</span>, <span style=\"color: #00af00; text-decoration-color: #00af00\">128</span>)    │          <span style=\"color: #00af00; text-decoration-color: #00af00\">0</span> │ uid_fc_layer[<span style=\"color: #00af00; text-decoration-color: #00af00\">0</span>][<span style=\"color: #00af00; text-decoration-color: #00af00\">…</span> │\n",
       "│ (<span style=\"color: #0087ff; text-decoration-color: #0087ff\">Concatenate</span>)       │                   │            │ gender_fc_layer[<span style=\"color: #00af00; text-decoration-color: #00af00\">…</span> │\n",
       "│                     │                   │            │ age_fc_layer[<span style=\"color: #00af00; text-decoration-color: #00af00\">0</span>][<span style=\"color: #00af00; text-decoration-color: #00af00\">…</span> │\n",
       "│                     │                   │            │ job_fc_layer[<span style=\"color: #00af00; text-decoration-color: #00af00\">0</span>][<span style=\"color: #00af00; text-decoration-color: #00af00\">…</span> │\n",
       "├─────────────────────┼───────────────────┼────────────┼───────────────────┤\n",
       "│ concatenate_23      │ (<span style=\"color: #00d7ff; text-decoration-color: #00d7ff\">None</span>, <span style=\"color: #00af00; text-decoration-color: #00af00\">1</span>, <span style=\"color: #00af00; text-decoration-color: #00af00\">96</span>)     │          <span style=\"color: #00af00; text-decoration-color: #00af00\">0</span> │ movie_id_fc_laye… │\n",
       "│ (<span style=\"color: #0087ff; text-decoration-color: #0087ff\">Concatenate</span>)       │                   │            │ movie_categories… │\n",
       "│                     │                   │            │ dropout_layer[<span style=\"color: #00af00; text-decoration-color: #00af00\">0</span>]… │\n",
       "├─────────────────────┼───────────────────┼────────────┼───────────────────┤\n",
       "│ dense_31 (<span style=\"color: #0087ff; text-decoration-color: #0087ff\">Dense</span>)    │ (<span style=\"color: #00d7ff; text-decoration-color: #00d7ff\">None</span>, <span style=\"color: #00af00; text-decoration-color: #00af00\">1</span>, <span style=\"color: #00af00; text-decoration-color: #00af00\">200</span>)    │     <span style=\"color: #00af00; text-decoration-color: #00af00\">25,800</span> │ concatenate_22[<span style=\"color: #00af00; text-decoration-color: #00af00\">0</span>… │\n",
       "├─────────────────────┼───────────────────┼────────────┼───────────────────┤\n",
       "│ dense_32 (<span style=\"color: #0087ff; text-decoration-color: #0087ff\">Dense</span>)    │ (<span style=\"color: #00d7ff; text-decoration-color: #00d7ff\">None</span>, <span style=\"color: #00af00; text-decoration-color: #00af00\">1</span>, <span style=\"color: #00af00; text-decoration-color: #00af00\">200</span>)    │     <span style=\"color: #00af00; text-decoration-color: #00af00\">19,400</span> │ concatenate_23[<span style=\"color: #00af00; text-decoration-color: #00af00\">0</span>… │\n",
       "├─────────────────────┼───────────────────┼────────────┼───────────────────┤\n",
       "│ user_combine_layer… │ (<span style=\"color: #00d7ff; text-decoration-color: #00d7ff\">None</span>, <span style=\"color: #00af00; text-decoration-color: #00af00\">200</span>)       │          <span style=\"color: #00af00; text-decoration-color: #00af00\">0</span> │ dense_31[<span style=\"color: #00af00; text-decoration-color: #00af00\">0</span>][<span style=\"color: #00af00; text-decoration-color: #00af00\">0</span>]    │\n",
       "│ (<span style=\"color: #0087ff; text-decoration-color: #0087ff\">Reshape</span>)           │                   │            │                   │\n",
       "├─────────────────────┼───────────────────┼────────────┼───────────────────┤\n",
       "│ movie_combine_laye… │ (<span style=\"color: #00d7ff; text-decoration-color: #00d7ff\">None</span>, <span style=\"color: #00af00; text-decoration-color: #00af00\">200</span>)       │          <span style=\"color: #00af00; text-decoration-color: #00af00\">0</span> │ dense_32[<span style=\"color: #00af00; text-decoration-color: #00af00\">0</span>][<span style=\"color: #00af00; text-decoration-color: #00af00\">0</span>]    │\n",
       "│ (<span style=\"color: #0087ff; text-decoration-color: #0087ff\">Reshape</span>)           │                   │            │                   │\n",
       "├─────────────────────┼───────────────────┼────────────┼───────────────────┤\n",
       "│ inference (<span style=\"color: #0087ff; text-decoration-color: #0087ff\">Lambda</span>)  │ (<span style=\"color: #00d7ff; text-decoration-color: #00d7ff\">None</span>)            │          <span style=\"color: #00af00; text-decoration-color: #00af00\">0</span> │ user_combine_lay… │\n",
       "│                     │                   │            │ movie_combine_la… │\n",
       "├─────────────────────┼───────────────────┼────────────┼───────────────────┤\n",
       "│ lambda_23 (<span style=\"color: #0087ff; text-decoration-color: #0087ff\">Lambda</span>)  │ (<span style=\"color: #00d7ff; text-decoration-color: #00d7ff\">None</span>, <span style=\"color: #00af00; text-decoration-color: #00af00\">1</span>)         │          <span style=\"color: #00af00; text-decoration-color: #00af00\">0</span> │ inference[<span style=\"color: #00af00; text-decoration-color: #00af00\">0</span>][<span style=\"color: #00af00; text-decoration-color: #00af00\">0</span>]   │\n",
       "└─────────────────────┴───────────────────┴────────────┴───────────────────┘\n",
       "</pre>\n"
      ],
      "text/plain": [
       "┏━━━━━━━━━━━━━━━━━━━━━┳━━━━━━━━━━━━━━━━━━━┳━━━━━━━━━━━━┳━━━━━━━━━━━━━━━━━━━┓\n",
       "┃\u001b[1m \u001b[0m\u001b[1mLayer (type)       \u001b[0m\u001b[1m \u001b[0m┃\u001b[1m \u001b[0m\u001b[1mOutput Shape     \u001b[0m\u001b[1m \u001b[0m┃\u001b[1m \u001b[0m\u001b[1m   Param #\u001b[0m\u001b[1m \u001b[0m┃\u001b[1m \u001b[0m\u001b[1mConnected to     \u001b[0m\u001b[1m \u001b[0m┃\n",
       "┡━━━━━━━━━━━━━━━━━━━━━╇━━━━━━━━━━━━━━━━━━━╇━━━━━━━━━━━━╇━━━━━━━━━━━━━━━━━━━┩\n",
       "│ movie_titles        │ (\u001b[38;5;45mNone\u001b[0m, \u001b[38;5;34m15\u001b[0m)        │          \u001b[38;5;34m0\u001b[0m │ -                 │\n",
       "│ (\u001b[38;5;33mInputLayer\u001b[0m)        │                   │            │                   │\n",
       "├─────────────────────┼───────────────────┼────────────┼───────────────────┤\n",
       "│ movie_title_embed_… │ (\u001b[38;5;45mNone\u001b[0m, \u001b[38;5;34m15\u001b[0m, \u001b[38;5;34m32\u001b[0m)    │    \u001b[38;5;34m166,528\u001b[0m │ movie_titles[\u001b[38;5;34m0\u001b[0m][\u001b[38;5;34m…\u001b[0m │\n",
       "│ (\u001b[38;5;33mEmbedding\u001b[0m)         │                   │            │                   │\n",
       "├─────────────────────┼───────────────────┼────────────┼───────────────────┤\n",
       "│ reshape_11          │ (\u001b[38;5;45mNone\u001b[0m, \u001b[38;5;34m15\u001b[0m, \u001b[38;5;34m32\u001b[0m, \u001b[38;5;34m1\u001b[0m) │          \u001b[38;5;34m0\u001b[0m │ movie_title_embe… │\n",
       "│ (\u001b[38;5;33mReshape\u001b[0m)           │                   │            │                   │\n",
       "├─────────────────────┼───────────────────┼────────────┼───────────────────┤\n",
       "│ conv2d_44 (\u001b[38;5;33mConv2D\u001b[0m)  │ (\u001b[38;5;45mNone\u001b[0m, \u001b[38;5;34m14\u001b[0m, \u001b[38;5;34m1\u001b[0m, \u001b[38;5;34m8\u001b[0m)  │        \u001b[38;5;34m520\u001b[0m │ reshape_11[\u001b[38;5;34m0\u001b[0m][\u001b[38;5;34m0\u001b[0m]  │\n",
       "├─────────────────────┼───────────────────┼────────────┼───────────────────┤\n",
       "│ conv2d_45 (\u001b[38;5;33mConv2D\u001b[0m)  │ (\u001b[38;5;45mNone\u001b[0m, \u001b[38;5;34m13\u001b[0m, \u001b[38;5;34m1\u001b[0m, \u001b[38;5;34m8\u001b[0m)  │        \u001b[38;5;34m776\u001b[0m │ reshape_11[\u001b[38;5;34m0\u001b[0m][\u001b[38;5;34m0\u001b[0m]  │\n",
       "├─────────────────────┼───────────────────┼────────────┼───────────────────┤\n",
       "│ conv2d_46 (\u001b[38;5;33mConv2D\u001b[0m)  │ (\u001b[38;5;45mNone\u001b[0m, \u001b[38;5;34m12\u001b[0m, \u001b[38;5;34m1\u001b[0m, \u001b[38;5;34m8\u001b[0m)  │      \u001b[38;5;34m1,032\u001b[0m │ reshape_11[\u001b[38;5;34m0\u001b[0m][\u001b[38;5;34m0\u001b[0m]  │\n",
       "├─────────────────────┼───────────────────┼────────────┼───────────────────┤\n",
       "│ conv2d_47 (\u001b[38;5;33mConv2D\u001b[0m)  │ (\u001b[38;5;45mNone\u001b[0m, \u001b[38;5;34m11\u001b[0m, \u001b[38;5;34m1\u001b[0m, \u001b[38;5;34m8\u001b[0m)  │      \u001b[38;5;34m1,288\u001b[0m │ reshape_11[\u001b[38;5;34m0\u001b[0m][\u001b[38;5;34m0\u001b[0m]  │\n",
       "├─────────────────────┼───────────────────┼────────────┼───────────────────┤\n",
       "│ movie_categories    │ (\u001b[38;5;45mNone\u001b[0m, \u001b[38;5;34m18\u001b[0m)        │          \u001b[38;5;34m0\u001b[0m │ -                 │\n",
       "│ (\u001b[38;5;33mInputLayer\u001b[0m)        │                   │            │                   │\n",
       "├─────────────────────┼───────────────────┼────────────┼───────────────────┤\n",
       "│ max_pooling2d_44    │ (\u001b[38;5;45mNone\u001b[0m, \u001b[38;5;34m1\u001b[0m, \u001b[38;5;34m1\u001b[0m, \u001b[38;5;34m8\u001b[0m)   │          \u001b[38;5;34m0\u001b[0m │ conv2d_44[\u001b[38;5;34m0\u001b[0m][\u001b[38;5;34m0\u001b[0m]   │\n",
       "│ (\u001b[38;5;33mMaxPooling2D\u001b[0m)      │                   │            │                   │\n",
       "├─────────────────────┼───────────────────┼────────────┼───────────────────┤\n",
       "│ max_pooling2d_45    │ (\u001b[38;5;45mNone\u001b[0m, \u001b[38;5;34m1\u001b[0m, \u001b[38;5;34m1\u001b[0m, \u001b[38;5;34m8\u001b[0m)   │          \u001b[38;5;34m0\u001b[0m │ conv2d_45[\u001b[38;5;34m0\u001b[0m][\u001b[38;5;34m0\u001b[0m]   │\n",
       "│ (\u001b[38;5;33mMaxPooling2D\u001b[0m)      │                   │            │                   │\n",
       "├─────────────────────┼───────────────────┼────────────┼───────────────────┤\n",
       "│ max_pooling2d_46    │ (\u001b[38;5;45mNone\u001b[0m, \u001b[38;5;34m1\u001b[0m, \u001b[38;5;34m1\u001b[0m, \u001b[38;5;34m8\u001b[0m)   │          \u001b[38;5;34m0\u001b[0m │ conv2d_46[\u001b[38;5;34m0\u001b[0m][\u001b[38;5;34m0\u001b[0m]   │\n",
       "│ (\u001b[38;5;33mMaxPooling2D\u001b[0m)      │                   │            │                   │\n",
       "├─────────────────────┼───────────────────┼────────────┼───────────────────┤\n",
       "│ max_pooling2d_47    │ (\u001b[38;5;45mNone\u001b[0m, \u001b[38;5;34m1\u001b[0m, \u001b[38;5;34m1\u001b[0m, \u001b[38;5;34m8\u001b[0m)   │          \u001b[38;5;34m0\u001b[0m │ conv2d_47[\u001b[38;5;34m0\u001b[0m][\u001b[38;5;34m0\u001b[0m]   │\n",
       "│ (\u001b[38;5;33mMaxPooling2D\u001b[0m)      │                   │            │                   │\n",
       "├─────────────────────┼───────────────────┼────────────┼───────────────────┤\n",
       "│ uid (\u001b[38;5;33mInputLayer\u001b[0m)    │ (\u001b[38;5;45mNone\u001b[0m, \u001b[38;5;34m1\u001b[0m)         │          \u001b[38;5;34m0\u001b[0m │ -                 │\n",
       "├─────────────────────┼───────────────────┼────────────┼───────────────────┤\n",
       "│ user_gender         │ (\u001b[38;5;45mNone\u001b[0m, \u001b[38;5;34m1\u001b[0m)         │          \u001b[38;5;34m0\u001b[0m │ -                 │\n",
       "│ (\u001b[38;5;33mInputLayer\u001b[0m)        │                   │            │                   │\n",
       "├─────────────────────┼───────────────────┼────────────┼───────────────────┤\n",
       "│ user_age            │ (\u001b[38;5;45mNone\u001b[0m, \u001b[38;5;34m1\u001b[0m)         │          \u001b[38;5;34m0\u001b[0m │ -                 │\n",
       "│ (\u001b[38;5;33mInputLayer\u001b[0m)        │                   │            │                   │\n",
       "├─────────────────────┼───────────────────┼────────────┼───────────────────┤\n",
       "│ user_job            │ (\u001b[38;5;45mNone\u001b[0m, \u001b[38;5;34m1\u001b[0m)         │          \u001b[38;5;34m0\u001b[0m │ -                 │\n",
       "│ (\u001b[38;5;33mInputLayer\u001b[0m)        │                   │            │                   │\n",
       "├─────────────────────┼───────────────────┼────────────┼───────────────────┤\n",
       "│ movie_id            │ (\u001b[38;5;45mNone\u001b[0m, \u001b[38;5;34m1\u001b[0m)         │          \u001b[38;5;34m0\u001b[0m │ -                 │\n",
       "│ (\u001b[38;5;33mInputLayer\u001b[0m)        │                   │            │                   │\n",
       "├─────────────────────┼───────────────────┼────────────┼───────────────────┤\n",
       "│ movie_categories_e… │ (\u001b[38;5;45mNone\u001b[0m, \u001b[38;5;34m18\u001b[0m, \u001b[38;5;34m32\u001b[0m)    │      \u001b[38;5;34m1,664\u001b[0m │ movie_categories… │\n",
       "│ (\u001b[38;5;33mEmbedding\u001b[0m)         │                   │            │                   │\n",
       "├─────────────────────┼───────────────────┼────────────┼───────────────────┤\n",
       "│ pool_layer          │ (\u001b[38;5;45mNone\u001b[0m, \u001b[38;5;34m1\u001b[0m, \u001b[38;5;34m1\u001b[0m, \u001b[38;5;34m32\u001b[0m)  │          \u001b[38;5;34m0\u001b[0m │ max_pooling2d_44… │\n",
       "│ (\u001b[38;5;33mConcatenate\u001b[0m)       │                   │            │ max_pooling2d_45… │\n",
       "│                     │                   │            │ max_pooling2d_46… │\n",
       "│                     │                   │            │ max_pooling2d_47… │\n",
       "├─────────────────────┼───────────────────┼────────────┼───────────────────┤\n",
       "│ uid_embed_layer     │ (\u001b[38;5;45mNone\u001b[0m, \u001b[38;5;34m1\u001b[0m, \u001b[38;5;34m32\u001b[0m)     │    \u001b[38;5;34m193,312\u001b[0m │ uid[\u001b[38;5;34m0\u001b[0m][\u001b[38;5;34m0\u001b[0m]         │\n",
       "│ (\u001b[38;5;33mEmbedding\u001b[0m)         │                   │            │                   │\n",
       "├─────────────────────┼───────────────────┼────────────┼───────────────────┤\n",
       "│ gender_embed_layer  │ (\u001b[38;5;45mNone\u001b[0m, \u001b[38;5;34m1\u001b[0m, \u001b[38;5;34m16\u001b[0m)     │         \u001b[38;5;34m32\u001b[0m │ user_gender[\u001b[38;5;34m0\u001b[0m][\u001b[38;5;34m0\u001b[0m] │\n",
       "│ (\u001b[38;5;33mEmbedding\u001b[0m)         │                   │            │                   │\n",
       "├─────────────────────┼───────────────────┼────────────┼───────────────────┤\n",
       "│ age_embed_layer     │ (\u001b[38;5;45mNone\u001b[0m, \u001b[38;5;34m1\u001b[0m, \u001b[38;5;34m16\u001b[0m)     │        \u001b[38;5;34m112\u001b[0m │ user_age[\u001b[38;5;34m0\u001b[0m][\u001b[38;5;34m0\u001b[0m]    │\n",
       "│ (\u001b[38;5;33mEmbedding\u001b[0m)         │                   │            │                   │\n",
       "├─────────────────────┼───────────────────┼────────────┼───────────────────┤\n",
       "│ job_embed_layer     │ (\u001b[38;5;45mNone\u001b[0m, \u001b[38;5;34m1\u001b[0m, \u001b[38;5;34m16\u001b[0m)     │        \u001b[38;5;34m336\u001b[0m │ user_job[\u001b[38;5;34m0\u001b[0m][\u001b[38;5;34m0\u001b[0m]    │\n",
       "│ (\u001b[38;5;33mEmbedding\u001b[0m)         │                   │            │                   │\n",
       "├─────────────────────┼───────────────────┼────────────┼───────────────────┤\n",
       "│ movie_id_embed_lay… │ (\u001b[38;5;45mNone\u001b[0m, \u001b[38;5;34m1\u001b[0m, \u001b[38;5;34m32\u001b[0m)     │    \u001b[38;5;34m126,496\u001b[0m │ movie_id[\u001b[38;5;34m0\u001b[0m][\u001b[38;5;34m0\u001b[0m]    │\n",
       "│ (\u001b[38;5;33mEmbedding\u001b[0m)         │                   │            │                   │\n",
       "├─────────────────────┼───────────────────┼────────────┼───────────────────┤\n",
       "│ lambda_22 (\u001b[38;5;33mLambda\u001b[0m)  │ (\u001b[38;5;45mNone\u001b[0m, \u001b[38;5;34m1\u001b[0m, \u001b[38;5;34m32\u001b[0m)     │          \u001b[38;5;34m0\u001b[0m │ movie_categories… │\n",
       "├─────────────────────┼───────────────────┼────────────┼───────────────────┤\n",
       "│ pool_layer_flat     │ (\u001b[38;5;45mNone\u001b[0m, \u001b[38;5;34m1\u001b[0m, \u001b[38;5;34m32\u001b[0m)     │          \u001b[38;5;34m0\u001b[0m │ pool_layer[\u001b[38;5;34m0\u001b[0m][\u001b[38;5;34m0\u001b[0m]  │\n",
       "│ (\u001b[38;5;33mReshape\u001b[0m)           │                   │            │                   │\n",
       "├─────────────────────┼───────────────────┼────────────┼───────────────────┤\n",
       "│ uid_fc_layer        │ (\u001b[38;5;45mNone\u001b[0m, \u001b[38;5;34m1\u001b[0m, \u001b[38;5;34m32\u001b[0m)     │      \u001b[38;5;34m1,056\u001b[0m │ uid_embed_layer[\u001b[38;5;34m…\u001b[0m │\n",
       "│ (\u001b[38;5;33mDense\u001b[0m)             │                   │            │                   │\n",
       "├─────────────────────┼───────────────────┼────────────┼───────────────────┤\n",
       "│ gender_fc_layer     │ (\u001b[38;5;45mNone\u001b[0m, \u001b[38;5;34m1\u001b[0m, \u001b[38;5;34m32\u001b[0m)     │        \u001b[38;5;34m544\u001b[0m │ gender_embed_lay… │\n",
       "│ (\u001b[38;5;33mDense\u001b[0m)             │                   │            │                   │\n",
       "├─────────────────────┼───────────────────┼────────────┼───────────────────┤\n",
       "│ age_fc_layer        │ (\u001b[38;5;45mNone\u001b[0m, \u001b[38;5;34m1\u001b[0m, \u001b[38;5;34m32\u001b[0m)     │        \u001b[38;5;34m544\u001b[0m │ age_embed_layer[\u001b[38;5;34m…\u001b[0m │\n",
       "│ (\u001b[38;5;33mDense\u001b[0m)             │                   │            │                   │\n",
       "├─────────────────────┼───────────────────┼────────────┼───────────────────┤\n",
       "│ job_fc_layer        │ (\u001b[38;5;45mNone\u001b[0m, \u001b[38;5;34m1\u001b[0m, \u001b[38;5;34m32\u001b[0m)     │        \u001b[38;5;34m544\u001b[0m │ job_embed_layer[\u001b[38;5;34m…\u001b[0m │\n",
       "│ (\u001b[38;5;33mDense\u001b[0m)             │                   │            │                   │\n",
       "├─────────────────────┼───────────────────┼────────────┼───────────────────┤\n",
       "│ movie_id_fc_layer   │ (\u001b[38;5;45mNone\u001b[0m, \u001b[38;5;34m1\u001b[0m, \u001b[38;5;34m32\u001b[0m)     │      \u001b[38;5;34m1,056\u001b[0m │ movie_id_embed_l… │\n",
       "│ (\u001b[38;5;33mDense\u001b[0m)             │                   │            │                   │\n",
       "├─────────────────────┼───────────────────┼────────────┼───────────────────┤\n",
       "│ movie_categories_f… │ (\u001b[38;5;45mNone\u001b[0m, \u001b[38;5;34m1\u001b[0m, \u001b[38;5;34m32\u001b[0m)     │      \u001b[38;5;34m1,056\u001b[0m │ lambda_22[\u001b[38;5;34m0\u001b[0m][\u001b[38;5;34m0\u001b[0m]   │\n",
       "│ (\u001b[38;5;33mDense\u001b[0m)             │                   │            │                   │\n",
       "├─────────────────────┼───────────────────┼────────────┼───────────────────┤\n",
       "│ dropout_layer       │ (\u001b[38;5;45mNone\u001b[0m, \u001b[38;5;34m1\u001b[0m, \u001b[38;5;34m32\u001b[0m)     │          \u001b[38;5;34m0\u001b[0m │ pool_layer_flat[\u001b[38;5;34m…\u001b[0m │\n",
       "│ (\u001b[38;5;33mDropout\u001b[0m)           │                   │            │                   │\n",
       "├─────────────────────┼───────────────────┼────────────┼───────────────────┤\n",
       "│ concatenate_22      │ (\u001b[38;5;45mNone\u001b[0m, \u001b[38;5;34m1\u001b[0m, \u001b[38;5;34m128\u001b[0m)    │          \u001b[38;5;34m0\u001b[0m │ uid_fc_layer[\u001b[38;5;34m0\u001b[0m][\u001b[38;5;34m…\u001b[0m │\n",
       "│ (\u001b[38;5;33mConcatenate\u001b[0m)       │                   │            │ gender_fc_layer[\u001b[38;5;34m…\u001b[0m │\n",
       "│                     │                   │            │ age_fc_layer[\u001b[38;5;34m0\u001b[0m][\u001b[38;5;34m…\u001b[0m │\n",
       "│                     │                   │            │ job_fc_layer[\u001b[38;5;34m0\u001b[0m][\u001b[38;5;34m…\u001b[0m │\n",
       "├─────────────────────┼───────────────────┼────────────┼───────────────────┤\n",
       "│ concatenate_23      │ (\u001b[38;5;45mNone\u001b[0m, \u001b[38;5;34m1\u001b[0m, \u001b[38;5;34m96\u001b[0m)     │          \u001b[38;5;34m0\u001b[0m │ movie_id_fc_laye… │\n",
       "│ (\u001b[38;5;33mConcatenate\u001b[0m)       │                   │            │ movie_categories… │\n",
       "│                     │                   │            │ dropout_layer[\u001b[38;5;34m0\u001b[0m]… │\n",
       "├─────────────────────┼───────────────────┼────────────┼───────────────────┤\n",
       "│ dense_31 (\u001b[38;5;33mDense\u001b[0m)    │ (\u001b[38;5;45mNone\u001b[0m, \u001b[38;5;34m1\u001b[0m, \u001b[38;5;34m200\u001b[0m)    │     \u001b[38;5;34m25,800\u001b[0m │ concatenate_22[\u001b[38;5;34m0\u001b[0m… │\n",
       "├─────────────────────┼───────────────────┼────────────┼───────────────────┤\n",
       "│ dense_32 (\u001b[38;5;33mDense\u001b[0m)    │ (\u001b[38;5;45mNone\u001b[0m, \u001b[38;5;34m1\u001b[0m, \u001b[38;5;34m200\u001b[0m)    │     \u001b[38;5;34m19,400\u001b[0m │ concatenate_23[\u001b[38;5;34m0\u001b[0m… │\n",
       "├─────────────────────┼───────────────────┼────────────┼───────────────────┤\n",
       "│ user_combine_layer… │ (\u001b[38;5;45mNone\u001b[0m, \u001b[38;5;34m200\u001b[0m)       │          \u001b[38;5;34m0\u001b[0m │ dense_31[\u001b[38;5;34m0\u001b[0m][\u001b[38;5;34m0\u001b[0m]    │\n",
       "│ (\u001b[38;5;33mReshape\u001b[0m)           │                   │            │                   │\n",
       "├─────────────────────┼───────────────────┼────────────┼───────────────────┤\n",
       "│ movie_combine_laye… │ (\u001b[38;5;45mNone\u001b[0m, \u001b[38;5;34m200\u001b[0m)       │          \u001b[38;5;34m0\u001b[0m │ dense_32[\u001b[38;5;34m0\u001b[0m][\u001b[38;5;34m0\u001b[0m]    │\n",
       "│ (\u001b[38;5;33mReshape\u001b[0m)           │                   │            │                   │\n",
       "├─────────────────────┼───────────────────┼────────────┼───────────────────┤\n",
       "│ inference (\u001b[38;5;33mLambda\u001b[0m)  │ (\u001b[38;5;45mNone\u001b[0m)            │          \u001b[38;5;34m0\u001b[0m │ user_combine_lay… │\n",
       "│                     │                   │            │ movie_combine_la… │\n",
       "├─────────────────────┼───────────────────┼────────────┼───────────────────┤\n",
       "│ lambda_23 (\u001b[38;5;33mLambda\u001b[0m)  │ (\u001b[38;5;45mNone\u001b[0m, \u001b[38;5;34m1\u001b[0m)         │          \u001b[38;5;34m0\u001b[0m │ inference[\u001b[38;5;34m0\u001b[0m][\u001b[38;5;34m0\u001b[0m]   │\n",
       "└─────────────────────┴───────────────────┴────────────┴───────────────────┘\n"
      ]
     },
     "metadata": {},
     "output_type": "display_data"
    },
    {
     "data": {
      "text/html": [
       "<pre style=\"white-space:pre;overflow-x:auto;line-height:normal;font-family:Menlo,'DejaVu Sans Mono',consolas,'Courier New',monospace\"><span style=\"font-weight: bold\"> Total params: </span><span style=\"color: #00af00; text-decoration-color: #00af00\">542,096</span> (2.07 MB)\n",
       "</pre>\n"
      ],
      "text/plain": [
       "\u001b[1m Total params: \u001b[0m\u001b[38;5;34m542,096\u001b[0m (2.07 MB)\n"
      ]
     },
     "metadata": {},
     "output_type": "display_data"
    },
    {
     "data": {
      "text/html": [
       "<pre style=\"white-space:pre;overflow-x:auto;line-height:normal;font-family:Menlo,'DejaVu Sans Mono',consolas,'Courier New',monospace\"><span style=\"font-weight: bold\"> Trainable params: </span><span style=\"color: #00af00; text-decoration-color: #00af00\">542,096</span> (2.07 MB)\n",
       "</pre>\n"
      ],
      "text/plain": [
       "\u001b[1m Trainable params: \u001b[0m\u001b[38;5;34m542,096\u001b[0m (2.07 MB)\n"
      ]
     },
     "metadata": {},
     "output_type": "display_data"
    },
    {
     "data": {
      "text/html": [
       "<pre style=\"white-space:pre;overflow-x:auto;line-height:normal;font-family:Menlo,'DejaVu Sans Mono',consolas,'Courier New',monospace\"><span style=\"font-weight: bold\"> Non-trainable params: </span><span style=\"color: #00af00; text-decoration-color: #00af00\">0</span> (0.00 B)\n",
       "</pre>\n"
      ],
      "text/plain": [
       "\u001b[1m Non-trainable params: \u001b[0m\u001b[38;5;34m0\u001b[0m (0.00 B)\n"
      ]
     },
     "metadata": {},
     "output_type": "display_data"
    },
    {
     "ename": "ValueError",
     "evalue": "Received incompatible tensor with shape (5217, 32) when attempting to restore variable with shape (5204, 32) and name movie_title_embed_layer/embeddings:0.",
     "output_type": "error",
     "traceback": [
      "\u001b[1;31m---------------------------------------------------------------------------\u001b[0m",
      "\u001b[1;31mValueError\u001b[0m                                Traceback (most recent call last)",
      "File \u001b[1;32md:\\chrome_download\\movie_recommender-master\\movie_recommender-master\\lib\\site-packages\\tensorflow\\python\\ops\\resource_variable_ops.py:777\u001b[0m, in \u001b[0;36mBaseResourceVariable._restore_from_tensors\u001b[1;34m(self, restored_tensors)\u001b[0m\n\u001b[0;32m    776\u001b[0m \u001b[39mtry\u001b[39;00m:\n\u001b[1;32m--> 777\u001b[0m   assigned_variable \u001b[39m=\u001b[39m shape_safe_assign_variable_handle(\n\u001b[0;32m    778\u001b[0m       \u001b[39mself\u001b[39;49m\u001b[39m.\u001b[39;49mhandle, \u001b[39mself\u001b[39;49m\u001b[39m.\u001b[39;49mshape, restored_tensor)\n\u001b[0;32m    779\u001b[0m \u001b[39mexcept\u001b[39;00m \u001b[39mValueError\u001b[39;00m \u001b[39mas\u001b[39;00m e:\n",
      "File \u001b[1;32md:\\chrome_download\\movie_recommender-master\\movie_recommender-master\\lib\\site-packages\\tensorflow\\python\\ops\\resource_variable_ops.py:312\u001b[0m, in \u001b[0;36mshape_safe_assign_variable_handle\u001b[1;34m(handle, shape, value, name)\u001b[0m\n\u001b[0;32m    311\u001b[0m   value_tensor \u001b[39m=\u001b[39m ops\u001b[39m.\u001b[39mconvert_to_tensor(value)\n\u001b[1;32m--> 312\u001b[0m shape\u001b[39m.\u001b[39;49massert_is_compatible_with(value_tensor\u001b[39m.\u001b[39;49mshape)\n\u001b[0;32m    313\u001b[0m \u001b[39mreturn\u001b[39;00m gen_resource_variable_ops\u001b[39m.\u001b[39massign_variable_op(\n\u001b[0;32m    314\u001b[0m     handle, value_tensor, name\u001b[39m=\u001b[39mname)\n",
      "File \u001b[1;32md:\\chrome_download\\movie_recommender-master\\movie_recommender-master\\lib\\site-packages\\tensorflow\\python\\framework\\tensor_shape.py:1384\u001b[0m, in \u001b[0;36mTensorShape.assert_is_compatible_with\u001b[1;34m(self, other)\u001b[0m\n\u001b[0;32m   1383\u001b[0m \u001b[39mif\u001b[39;00m \u001b[39mnot\u001b[39;00m \u001b[39mself\u001b[39m\u001b[39m.\u001b[39mis_compatible_with(other):\n\u001b[1;32m-> 1384\u001b[0m   \u001b[39mraise\u001b[39;00m \u001b[39mValueError\u001b[39;00m(\u001b[39m\"\u001b[39m\u001b[39mShapes \u001b[39m\u001b[39m%s\u001b[39;00m\u001b[39m and \u001b[39m\u001b[39m%s\u001b[39;00m\u001b[39m are incompatible\u001b[39m\u001b[39m\"\u001b[39m \u001b[39m%\u001b[39m (\u001b[39mself\u001b[39m, other))\n",
      "\u001b[1;31mValueError\u001b[0m: Shapes (5204, 32) and (5217, 32) are incompatible",
      "\nThe above exception was the direct cause of the following exception:\n",
      "\u001b[1;31mValueError\u001b[0m                                Traceback (most recent call last)",
      "\u001b[1;32md:\\chrome_download\\movie_recommender-master\\movie_recommender-master\\movie_recommender_tf2.ipynb 单元格 26\u001b[0m line \u001b[0;36m1\n\u001b[1;32m----> <a href='vscode-notebook-cell:/d%3A/chrome_download/movie_recommender-master/movie_recommender-master/movie_recommender_tf2.ipynb#Y126sZmlsZQ%3D%3D?line=0'>1</a>\u001b[0m mv_net\u001b[39m=\u001b[39mmv_network()\n\u001b[0;32m      <a href='vscode-notebook-cell:/d%3A/chrome_download/movie_recommender-master/movie_recommender-master/movie_recommender_tf2.ipynb#Y126sZmlsZQ%3D%3D?line=1'>2</a>\u001b[0m mv_net\u001b[39m.\u001b[39mtraining(features, targets_values, epochs\u001b[39m=\u001b[39m\u001b[39m5\u001b[39m)\n",
      "\u001b[1;32md:\\chrome_download\\movie_recommender-master\\movie_recommender-master\\movie_recommender_tf2.ipynb 单元格 26\u001b[0m line \u001b[0;36m7\n\u001b[0;32m     <a href='vscode-notebook-cell:/d%3A/chrome_download/movie_recommender-master/movie_recommender-master/movie_recommender_tf2.ipynb#Y126sZmlsZQ%3D%3D?line=73'>74</a>\u001b[0m \u001b[39mself\u001b[39m\u001b[39m.\u001b[39mcheckpoint \u001b[39m=\u001b[39m tf\u001b[39m.\u001b[39mtrain\u001b[39m.\u001b[39mCheckpoint(model\u001b[39m=\u001b[39m\u001b[39mself\u001b[39m\u001b[39m.\u001b[39mmodel, optimizer\u001b[39m=\u001b[39m\u001b[39mself\u001b[39m\u001b[39m.\u001b[39moptimizer)\n\u001b[0;32m     <a href='vscode-notebook-cell:/d%3A/chrome_download/movie_recommender-master/movie_recommender-master/movie_recommender_tf2.ipynb#Y126sZmlsZQ%3D%3D?line=75'>76</a>\u001b[0m \u001b[39m# Restore variables on creation if a checkpoint exists.\u001b[39;00m\n\u001b[1;32m---> <a href='vscode-notebook-cell:/d%3A/chrome_download/movie_recommender-master/movie_recommender-master/movie_recommender_tf2.ipynb#Y126sZmlsZQ%3D%3D?line=76'>77</a>\u001b[0m \u001b[39mself\u001b[39;49m\u001b[39m.\u001b[39;49mcheckpoint\u001b[39m.\u001b[39;49mrestore(tf\u001b[39m.\u001b[39;49mtrain\u001b[39m.\u001b[39;49mlatest_checkpoint(checkpoint_dir))\n",
      "File \u001b[1;32md:\\chrome_download\\movie_recommender-master\\movie_recommender-master\\lib\\site-packages\\tensorflow\\python\\checkpoint\\checkpoint.py:2732\u001b[0m, in \u001b[0;36mCheckpoint.restore\u001b[1;34m(self, save_path, options)\u001b[0m\n\u001b[0;32m   2729\u001b[0m   save_path \u001b[39m=\u001b[39m path_helpers\u001b[39m.\u001b[39mget_variables_path(save_path)\n\u001b[0;32m   2731\u001b[0m \u001b[39mtry\u001b[39;00m:\n\u001b[1;32m-> 2732\u001b[0m   status \u001b[39m=\u001b[39m \u001b[39mself\u001b[39;49m\u001b[39m.\u001b[39;49mread(save_path, options\u001b[39m=\u001b[39;49moptions)\n\u001b[0;32m   2733\u001b[0m   \u001b[39mif\u001b[39;00m context\u001b[39m.\u001b[39mexecuting_eagerly():\n\u001b[0;32m   2734\u001b[0m     context\u001b[39m.\u001b[39masync_wait()  \u001b[39m# Ensure restore operations have completed.\u001b[39;00m\n",
      "File \u001b[1;32md:\\chrome_download\\movie_recommender-master\\movie_recommender-master\\lib\\site-packages\\tensorflow\\python\\checkpoint\\checkpoint.py:2595\u001b[0m, in \u001b[0;36mCheckpoint.read\u001b[1;34m(self, save_path, options)\u001b[0m\n\u001b[0;32m   2593\u001b[0m   save_path \u001b[39m=\u001b[39m os\u001b[39m.\u001b[39mfspath(save_path)\n\u001b[0;32m   2594\u001b[0m options \u001b[39m=\u001b[39m options \u001b[39mor\u001b[39;00m checkpoint_options\u001b[39m.\u001b[39mCheckpointOptions()\n\u001b[1;32m-> 2595\u001b[0m result \u001b[39m=\u001b[39m \u001b[39mself\u001b[39;49m\u001b[39m.\u001b[39;49m_saver\u001b[39m.\u001b[39;49mrestore(save_path\u001b[39m=\u001b[39;49msave_path, options\u001b[39m=\u001b[39;49moptions)\n\u001b[0;32m   2596\u001b[0m metrics\u001b[39m.\u001b[39mAddCheckpointReadDuration(\n\u001b[0;32m   2597\u001b[0m     api_label\u001b[39m=\u001b[39m_CHECKPOINT_V2,\n\u001b[0;32m   2598\u001b[0m     microseconds\u001b[39m=\u001b[39m_get_duration_microseconds(start_time, time\u001b[39m.\u001b[39mtime()))\n\u001b[0;32m   2599\u001b[0m \u001b[39mreturn\u001b[39;00m result\n",
      "File \u001b[1;32md:\\chrome_download\\movie_recommender-master\\movie_recommender-master\\lib\\site-packages\\tensorflow\\python\\checkpoint\\checkpoint.py:1502\u001b[0m, in \u001b[0;36mTrackableSaver.restore\u001b[1;34m(self, save_path, options)\u001b[0m\n\u001b[0;32m   1492\u001b[0m object_graph_proto\u001b[39m.\u001b[39mParseFromString(object_graph_string)\n\u001b[0;32m   1493\u001b[0m checkpoint \u001b[39m=\u001b[39m _CheckpointRestoreCoordinator(\n\u001b[0;32m   1494\u001b[0m     object_graph_proto\u001b[39m=\u001b[39mobject_graph_proto,\n\u001b[0;32m   1495\u001b[0m     save_path\u001b[39m=\u001b[39msave_path,\n\u001b[1;32m   (...)\u001b[0m\n\u001b[0;32m   1500\u001b[0m     options\u001b[39m=\u001b[39moptions,\n\u001b[0;32m   1501\u001b[0m     saveables_cache\u001b[39m=\u001b[39m\u001b[39mself\u001b[39m\u001b[39m.\u001b[39m_saveables_cache)\n\u001b[1;32m-> 1502\u001b[0m restore_lib\u001b[39m.\u001b[39;49mCheckpointPosition(\n\u001b[0;32m   1503\u001b[0m     checkpoint\u001b[39m=\u001b[39;49mcheckpoint, proto_id\u001b[39m=\u001b[39;49m\u001b[39m0\u001b[39;49m)\u001b[39m.\u001b[39;49mrestore(\u001b[39mself\u001b[39;49m\u001b[39m.\u001b[39;49m_graph_view\u001b[39m.\u001b[39;49mroot,\n\u001b[0;32m   1504\u001b[0m                                                reader)\n\u001b[0;32m   1506\u001b[0m \u001b[39m# Attached dependencies are not attached to the root, so should be restored\u001b[39;00m\n\u001b[0;32m   1507\u001b[0m \u001b[39m# separately.\u001b[39;00m\n\u001b[0;32m   1508\u001b[0m \u001b[39mif\u001b[39;00m \u001b[39mself\u001b[39m\u001b[39m.\u001b[39m_graph_view\u001b[39m.\u001b[39mattached_dependencies:\n",
      "File \u001b[1;32md:\\chrome_download\\movie_recommender-master\\movie_recommender-master\\lib\\site-packages\\tensorflow\\python\\checkpoint\\restore.py:62\u001b[0m, in \u001b[0;36mCheckpointPosition.restore\u001b[1;34m(self, trackable, reader)\u001b[0m\n\u001b[0;32m     58\u001b[0m \u001b[39mwith\u001b[39;00m ops\u001b[39m.\u001b[39minit_scope():\n\u001b[0;32m     59\u001b[0m   \u001b[39mif\u001b[39;00m \u001b[39mself\u001b[39m\u001b[39m.\u001b[39mbind_object(trackable):\n\u001b[0;32m     60\u001b[0m     \u001b[39m# This object's correspondence with a checkpointed object is new, so\u001b[39;00m\n\u001b[0;32m     61\u001b[0m     \u001b[39m# process deferred restorations for it and its dependencies.\u001b[39;00m\n\u001b[1;32m---> 62\u001b[0m     restore_ops \u001b[39m=\u001b[39m \u001b[39mself\u001b[39;49m\u001b[39m.\u001b[39;49m_restore_descendants(reader)\n\u001b[0;32m     63\u001b[0m     \u001b[39mif\u001b[39;00m restore_ops:\n\u001b[0;32m     64\u001b[0m       \u001b[39mself\u001b[39m\u001b[39m.\u001b[39m_checkpoint\u001b[39m.\u001b[39mnew_restore_ops(restore_ops)\n",
      "File \u001b[1;32md:\\chrome_download\\movie_recommender-master\\movie_recommender-master\\lib\\site-packages\\tensorflow\\python\\checkpoint\\restore.py:463\u001b[0m, in \u001b[0;36mCheckpointPosition._restore_descendants\u001b[1;34m(self, reader)\u001b[0m\n\u001b[0;32m    459\u001b[0m   _queue_children_for_restoration(current_position, visit_queue)\n\u001b[0;32m    460\u001b[0m   _queue_slot_variables(current_position, visit_queue)\n\u001b[0;32m    462\u001b[0m restore_ops\u001b[39m.\u001b[39mextend(\n\u001b[1;32m--> 463\u001b[0m     current_position\u001b[39m.\u001b[39;49mcheckpoint\u001b[39m.\u001b[39;49mrestore_saveables(\n\u001b[0;32m    464\u001b[0m         tensor_saveables,\n\u001b[0;32m    465\u001b[0m         python_positions,\n\u001b[0;32m    466\u001b[0m         registered_savers,\n\u001b[0;32m    467\u001b[0m         reader\u001b[39m=\u001b[39;49mreader))\n\u001b[0;32m    468\u001b[0m \u001b[39mreturn\u001b[39;00m restore_ops\n",
      "File \u001b[1;32md:\\chrome_download\\movie_recommender-master\\movie_recommender-master\\lib\\site-packages\\tensorflow\\python\\checkpoint\\checkpoint.py:382\u001b[0m, in \u001b[0;36m_CheckpointRestoreCoordinator.restore_saveables\u001b[1;34m(self, tensor_saveables, python_positions, registered_savers, reader)\u001b[0m\n\u001b[0;32m    379\u001b[0m \u001b[39mif\u001b[39;00m tensor_saveables \u001b[39mor\u001b[39;00m registered_savers:\n\u001b[0;32m    380\u001b[0m   flat_saveables \u001b[39m=\u001b[39m saveable_object_util\u001b[39m.\u001b[39mvalidate_and_slice_inputs(\n\u001b[0;32m    381\u001b[0m       tensor_saveables)\n\u001b[1;32m--> 382\u001b[0m   new_restore_ops \u001b[39m=\u001b[39m functional_saver\u001b[39m.\u001b[39;49mMultiDeviceSaver\u001b[39m.\u001b[39;49mfrom_saveables(\n\u001b[0;32m    383\u001b[0m       flat_saveables,\n\u001b[0;32m    384\u001b[0m       registered_savers)\u001b[39m.\u001b[39;49mrestore(\u001b[39mself\u001b[39;49m\u001b[39m.\u001b[39;49msave_path_tensor, \u001b[39mself\u001b[39;49m\u001b[39m.\u001b[39;49moptions)\n\u001b[0;32m    385\u001b[0m   \u001b[39mif\u001b[39;00m \u001b[39mnot\u001b[39;00m context\u001b[39m.\u001b[39mexecuting_eagerly():\n\u001b[0;32m    386\u001b[0m     \u001b[39mfor\u001b[39;00m name, restore_op \u001b[39min\u001b[39;00m \u001b[39msorted\u001b[39m(new_restore_ops\u001b[39m.\u001b[39mitems()):\n",
      "File \u001b[1;32md:\\chrome_download\\movie_recommender-master\\movie_recommender-master\\lib\\site-packages\\tensorflow\\python\\checkpoint\\functional_saver.py:656\u001b[0m, in \u001b[0;36mMultiDeviceSaver.restore\u001b[1;34m(self, file_prefix, options)\u001b[0m\n\u001b[0;32m    654\u001b[0m   restore_ops \u001b[39m=\u001b[39m tf_function_restore()\n\u001b[0;32m    655\u001b[0m \u001b[39melse\u001b[39;00m:\n\u001b[1;32m--> 656\u001b[0m   restore_ops \u001b[39m=\u001b[39m restore_fn()\n\u001b[0;32m    658\u001b[0m \u001b[39mreturn\u001b[39;00m restore_ops\n",
      "File \u001b[1;32md:\\chrome_download\\movie_recommender-master\\movie_recommender-master\\lib\\site-packages\\tensorflow\\python\\checkpoint\\functional_saver.py:623\u001b[0m, in \u001b[0;36mMultiDeviceSaver.restore.<locals>.restore_fn\u001b[1;34m()\u001b[0m\n\u001b[0;32m    620\u001b[0m \u001b[39mfor\u001b[39;00m ckpt_key, tensor \u001b[39min\u001b[39;00m restore_fn_inputs[restore_fn]\u001b[39m.\u001b[39mitems():\n\u001b[0;32m    621\u001b[0m   restored_tensors[trackable_utils\u001b[39m.\u001b[39mextract_local_name(\n\u001b[0;32m    622\u001b[0m       ckpt_key)] \u001b[39m=\u001b[39m tensor\n\u001b[1;32m--> 623\u001b[0m ret \u001b[39m=\u001b[39m restore_fn(restored_tensors)\n\u001b[0;32m    624\u001b[0m \u001b[39mif\u001b[39;00m \u001b[39misinstance\u001b[39m(ret, \u001b[39mdict\u001b[39m):\n\u001b[0;32m    625\u001b[0m   restore_ops\u001b[39m.\u001b[39mupdate(ret)\n",
      "File \u001b[1;32md:\\chrome_download\\movie_recommender-master\\movie_recommender-master\\lib\\site-packages\\tensorflow\\python\\training\\saving\\saveable_object_util.py:747\u001b[0m, in \u001b[0;36mSaveableCompatibilityConverter._restore_from_tensors\u001b[1;34m(self, restored_tensors)\u001b[0m\n\u001b[0;32m    741\u001b[0m \u001b[39mif\u001b[39;00m \u001b[39mset\u001b[39m(expected_keys) \u001b[39m!=\u001b[39m restored_tensors\u001b[39m.\u001b[39mkeys():\n\u001b[0;32m    742\u001b[0m   \u001b[39mraise\u001b[39;00m \u001b[39mValueError\u001b[39;00m(\u001b[39mf\u001b[39m\u001b[39m\"\u001b[39m\u001b[39mCould not restore object \u001b[39m\u001b[39m{\u001b[39;00m\u001b[39mself\u001b[39m\u001b[39m.\u001b[39m_obj\u001b[39m}\u001b[39;00m\u001b[39m because not all \u001b[39m\u001b[39m\"\u001b[39m\n\u001b[0;32m    743\u001b[0m                    \u001b[39m\"\u001b[39m\u001b[39mexpected tensors were in the checkpoint.\u001b[39m\u001b[39m\"\u001b[39m\n\u001b[0;32m    744\u001b[0m                    \u001b[39mf\u001b[39m\u001b[39m\"\u001b[39m\u001b[39m\\n\u001b[39;00m\u001b[39m\\t\u001b[39;00m\u001b[39mExpected: \u001b[39m\u001b[39m{\u001b[39;00mexpected_keys\u001b[39m}\u001b[39;00m\u001b[39m\"\u001b[39m\n\u001b[0;32m    745\u001b[0m                    \u001b[39mf\u001b[39m\u001b[39m\"\u001b[39m\u001b[39m\\n\u001b[39;00m\u001b[39m\\t\u001b[39;00m\u001b[39mGot: \u001b[39m\u001b[39m{\u001b[39;00m\u001b[39mlist\u001b[39m(restored_tensors\u001b[39m.\u001b[39mkeys())\u001b[39m}\u001b[39;00m\u001b[39m\"\u001b[39m)\n\u001b[1;32m--> 747\u001b[0m \u001b[39mreturn\u001b[39;00m saveable_object_to_restore_fn(\u001b[39mself\u001b[39;49m\u001b[39m.\u001b[39;49msaveables)(restored_tensors)\n",
      "File \u001b[1;32md:\\chrome_download\\movie_recommender-master\\movie_recommender-master\\lib\\site-packages\\tensorflow\\python\\training\\saving\\saveable_object_util.py:784\u001b[0m, in \u001b[0;36msaveable_object_to_restore_fn.<locals>._restore_from_tensors\u001b[1;34m(restored_tensors)\u001b[0m\n\u001b[0;32m    781\u001b[0m       maybe_tensor \u001b[39m=\u001b[39m {\u001b[39m\"\u001b[39m\u001b[39m\"\u001b[39m: maybe_tensor}\n\u001b[0;32m    783\u001b[0m     saveable_restored_tensors\u001b[39m.\u001b[39mappend(maybe_tensor[slice_spec])\n\u001b[1;32m--> 784\u001b[0m   restore_ops[saveable\u001b[39m.\u001b[39mname] \u001b[39m=\u001b[39m saveable\u001b[39m.\u001b[39;49mrestore(\n\u001b[0;32m    785\u001b[0m       saveable_restored_tensors, restored_shapes\u001b[39m=\u001b[39;49m\u001b[39mNone\u001b[39;49;00m)\n\u001b[0;32m    786\u001b[0m \u001b[39mreturn\u001b[39;00m restore_ops\n",
      "File \u001b[1;32md:\\chrome_download\\movie_recommender-master\\movie_recommender-master\\lib\\site-packages\\tensorflow\\python\\training\\saving\\saveable_object_util.py:602\u001b[0m, in \u001b[0;36mTrackableSaveable.restore\u001b[1;34m(***failed resolving arguments***)\u001b[0m\n\u001b[0;32m    600\u001b[0m   ret \u001b[39m=\u001b[39m \u001b[39mself\u001b[39m\u001b[39m.\u001b[39m_call_with_mapped_captures(restore_fn, [restored_tensor_dict])\n\u001b[0;32m    601\u001b[0m \u001b[39melse\u001b[39;00m:\n\u001b[1;32m--> 602\u001b[0m   ret \u001b[39m=\u001b[39m restore_fn(restored_tensor_dict)\n\u001b[0;32m    603\u001b[0m \u001b[39mif\u001b[39;00m ret \u001b[39mis\u001b[39;00m \u001b[39mnot\u001b[39;00m \u001b[39mNone\u001b[39;00m:\n\u001b[0;32m    604\u001b[0m   \u001b[39mreturn\u001b[39;00m ret\n",
      "File \u001b[1;32md:\\chrome_download\\movie_recommender-master\\movie_recommender-master\\lib\\site-packages\\keras\\src\\backend\\tensorflow\\core.py:79\u001b[0m, in \u001b[0;36mVariable._restore_from_tensors\u001b[1;34m(self, restored_tensors)\u001b[0m\n\u001b[0;32m     77\u001b[0m \u001b[39mdef\u001b[39;00m \u001b[39m_restore_from_tensors\u001b[39m(\u001b[39mself\u001b[39m, restored_tensors):\n\u001b[0;32m     78\u001b[0m     \u001b[39mtry\u001b[39;00m:\n\u001b[1;32m---> 79\u001b[0m         \u001b[39mreturn\u001b[39;00m \u001b[39mself\u001b[39;49m\u001b[39m.\u001b[39;49mvalue\u001b[39m.\u001b[39;49m_restore_from_tensors(restored_tensors)\n\u001b[0;32m     80\u001b[0m     \u001b[39mexcept\u001b[39;00m \u001b[39mNotImplementedError\u001b[39;00m:\n\u001b[0;32m     81\u001b[0m         \u001b[39mself\u001b[39m\u001b[39m.\u001b[39massign(restored_tensors[\u001b[39m\"\u001b[39m\u001b[39mVARIABLE_VALUE\u001b[39m\u001b[39m\"\u001b[39m])\n",
      "File \u001b[1;32md:\\chrome_download\\movie_recommender-master\\movie_recommender-master\\lib\\site-packages\\tensorflow\\python\\ops\\resource_variable_ops.py:780\u001b[0m, in \u001b[0;36mBaseResourceVariable._restore_from_tensors\u001b[1;34m(self, restored_tensors)\u001b[0m\n\u001b[0;32m    777\u001b[0m   assigned_variable \u001b[39m=\u001b[39m shape_safe_assign_variable_handle(\n\u001b[0;32m    778\u001b[0m       \u001b[39mself\u001b[39m\u001b[39m.\u001b[39mhandle, \u001b[39mself\u001b[39m\u001b[39m.\u001b[39mshape, restored_tensor)\n\u001b[0;32m    779\u001b[0m \u001b[39mexcept\u001b[39;00m \u001b[39mValueError\u001b[39;00m \u001b[39mas\u001b[39;00m e:\n\u001b[1;32m--> 780\u001b[0m   \u001b[39mraise\u001b[39;00m \u001b[39mValueError\u001b[39;00m(\n\u001b[0;32m    781\u001b[0m       \u001b[39mf\u001b[39m\u001b[39m\"\u001b[39m\u001b[39mReceived incompatible tensor with shape \u001b[39m\u001b[39m{\u001b[39;00mrestored_tensor\u001b[39m.\u001b[39mshape\u001b[39m}\u001b[39;00m\u001b[39m \u001b[39m\u001b[39m\"\u001b[39m\n\u001b[0;32m    782\u001b[0m       \u001b[39mf\u001b[39m\u001b[39m\"\u001b[39m\u001b[39mwhen attempting to restore variable with shape \u001b[39m\u001b[39m{\u001b[39;00m\u001b[39mself\u001b[39m\u001b[39m.\u001b[39mshape\u001b[39m}\u001b[39;00m\u001b[39m \u001b[39m\u001b[39m\"\u001b[39m\n\u001b[0;32m    783\u001b[0m       \u001b[39mf\u001b[39m\u001b[39m\"\u001b[39m\u001b[39mand name \u001b[39m\u001b[39m{\u001b[39;00m\u001b[39mself\u001b[39m\u001b[39m.\u001b[39mname\u001b[39m}\u001b[39;00m\u001b[39m.\u001b[39m\u001b[39m\"\u001b[39m) \u001b[39mfrom\u001b[39;00m \u001b[39me\u001b[39;00m\n\u001b[0;32m    784\u001b[0m \u001b[39mreturn\u001b[39;00m assigned_variable\n",
      "\u001b[1;31mValueError\u001b[0m: Received incompatible tensor with shape (5217, 32) when attempting to restore variable with shape (5204, 32) and name movie_title_embed_layer/embeddings:0."
     ]
    }
   ],
   "source": [
    "mv_net=mv_network()\n",
    "mv_net.training(features, targets_values, epochs=5)"
   ]
  },
  {
   "cell_type": "code",
   "execution_count": null,
   "metadata": {},
   "outputs": [
    {
     "name": "stderr",
     "output_type": "stream",
     "text": [
      "d:\\chrome_download\\movie_recommender-master\\movie_recommender-master\\lib\\site-packages\\keras\\src\\layers\\core\\embedding.py:86: UserWarning: Argument `input_length` is deprecated. Just remove it.\n",
      "  warnings.warn(\n"
     ]
    },
    {
     "data": {
      "text/html": [
       "<pre style=\"white-space:pre;overflow-x:auto;line-height:normal;font-family:Menlo,'DejaVu Sans Mono',consolas,'Courier New',monospace\"><span style=\"font-weight: bold\">Model: \"functional_21\"</span>\n",
       "</pre>\n"
      ],
      "text/plain": [
       "\u001b[1mModel: \"functional_21\"\u001b[0m\n"
      ]
     },
     "metadata": {},
     "output_type": "display_data"
    },
    {
     "data": {
      "text/html": [
       "<pre style=\"white-space:pre;overflow-x:auto;line-height:normal;font-family:Menlo,'DejaVu Sans Mono',consolas,'Courier New',monospace\">┏━━━━━━━━━━━━━━━━━━━━━┳━━━━━━━━━━━━━━━━━━━┳━━━━━━━━━━━━┳━━━━━━━━━━━━━━━━━━━┓\n",
       "┃<span style=\"font-weight: bold\"> Layer (type)        </span>┃<span style=\"font-weight: bold\"> Output Shape      </span>┃<span style=\"font-weight: bold\">    Param # </span>┃<span style=\"font-weight: bold\"> Connected to      </span>┃\n",
       "┡━━━━━━━━━━━━━━━━━━━━━╇━━━━━━━━━━━━━━━━━━━╇━━━━━━━━━━━━╇━━━━━━━━━━━━━━━━━━━┩\n",
       "│ movie_titles        │ (<span style=\"color: #00d7ff; text-decoration-color: #00d7ff\">None</span>, <span style=\"color: #00af00; text-decoration-color: #00af00\">15</span>)        │          <span style=\"color: #00af00; text-decoration-color: #00af00\">0</span> │ -                 │\n",
       "│ (<span style=\"color: #0087ff; text-decoration-color: #0087ff\">InputLayer</span>)        │                   │            │                   │\n",
       "├─────────────────────┼───────────────────┼────────────┼───────────────────┤\n",
       "│ movie_title_embed_… │ (<span style=\"color: #00d7ff; text-decoration-color: #00d7ff\">None</span>, <span style=\"color: #00af00; text-decoration-color: #00af00\">15</span>, <span style=\"color: #00af00; text-decoration-color: #00af00\">32</span>)    │    <span style=\"color: #00af00; text-decoration-color: #00af00\">166,944</span> │ movie_titles[<span style=\"color: #00af00; text-decoration-color: #00af00\">0</span>][<span style=\"color: #00af00; text-decoration-color: #00af00\">…</span> │\n",
       "│ (<span style=\"color: #0087ff; text-decoration-color: #0087ff\">Embedding</span>)         │                   │            │                   │\n",
       "├─────────────────────┼───────────────────┼────────────┼───────────────────┤\n",
       "│ reshape_8 (<span style=\"color: #0087ff; text-decoration-color: #0087ff\">Reshape</span>) │ (<span style=\"color: #00d7ff; text-decoration-color: #00d7ff\">None</span>, <span style=\"color: #00af00; text-decoration-color: #00af00\">15</span>, <span style=\"color: #00af00; text-decoration-color: #00af00\">32</span>, <span style=\"color: #00af00; text-decoration-color: #00af00\">1</span>) │          <span style=\"color: #00af00; text-decoration-color: #00af00\">0</span> │ movie_title_embe… │\n",
       "├─────────────────────┼───────────────────┼────────────┼───────────────────┤\n",
       "│ conv2d_32 (<span style=\"color: #0087ff; text-decoration-color: #0087ff\">Conv2D</span>)  │ (<span style=\"color: #00d7ff; text-decoration-color: #00d7ff\">None</span>, <span style=\"color: #00af00; text-decoration-color: #00af00\">14</span>, <span style=\"color: #00af00; text-decoration-color: #00af00\">1</span>, <span style=\"color: #00af00; text-decoration-color: #00af00\">8</span>)  │        <span style=\"color: #00af00; text-decoration-color: #00af00\">520</span> │ reshape_8[<span style=\"color: #00af00; text-decoration-color: #00af00\">0</span>][<span style=\"color: #00af00; text-decoration-color: #00af00\">0</span>]   │\n",
       "├─────────────────────┼───────────────────┼────────────┼───────────────────┤\n",
       "│ conv2d_33 (<span style=\"color: #0087ff; text-decoration-color: #0087ff\">Conv2D</span>)  │ (<span style=\"color: #00d7ff; text-decoration-color: #00d7ff\">None</span>, <span style=\"color: #00af00; text-decoration-color: #00af00\">13</span>, <span style=\"color: #00af00; text-decoration-color: #00af00\">1</span>, <span style=\"color: #00af00; text-decoration-color: #00af00\">8</span>)  │        <span style=\"color: #00af00; text-decoration-color: #00af00\">776</span> │ reshape_8[<span style=\"color: #00af00; text-decoration-color: #00af00\">0</span>][<span style=\"color: #00af00; text-decoration-color: #00af00\">0</span>]   │\n",
       "├─────────────────────┼───────────────────┼────────────┼───────────────────┤\n",
       "│ conv2d_34 (<span style=\"color: #0087ff; text-decoration-color: #0087ff\">Conv2D</span>)  │ (<span style=\"color: #00d7ff; text-decoration-color: #00d7ff\">None</span>, <span style=\"color: #00af00; text-decoration-color: #00af00\">12</span>, <span style=\"color: #00af00; text-decoration-color: #00af00\">1</span>, <span style=\"color: #00af00; text-decoration-color: #00af00\">8</span>)  │      <span style=\"color: #00af00; text-decoration-color: #00af00\">1,032</span> │ reshape_8[<span style=\"color: #00af00; text-decoration-color: #00af00\">0</span>][<span style=\"color: #00af00; text-decoration-color: #00af00\">0</span>]   │\n",
       "├─────────────────────┼───────────────────┼────────────┼───────────────────┤\n",
       "│ conv2d_35 (<span style=\"color: #0087ff; text-decoration-color: #0087ff\">Conv2D</span>)  │ (<span style=\"color: #00d7ff; text-decoration-color: #00d7ff\">None</span>, <span style=\"color: #00af00; text-decoration-color: #00af00\">11</span>, <span style=\"color: #00af00; text-decoration-color: #00af00\">1</span>, <span style=\"color: #00af00; text-decoration-color: #00af00\">8</span>)  │      <span style=\"color: #00af00; text-decoration-color: #00af00\">1,288</span> │ reshape_8[<span style=\"color: #00af00; text-decoration-color: #00af00\">0</span>][<span style=\"color: #00af00; text-decoration-color: #00af00\">0</span>]   │\n",
       "├─────────────────────┼───────────────────┼────────────┼───────────────────┤\n",
       "│ movie_categories    │ (<span style=\"color: #00d7ff; text-decoration-color: #00d7ff\">None</span>, <span style=\"color: #00af00; text-decoration-color: #00af00\">18</span>)        │          <span style=\"color: #00af00; text-decoration-color: #00af00\">0</span> │ -                 │\n",
       "│ (<span style=\"color: #0087ff; text-decoration-color: #0087ff\">InputLayer</span>)        │                   │            │                   │\n",
       "├─────────────────────┼───────────────────┼────────────┼───────────────────┤\n",
       "│ max_pooling2d_32    │ (<span style=\"color: #00d7ff; text-decoration-color: #00d7ff\">None</span>, <span style=\"color: #00af00; text-decoration-color: #00af00\">1</span>, <span style=\"color: #00af00; text-decoration-color: #00af00\">1</span>, <span style=\"color: #00af00; text-decoration-color: #00af00\">8</span>)   │          <span style=\"color: #00af00; text-decoration-color: #00af00\">0</span> │ conv2d_32[<span style=\"color: #00af00; text-decoration-color: #00af00\">0</span>][<span style=\"color: #00af00; text-decoration-color: #00af00\">0</span>]   │\n",
       "│ (<span style=\"color: #0087ff; text-decoration-color: #0087ff\">MaxPooling2D</span>)      │                   │            │                   │\n",
       "├─────────────────────┼───────────────────┼────────────┼───────────────────┤\n",
       "│ max_pooling2d_33    │ (<span style=\"color: #00d7ff; text-decoration-color: #00d7ff\">None</span>, <span style=\"color: #00af00; text-decoration-color: #00af00\">1</span>, <span style=\"color: #00af00; text-decoration-color: #00af00\">1</span>, <span style=\"color: #00af00; text-decoration-color: #00af00\">8</span>)   │          <span style=\"color: #00af00; text-decoration-color: #00af00\">0</span> │ conv2d_33[<span style=\"color: #00af00; text-decoration-color: #00af00\">0</span>][<span style=\"color: #00af00; text-decoration-color: #00af00\">0</span>]   │\n",
       "│ (<span style=\"color: #0087ff; text-decoration-color: #0087ff\">MaxPooling2D</span>)      │                   │            │                   │\n",
       "├─────────────────────┼───────────────────┼────────────┼───────────────────┤\n",
       "│ max_pooling2d_34    │ (<span style=\"color: #00d7ff; text-decoration-color: #00d7ff\">None</span>, <span style=\"color: #00af00; text-decoration-color: #00af00\">1</span>, <span style=\"color: #00af00; text-decoration-color: #00af00\">1</span>, <span style=\"color: #00af00; text-decoration-color: #00af00\">8</span>)   │          <span style=\"color: #00af00; text-decoration-color: #00af00\">0</span> │ conv2d_34[<span style=\"color: #00af00; text-decoration-color: #00af00\">0</span>][<span style=\"color: #00af00; text-decoration-color: #00af00\">0</span>]   │\n",
       "│ (<span style=\"color: #0087ff; text-decoration-color: #0087ff\">MaxPooling2D</span>)      │                   │            │                   │\n",
       "├─────────────────────┼───────────────────┼────────────┼───────────────────┤\n",
       "│ max_pooling2d_35    │ (<span style=\"color: #00d7ff; text-decoration-color: #00d7ff\">None</span>, <span style=\"color: #00af00; text-decoration-color: #00af00\">1</span>, <span style=\"color: #00af00; text-decoration-color: #00af00\">1</span>, <span style=\"color: #00af00; text-decoration-color: #00af00\">8</span>)   │          <span style=\"color: #00af00; text-decoration-color: #00af00\">0</span> │ conv2d_35[<span style=\"color: #00af00; text-decoration-color: #00af00\">0</span>][<span style=\"color: #00af00; text-decoration-color: #00af00\">0</span>]   │\n",
       "│ (<span style=\"color: #0087ff; text-decoration-color: #0087ff\">MaxPooling2D</span>)      │                   │            │                   │\n",
       "├─────────────────────┼───────────────────┼────────────┼───────────────────┤\n",
       "│ uid (<span style=\"color: #0087ff; text-decoration-color: #0087ff\">InputLayer</span>)    │ (<span style=\"color: #00d7ff; text-decoration-color: #00d7ff\">None</span>, <span style=\"color: #00af00; text-decoration-color: #00af00\">1</span>)         │          <span style=\"color: #00af00; text-decoration-color: #00af00\">0</span> │ -                 │\n",
       "├─────────────────────┼───────────────────┼────────────┼───────────────────┤\n",
       "│ user_gender         │ (<span style=\"color: #00d7ff; text-decoration-color: #00d7ff\">None</span>, <span style=\"color: #00af00; text-decoration-color: #00af00\">1</span>)         │          <span style=\"color: #00af00; text-decoration-color: #00af00\">0</span> │ -                 │\n",
       "│ (<span style=\"color: #0087ff; text-decoration-color: #0087ff\">InputLayer</span>)        │                   │            │                   │\n",
       "├─────────────────────┼───────────────────┼────────────┼───────────────────┤\n",
       "│ user_age            │ (<span style=\"color: #00d7ff; text-decoration-color: #00d7ff\">None</span>, <span style=\"color: #00af00; text-decoration-color: #00af00\">1</span>)         │          <span style=\"color: #00af00; text-decoration-color: #00af00\">0</span> │ -                 │\n",
       "│ (<span style=\"color: #0087ff; text-decoration-color: #0087ff\">InputLayer</span>)        │                   │            │                   │\n",
       "├─────────────────────┼───────────────────┼────────────┼───────────────────┤\n",
       "│ user_job            │ (<span style=\"color: #00d7ff; text-decoration-color: #00d7ff\">None</span>, <span style=\"color: #00af00; text-decoration-color: #00af00\">1</span>)         │          <span style=\"color: #00af00; text-decoration-color: #00af00\">0</span> │ -                 │\n",
       "│ (<span style=\"color: #0087ff; text-decoration-color: #0087ff\">InputLayer</span>)        │                   │            │                   │\n",
       "├─────────────────────┼───────────────────┼────────────┼───────────────────┤\n",
       "│ movie_id            │ (<span style=\"color: #00d7ff; text-decoration-color: #00d7ff\">None</span>, <span style=\"color: #00af00; text-decoration-color: #00af00\">1</span>)         │          <span style=\"color: #00af00; text-decoration-color: #00af00\">0</span> │ -                 │\n",
       "│ (<span style=\"color: #0087ff; text-decoration-color: #0087ff\">InputLayer</span>)        │                   │            │                   │\n",
       "├─────────────────────┼───────────────────┼────────────┼───────────────────┤\n",
       "│ movie_categories_e… │ (<span style=\"color: #00d7ff; text-decoration-color: #00d7ff\">None</span>, <span style=\"color: #00af00; text-decoration-color: #00af00\">18</span>, <span style=\"color: #00af00; text-decoration-color: #00af00\">32</span>)    │        <span style=\"color: #00af00; text-decoration-color: #00af00\">608</span> │ movie_categories… │\n",
       "│ (<span style=\"color: #0087ff; text-decoration-color: #0087ff\">Embedding</span>)         │                   │            │                   │\n",
       "├─────────────────────┼───────────────────┼────────────┼───────────────────┤\n",
       "│ pool_layer          │ (<span style=\"color: #00d7ff; text-decoration-color: #00d7ff\">None</span>, <span style=\"color: #00af00; text-decoration-color: #00af00\">1</span>, <span style=\"color: #00af00; text-decoration-color: #00af00\">1</span>, <span style=\"color: #00af00; text-decoration-color: #00af00\">32</span>)  │          <span style=\"color: #00af00; text-decoration-color: #00af00\">0</span> │ max_pooling2d_32… │\n",
       "│ (<span style=\"color: #0087ff; text-decoration-color: #0087ff\">Concatenate</span>)       │                   │            │ max_pooling2d_33… │\n",
       "│                     │                   │            │ max_pooling2d_34… │\n",
       "│                     │                   │            │ max_pooling2d_35… │\n",
       "├─────────────────────┼───────────────────┼────────────┼───────────────────┤\n",
       "│ uid_embed_layer     │ (<span style=\"color: #00d7ff; text-decoration-color: #00d7ff\">None</span>, <span style=\"color: #00af00; text-decoration-color: #00af00\">1</span>, <span style=\"color: #00af00; text-decoration-color: #00af00\">32</span>)     │    <span style=\"color: #00af00; text-decoration-color: #00af00\">193,312</span> │ uid[<span style=\"color: #00af00; text-decoration-color: #00af00\">0</span>][<span style=\"color: #00af00; text-decoration-color: #00af00\">0</span>]         │\n",
       "│ (<span style=\"color: #0087ff; text-decoration-color: #0087ff\">Embedding</span>)         │                   │            │                   │\n",
       "├─────────────────────┼───────────────────┼────────────┼───────────────────┤\n",
       "│ gender_embed_layer  │ (<span style=\"color: #00d7ff; text-decoration-color: #00d7ff\">None</span>, <span style=\"color: #00af00; text-decoration-color: #00af00\">1</span>, <span style=\"color: #00af00; text-decoration-color: #00af00\">16</span>)     │         <span style=\"color: #00af00; text-decoration-color: #00af00\">32</span> │ user_gender[<span style=\"color: #00af00; text-decoration-color: #00af00\">0</span>][<span style=\"color: #00af00; text-decoration-color: #00af00\">0</span>] │\n",
       "│ (<span style=\"color: #0087ff; text-decoration-color: #0087ff\">Embedding</span>)         │                   │            │                   │\n",
       "├─────────────────────┼───────────────────┼────────────┼───────────────────┤\n",
       "│ age_embed_layer     │ (<span style=\"color: #00d7ff; text-decoration-color: #00d7ff\">None</span>, <span style=\"color: #00af00; text-decoration-color: #00af00\">1</span>, <span style=\"color: #00af00; text-decoration-color: #00af00\">16</span>)     │        <span style=\"color: #00af00; text-decoration-color: #00af00\">112</span> │ user_age[<span style=\"color: #00af00; text-decoration-color: #00af00\">0</span>][<span style=\"color: #00af00; text-decoration-color: #00af00\">0</span>]    │\n",
       "│ (<span style=\"color: #0087ff; text-decoration-color: #0087ff\">Embedding</span>)         │                   │            │                   │\n",
       "├─────────────────────┼───────────────────┼────────────┼───────────────────┤\n",
       "│ job_embed_layer     │ (<span style=\"color: #00d7ff; text-decoration-color: #00d7ff\">None</span>, <span style=\"color: #00af00; text-decoration-color: #00af00\">1</span>, <span style=\"color: #00af00; text-decoration-color: #00af00\">16</span>)     │        <span style=\"color: #00af00; text-decoration-color: #00af00\">336</span> │ user_job[<span style=\"color: #00af00; text-decoration-color: #00af00\">0</span>][<span style=\"color: #00af00; text-decoration-color: #00af00\">0</span>]    │\n",
       "│ (<span style=\"color: #0087ff; text-decoration-color: #0087ff\">Embedding</span>)         │                   │            │                   │\n",
       "├─────────────────────┼───────────────────┼────────────┼───────────────────┤\n",
       "│ movie_id_embed_lay… │ (<span style=\"color: #00d7ff; text-decoration-color: #00d7ff\">None</span>, <span style=\"color: #00af00; text-decoration-color: #00af00\">1</span>, <span style=\"color: #00af00; text-decoration-color: #00af00\">32</span>)     │    <span style=\"color: #00af00; text-decoration-color: #00af00\">126,496</span> │ movie_id[<span style=\"color: #00af00; text-decoration-color: #00af00\">0</span>][<span style=\"color: #00af00; text-decoration-color: #00af00\">0</span>]    │\n",
       "│ (<span style=\"color: #0087ff; text-decoration-color: #0087ff\">Embedding</span>)         │                   │            │                   │\n",
       "├─────────────────────┼───────────────────┼────────────┼───────────────────┤\n",
       "│ lambda_16 (<span style=\"color: #0087ff; text-decoration-color: #0087ff\">Lambda</span>)  │ (<span style=\"color: #00d7ff; text-decoration-color: #00d7ff\">None</span>, <span style=\"color: #00af00; text-decoration-color: #00af00\">1</span>, <span style=\"color: #00af00; text-decoration-color: #00af00\">32</span>)     │          <span style=\"color: #00af00; text-decoration-color: #00af00\">0</span> │ movie_categories… │\n",
       "├─────────────────────┼───────────────────┼────────────┼───────────────────┤\n",
       "│ pool_layer_flat     │ (<span style=\"color: #00d7ff; text-decoration-color: #00d7ff\">None</span>, <span style=\"color: #00af00; text-decoration-color: #00af00\">1</span>, <span style=\"color: #00af00; text-decoration-color: #00af00\">32</span>)     │          <span style=\"color: #00af00; text-decoration-color: #00af00\">0</span> │ pool_layer[<span style=\"color: #00af00; text-decoration-color: #00af00\">0</span>][<span style=\"color: #00af00; text-decoration-color: #00af00\">0</span>]  │\n",
       "│ (<span style=\"color: #0087ff; text-decoration-color: #0087ff\">Reshape</span>)           │                   │            │                   │\n",
       "├─────────────────────┼───────────────────┼────────────┼───────────────────┤\n",
       "│ uid_fc_layer        │ (<span style=\"color: #00d7ff; text-decoration-color: #00d7ff\">None</span>, <span style=\"color: #00af00; text-decoration-color: #00af00\">1</span>, <span style=\"color: #00af00; text-decoration-color: #00af00\">32</span>)     │      <span style=\"color: #00af00; text-decoration-color: #00af00\">1,056</span> │ uid_embed_layer[<span style=\"color: #00af00; text-decoration-color: #00af00\">…</span> │\n",
       "│ (<span style=\"color: #0087ff; text-decoration-color: #0087ff\">Dense</span>)             │                   │            │                   │\n",
       "├─────────────────────┼───────────────────┼────────────┼───────────────────┤\n",
       "│ gender_fc_layer     │ (<span style=\"color: #00d7ff; text-decoration-color: #00d7ff\">None</span>, <span style=\"color: #00af00; text-decoration-color: #00af00\">1</span>, <span style=\"color: #00af00; text-decoration-color: #00af00\">32</span>)     │        <span style=\"color: #00af00; text-decoration-color: #00af00\">544</span> │ gender_embed_lay… │\n",
       "│ (<span style=\"color: #0087ff; text-decoration-color: #0087ff\">Dense</span>)             │                   │            │                   │\n",
       "├─────────────────────┼───────────────────┼────────────┼───────────────────┤\n",
       "│ age_fc_layer        │ (<span style=\"color: #00d7ff; text-decoration-color: #00d7ff\">None</span>, <span style=\"color: #00af00; text-decoration-color: #00af00\">1</span>, <span style=\"color: #00af00; text-decoration-color: #00af00\">32</span>)     │        <span style=\"color: #00af00; text-decoration-color: #00af00\">544</span> │ age_embed_layer[<span style=\"color: #00af00; text-decoration-color: #00af00\">…</span> │\n",
       "│ (<span style=\"color: #0087ff; text-decoration-color: #0087ff\">Dense</span>)             │                   │            │                   │\n",
       "├─────────────────────┼───────────────────┼────────────┼───────────────────┤\n",
       "│ job_fc_layer        │ (<span style=\"color: #00d7ff; text-decoration-color: #00d7ff\">None</span>, <span style=\"color: #00af00; text-decoration-color: #00af00\">1</span>, <span style=\"color: #00af00; text-decoration-color: #00af00\">32</span>)     │        <span style=\"color: #00af00; text-decoration-color: #00af00\">544</span> │ job_embed_layer[<span style=\"color: #00af00; text-decoration-color: #00af00\">…</span> │\n",
       "│ (<span style=\"color: #0087ff; text-decoration-color: #0087ff\">Dense</span>)             │                   │            │                   │\n",
       "├─────────────────────┼───────────────────┼────────────┼───────────────────┤\n",
       "│ movie_id_fc_layer   │ (<span style=\"color: #00d7ff; text-decoration-color: #00d7ff\">None</span>, <span style=\"color: #00af00; text-decoration-color: #00af00\">1</span>, <span style=\"color: #00af00; text-decoration-color: #00af00\">32</span>)     │      <span style=\"color: #00af00; text-decoration-color: #00af00\">1,056</span> │ movie_id_embed_l… │\n",
       "│ (<span style=\"color: #0087ff; text-decoration-color: #0087ff\">Dense</span>)             │                   │            │                   │\n",
       "├─────────────────────┼───────────────────┼────────────┼───────────────────┤\n",
       "│ movie_categories_f… │ (<span style=\"color: #00d7ff; text-decoration-color: #00d7ff\">None</span>, <span style=\"color: #00af00; text-decoration-color: #00af00\">1</span>, <span style=\"color: #00af00; text-decoration-color: #00af00\">32</span>)     │      <span style=\"color: #00af00; text-decoration-color: #00af00\">1,056</span> │ lambda_16[<span style=\"color: #00af00; text-decoration-color: #00af00\">0</span>][<span style=\"color: #00af00; text-decoration-color: #00af00\">0</span>]   │\n",
       "│ (<span style=\"color: #0087ff; text-decoration-color: #0087ff\">Dense</span>)             │                   │            │                   │\n",
       "├─────────────────────┼───────────────────┼────────────┼───────────────────┤\n",
       "│ dropout_layer       │ (<span style=\"color: #00d7ff; text-decoration-color: #00d7ff\">None</span>, <span style=\"color: #00af00; text-decoration-color: #00af00\">1</span>, <span style=\"color: #00af00; text-decoration-color: #00af00\">32</span>)     │          <span style=\"color: #00af00; text-decoration-color: #00af00\">0</span> │ pool_layer_flat[<span style=\"color: #00af00; text-decoration-color: #00af00\">…</span> │\n",
       "│ (<span style=\"color: #0087ff; text-decoration-color: #0087ff\">Dropout</span>)           │                   │            │                   │\n",
       "├─────────────────────┼───────────────────┼────────────┼───────────────────┤\n",
       "│ concatenate_16      │ (<span style=\"color: #00d7ff; text-decoration-color: #00d7ff\">None</span>, <span style=\"color: #00af00; text-decoration-color: #00af00\">1</span>, <span style=\"color: #00af00; text-decoration-color: #00af00\">128</span>)    │          <span style=\"color: #00af00; text-decoration-color: #00af00\">0</span> │ uid_fc_layer[<span style=\"color: #00af00; text-decoration-color: #00af00\">0</span>][<span style=\"color: #00af00; text-decoration-color: #00af00\">…</span> │\n",
       "│ (<span style=\"color: #0087ff; text-decoration-color: #0087ff\">Concatenate</span>)       │                   │            │ gender_fc_layer[<span style=\"color: #00af00; text-decoration-color: #00af00\">…</span> │\n",
       "│                     │                   │            │ age_fc_layer[<span style=\"color: #00af00; text-decoration-color: #00af00\">0</span>][<span style=\"color: #00af00; text-decoration-color: #00af00\">…</span> │\n",
       "│                     │                   │            │ job_fc_layer[<span style=\"color: #00af00; text-decoration-color: #00af00\">0</span>][<span style=\"color: #00af00; text-decoration-color: #00af00\">…</span> │\n",
       "├─────────────────────┼───────────────────┼────────────┼───────────────────┤\n",
       "│ concatenate_17      │ (<span style=\"color: #00d7ff; text-decoration-color: #00d7ff\">None</span>, <span style=\"color: #00af00; text-decoration-color: #00af00\">1</span>, <span style=\"color: #00af00; text-decoration-color: #00af00\">96</span>)     │          <span style=\"color: #00af00; text-decoration-color: #00af00\">0</span> │ movie_id_fc_laye… │\n",
       "│ (<span style=\"color: #0087ff; text-decoration-color: #0087ff\">Concatenate</span>)       │                   │            │ movie_categories… │\n",
       "│                     │                   │            │ dropout_layer[<span style=\"color: #00af00; text-decoration-color: #00af00\">0</span>]… │\n",
       "├─────────────────────┼───────────────────┼────────────┼───────────────────┤\n",
       "│ dense_21 (<span style=\"color: #0087ff; text-decoration-color: #0087ff\">Dense</span>)    │ (<span style=\"color: #00d7ff; text-decoration-color: #00d7ff\">None</span>, <span style=\"color: #00af00; text-decoration-color: #00af00\">1</span>, <span style=\"color: #00af00; text-decoration-color: #00af00\">200</span>)    │     <span style=\"color: #00af00; text-decoration-color: #00af00\">25,800</span> │ concatenate_16[<span style=\"color: #00af00; text-decoration-color: #00af00\">0</span>… │\n",
       "├─────────────────────┼───────────────────┼────────────┼───────────────────┤\n",
       "│ dense_22 (<span style=\"color: #0087ff; text-decoration-color: #0087ff\">Dense</span>)    │ (<span style=\"color: #00d7ff; text-decoration-color: #00d7ff\">None</span>, <span style=\"color: #00af00; text-decoration-color: #00af00\">1</span>, <span style=\"color: #00af00; text-decoration-color: #00af00\">200</span>)    │     <span style=\"color: #00af00; text-decoration-color: #00af00\">19,400</span> │ concatenate_17[<span style=\"color: #00af00; text-decoration-color: #00af00\">0</span>… │\n",
       "├─────────────────────┼───────────────────┼────────────┼───────────────────┤\n",
       "│ user_combine_layer… │ (<span style=\"color: #00d7ff; text-decoration-color: #00d7ff\">None</span>, <span style=\"color: #00af00; text-decoration-color: #00af00\">200</span>)       │          <span style=\"color: #00af00; text-decoration-color: #00af00\">0</span> │ dense_21[<span style=\"color: #00af00; text-decoration-color: #00af00\">0</span>][<span style=\"color: #00af00; text-decoration-color: #00af00\">0</span>]    │\n",
       "│ (<span style=\"color: #0087ff; text-decoration-color: #0087ff\">Reshape</span>)           │                   │            │                   │\n",
       "├─────────────────────┼───────────────────┼────────────┼───────────────────┤\n",
       "│ movie_combine_laye… │ (<span style=\"color: #00d7ff; text-decoration-color: #00d7ff\">None</span>, <span style=\"color: #00af00; text-decoration-color: #00af00\">200</span>)       │          <span style=\"color: #00af00; text-decoration-color: #00af00\">0</span> │ dense_22[<span style=\"color: #00af00; text-decoration-color: #00af00\">0</span>][<span style=\"color: #00af00; text-decoration-color: #00af00\">0</span>]    │\n",
       "│ (<span style=\"color: #0087ff; text-decoration-color: #0087ff\">Reshape</span>)           │                   │            │                   │\n",
       "├─────────────────────┼───────────────────┼────────────┼───────────────────┤\n",
       "│ inference (<span style=\"color: #0087ff; text-decoration-color: #0087ff\">Lambda</span>)  │ (<span style=\"color: #00d7ff; text-decoration-color: #00d7ff\">None</span>)            │          <span style=\"color: #00af00; text-decoration-color: #00af00\">0</span> │ user_combine_lay… │\n",
       "│                     │                   │            │ movie_combine_la… │\n",
       "├─────────────────────┼───────────────────┼────────────┼───────────────────┤\n",
       "│ lambda_17 (<span style=\"color: #0087ff; text-decoration-color: #0087ff\">Lambda</span>)  │ (<span style=\"color: #00d7ff; text-decoration-color: #00d7ff\">None</span>, <span style=\"color: #00af00; text-decoration-color: #00af00\">1</span>)         │          <span style=\"color: #00af00; text-decoration-color: #00af00\">0</span> │ inference[<span style=\"color: #00af00; text-decoration-color: #00af00\">0</span>][<span style=\"color: #00af00; text-decoration-color: #00af00\">0</span>]   │\n",
       "└─────────────────────┴───────────────────┴────────────┴───────────────────┘\n",
       "</pre>\n"
      ],
      "text/plain": [
       "┏━━━━━━━━━━━━━━━━━━━━━┳━━━━━━━━━━━━━━━━━━━┳━━━━━━━━━━━━┳━━━━━━━━━━━━━━━━━━━┓\n",
       "┃\u001b[1m \u001b[0m\u001b[1mLayer (type)       \u001b[0m\u001b[1m \u001b[0m┃\u001b[1m \u001b[0m\u001b[1mOutput Shape     \u001b[0m\u001b[1m \u001b[0m┃\u001b[1m \u001b[0m\u001b[1m   Param #\u001b[0m\u001b[1m \u001b[0m┃\u001b[1m \u001b[0m\u001b[1mConnected to     \u001b[0m\u001b[1m \u001b[0m┃\n",
       "┡━━━━━━━━━━━━━━━━━━━━━╇━━━━━━━━━━━━━━━━━━━╇━━━━━━━━━━━━╇━━━━━━━━━━━━━━━━━━━┩\n",
       "│ movie_titles        │ (\u001b[38;5;45mNone\u001b[0m, \u001b[38;5;34m15\u001b[0m)        │          \u001b[38;5;34m0\u001b[0m │ -                 │\n",
       "│ (\u001b[38;5;33mInputLayer\u001b[0m)        │                   │            │                   │\n",
       "├─────────────────────┼───────────────────┼────────────┼───────────────────┤\n",
       "│ movie_title_embed_… │ (\u001b[38;5;45mNone\u001b[0m, \u001b[38;5;34m15\u001b[0m, \u001b[38;5;34m32\u001b[0m)    │    \u001b[38;5;34m166,944\u001b[0m │ movie_titles[\u001b[38;5;34m0\u001b[0m][\u001b[38;5;34m…\u001b[0m │\n",
       "│ (\u001b[38;5;33mEmbedding\u001b[0m)         │                   │            │                   │\n",
       "├─────────────────────┼───────────────────┼────────────┼───────────────────┤\n",
       "│ reshape_8 (\u001b[38;5;33mReshape\u001b[0m) │ (\u001b[38;5;45mNone\u001b[0m, \u001b[38;5;34m15\u001b[0m, \u001b[38;5;34m32\u001b[0m, \u001b[38;5;34m1\u001b[0m) │          \u001b[38;5;34m0\u001b[0m │ movie_title_embe… │\n",
       "├─────────────────────┼───────────────────┼────────────┼───────────────────┤\n",
       "│ conv2d_32 (\u001b[38;5;33mConv2D\u001b[0m)  │ (\u001b[38;5;45mNone\u001b[0m, \u001b[38;5;34m14\u001b[0m, \u001b[38;5;34m1\u001b[0m, \u001b[38;5;34m8\u001b[0m)  │        \u001b[38;5;34m520\u001b[0m │ reshape_8[\u001b[38;5;34m0\u001b[0m][\u001b[38;5;34m0\u001b[0m]   │\n",
       "├─────────────────────┼───────────────────┼────────────┼───────────────────┤\n",
       "│ conv2d_33 (\u001b[38;5;33mConv2D\u001b[0m)  │ (\u001b[38;5;45mNone\u001b[0m, \u001b[38;5;34m13\u001b[0m, \u001b[38;5;34m1\u001b[0m, \u001b[38;5;34m8\u001b[0m)  │        \u001b[38;5;34m776\u001b[0m │ reshape_8[\u001b[38;5;34m0\u001b[0m][\u001b[38;5;34m0\u001b[0m]   │\n",
       "├─────────────────────┼───────────────────┼────────────┼───────────────────┤\n",
       "│ conv2d_34 (\u001b[38;5;33mConv2D\u001b[0m)  │ (\u001b[38;5;45mNone\u001b[0m, \u001b[38;5;34m12\u001b[0m, \u001b[38;5;34m1\u001b[0m, \u001b[38;5;34m8\u001b[0m)  │      \u001b[38;5;34m1,032\u001b[0m │ reshape_8[\u001b[38;5;34m0\u001b[0m][\u001b[38;5;34m0\u001b[0m]   │\n",
       "├─────────────────────┼───────────────────┼────────────┼───────────────────┤\n",
       "│ conv2d_35 (\u001b[38;5;33mConv2D\u001b[0m)  │ (\u001b[38;5;45mNone\u001b[0m, \u001b[38;5;34m11\u001b[0m, \u001b[38;5;34m1\u001b[0m, \u001b[38;5;34m8\u001b[0m)  │      \u001b[38;5;34m1,288\u001b[0m │ reshape_8[\u001b[38;5;34m0\u001b[0m][\u001b[38;5;34m0\u001b[0m]   │\n",
       "├─────────────────────┼───────────────────┼────────────┼───────────────────┤\n",
       "│ movie_categories    │ (\u001b[38;5;45mNone\u001b[0m, \u001b[38;5;34m18\u001b[0m)        │          \u001b[38;5;34m0\u001b[0m │ -                 │\n",
       "│ (\u001b[38;5;33mInputLayer\u001b[0m)        │                   │            │                   │\n",
       "├─────────────────────┼───────────────────┼────────────┼───────────────────┤\n",
       "│ max_pooling2d_32    │ (\u001b[38;5;45mNone\u001b[0m, \u001b[38;5;34m1\u001b[0m, \u001b[38;5;34m1\u001b[0m, \u001b[38;5;34m8\u001b[0m)   │          \u001b[38;5;34m0\u001b[0m │ conv2d_32[\u001b[38;5;34m0\u001b[0m][\u001b[38;5;34m0\u001b[0m]   │\n",
       "│ (\u001b[38;5;33mMaxPooling2D\u001b[0m)      │                   │            │                   │\n",
       "├─────────────────────┼───────────────────┼────────────┼───────────────────┤\n",
       "│ max_pooling2d_33    │ (\u001b[38;5;45mNone\u001b[0m, \u001b[38;5;34m1\u001b[0m, \u001b[38;5;34m1\u001b[0m, \u001b[38;5;34m8\u001b[0m)   │          \u001b[38;5;34m0\u001b[0m │ conv2d_33[\u001b[38;5;34m0\u001b[0m][\u001b[38;5;34m0\u001b[0m]   │\n",
       "│ (\u001b[38;5;33mMaxPooling2D\u001b[0m)      │                   │            │                   │\n",
       "├─────────────────────┼───────────────────┼────────────┼───────────────────┤\n",
       "│ max_pooling2d_34    │ (\u001b[38;5;45mNone\u001b[0m, \u001b[38;5;34m1\u001b[0m, \u001b[38;5;34m1\u001b[0m, \u001b[38;5;34m8\u001b[0m)   │          \u001b[38;5;34m0\u001b[0m │ conv2d_34[\u001b[38;5;34m0\u001b[0m][\u001b[38;5;34m0\u001b[0m]   │\n",
       "│ (\u001b[38;5;33mMaxPooling2D\u001b[0m)      │                   │            │                   │\n",
       "├─────────────────────┼───────────────────┼────────────┼───────────────────┤\n",
       "│ max_pooling2d_35    │ (\u001b[38;5;45mNone\u001b[0m, \u001b[38;5;34m1\u001b[0m, \u001b[38;5;34m1\u001b[0m, \u001b[38;5;34m8\u001b[0m)   │          \u001b[38;5;34m0\u001b[0m │ conv2d_35[\u001b[38;5;34m0\u001b[0m][\u001b[38;5;34m0\u001b[0m]   │\n",
       "│ (\u001b[38;5;33mMaxPooling2D\u001b[0m)      │                   │            │                   │\n",
       "├─────────────────────┼───────────────────┼────────────┼───────────────────┤\n",
       "│ uid (\u001b[38;5;33mInputLayer\u001b[0m)    │ (\u001b[38;5;45mNone\u001b[0m, \u001b[38;5;34m1\u001b[0m)         │          \u001b[38;5;34m0\u001b[0m │ -                 │\n",
       "├─────────────────────┼───────────────────┼────────────┼───────────────────┤\n",
       "│ user_gender         │ (\u001b[38;5;45mNone\u001b[0m, \u001b[38;5;34m1\u001b[0m)         │          \u001b[38;5;34m0\u001b[0m │ -                 │\n",
       "│ (\u001b[38;5;33mInputLayer\u001b[0m)        │                   │            │                   │\n",
       "├─────────────────────┼───────────────────┼────────────┼───────────────────┤\n",
       "│ user_age            │ (\u001b[38;5;45mNone\u001b[0m, \u001b[38;5;34m1\u001b[0m)         │          \u001b[38;5;34m0\u001b[0m │ -                 │\n",
       "│ (\u001b[38;5;33mInputLayer\u001b[0m)        │                   │            │                   │\n",
       "├─────────────────────┼───────────────────┼────────────┼───────────────────┤\n",
       "│ user_job            │ (\u001b[38;5;45mNone\u001b[0m, \u001b[38;5;34m1\u001b[0m)         │          \u001b[38;5;34m0\u001b[0m │ -                 │\n",
       "│ (\u001b[38;5;33mInputLayer\u001b[0m)        │                   │            │                   │\n",
       "├─────────────────────┼───────────────────┼────────────┼───────────────────┤\n",
       "│ movie_id            │ (\u001b[38;5;45mNone\u001b[0m, \u001b[38;5;34m1\u001b[0m)         │          \u001b[38;5;34m0\u001b[0m │ -                 │\n",
       "│ (\u001b[38;5;33mInputLayer\u001b[0m)        │                   │            │                   │\n",
       "├─────────────────────┼───────────────────┼────────────┼───────────────────┤\n",
       "│ movie_categories_e… │ (\u001b[38;5;45mNone\u001b[0m, \u001b[38;5;34m18\u001b[0m, \u001b[38;5;34m32\u001b[0m)    │        \u001b[38;5;34m608\u001b[0m │ movie_categories… │\n",
       "│ (\u001b[38;5;33mEmbedding\u001b[0m)         │                   │            │                   │\n",
       "├─────────────────────┼───────────────────┼────────────┼───────────────────┤\n",
       "│ pool_layer          │ (\u001b[38;5;45mNone\u001b[0m, \u001b[38;5;34m1\u001b[0m, \u001b[38;5;34m1\u001b[0m, \u001b[38;5;34m32\u001b[0m)  │          \u001b[38;5;34m0\u001b[0m │ max_pooling2d_32… │\n",
       "│ (\u001b[38;5;33mConcatenate\u001b[0m)       │                   │            │ max_pooling2d_33… │\n",
       "│                     │                   │            │ max_pooling2d_34… │\n",
       "│                     │                   │            │ max_pooling2d_35… │\n",
       "├─────────────────────┼───────────────────┼────────────┼───────────────────┤\n",
       "│ uid_embed_layer     │ (\u001b[38;5;45mNone\u001b[0m, \u001b[38;5;34m1\u001b[0m, \u001b[38;5;34m32\u001b[0m)     │    \u001b[38;5;34m193,312\u001b[0m │ uid[\u001b[38;5;34m0\u001b[0m][\u001b[38;5;34m0\u001b[0m]         │\n",
       "│ (\u001b[38;5;33mEmbedding\u001b[0m)         │                   │            │                   │\n",
       "├─────────────────────┼───────────────────┼────────────┼───────────────────┤\n",
       "│ gender_embed_layer  │ (\u001b[38;5;45mNone\u001b[0m, \u001b[38;5;34m1\u001b[0m, \u001b[38;5;34m16\u001b[0m)     │         \u001b[38;5;34m32\u001b[0m │ user_gender[\u001b[38;5;34m0\u001b[0m][\u001b[38;5;34m0\u001b[0m] │\n",
       "│ (\u001b[38;5;33mEmbedding\u001b[0m)         │                   │            │                   │\n",
       "├─────────────────────┼───────────────────┼────────────┼───────────────────┤\n",
       "│ age_embed_layer     │ (\u001b[38;5;45mNone\u001b[0m, \u001b[38;5;34m1\u001b[0m, \u001b[38;5;34m16\u001b[0m)     │        \u001b[38;5;34m112\u001b[0m │ user_age[\u001b[38;5;34m0\u001b[0m][\u001b[38;5;34m0\u001b[0m]    │\n",
       "│ (\u001b[38;5;33mEmbedding\u001b[0m)         │                   │            │                   │\n",
       "├─────────────────────┼───────────────────┼────────────┼───────────────────┤\n",
       "│ job_embed_layer     │ (\u001b[38;5;45mNone\u001b[0m, \u001b[38;5;34m1\u001b[0m, \u001b[38;5;34m16\u001b[0m)     │        \u001b[38;5;34m336\u001b[0m │ user_job[\u001b[38;5;34m0\u001b[0m][\u001b[38;5;34m0\u001b[0m]    │\n",
       "│ (\u001b[38;5;33mEmbedding\u001b[0m)         │                   │            │                   │\n",
       "├─────────────────────┼───────────────────┼────────────┼───────────────────┤\n",
       "│ movie_id_embed_lay… │ (\u001b[38;5;45mNone\u001b[0m, \u001b[38;5;34m1\u001b[0m, \u001b[38;5;34m32\u001b[0m)     │    \u001b[38;5;34m126,496\u001b[0m │ movie_id[\u001b[38;5;34m0\u001b[0m][\u001b[38;5;34m0\u001b[0m]    │\n",
       "│ (\u001b[38;5;33mEmbedding\u001b[0m)         │                   │            │                   │\n",
       "├─────────────────────┼───────────────────┼────────────┼───────────────────┤\n",
       "│ lambda_16 (\u001b[38;5;33mLambda\u001b[0m)  │ (\u001b[38;5;45mNone\u001b[0m, \u001b[38;5;34m1\u001b[0m, \u001b[38;5;34m32\u001b[0m)     │          \u001b[38;5;34m0\u001b[0m │ movie_categories… │\n",
       "├─────────────────────┼───────────────────┼────────────┼───────────────────┤\n",
       "│ pool_layer_flat     │ (\u001b[38;5;45mNone\u001b[0m, \u001b[38;5;34m1\u001b[0m, \u001b[38;5;34m32\u001b[0m)     │          \u001b[38;5;34m0\u001b[0m │ pool_layer[\u001b[38;5;34m0\u001b[0m][\u001b[38;5;34m0\u001b[0m]  │\n",
       "│ (\u001b[38;5;33mReshape\u001b[0m)           │                   │            │                   │\n",
       "├─────────────────────┼───────────────────┼────────────┼───────────────────┤\n",
       "│ uid_fc_layer        │ (\u001b[38;5;45mNone\u001b[0m, \u001b[38;5;34m1\u001b[0m, \u001b[38;5;34m32\u001b[0m)     │      \u001b[38;5;34m1,056\u001b[0m │ uid_embed_layer[\u001b[38;5;34m…\u001b[0m │\n",
       "│ (\u001b[38;5;33mDense\u001b[0m)             │                   │            │                   │\n",
       "├─────────────────────┼───────────────────┼────────────┼───────────────────┤\n",
       "│ gender_fc_layer     │ (\u001b[38;5;45mNone\u001b[0m, \u001b[38;5;34m1\u001b[0m, \u001b[38;5;34m32\u001b[0m)     │        \u001b[38;5;34m544\u001b[0m │ gender_embed_lay… │\n",
       "│ (\u001b[38;5;33mDense\u001b[0m)             │                   │            │                   │\n",
       "├─────────────────────┼───────────────────┼────────────┼───────────────────┤\n",
       "│ age_fc_layer        │ (\u001b[38;5;45mNone\u001b[0m, \u001b[38;5;34m1\u001b[0m, \u001b[38;5;34m32\u001b[0m)     │        \u001b[38;5;34m544\u001b[0m │ age_embed_layer[\u001b[38;5;34m…\u001b[0m │\n",
       "│ (\u001b[38;5;33mDense\u001b[0m)             │                   │            │                   │\n",
       "├─────────────────────┼───────────────────┼────────────┼───────────────────┤\n",
       "│ job_fc_layer        │ (\u001b[38;5;45mNone\u001b[0m, \u001b[38;5;34m1\u001b[0m, \u001b[38;5;34m32\u001b[0m)     │        \u001b[38;5;34m544\u001b[0m │ job_embed_layer[\u001b[38;5;34m…\u001b[0m │\n",
       "│ (\u001b[38;5;33mDense\u001b[0m)             │                   │            │                   │\n",
       "├─────────────────────┼───────────────────┼────────────┼───────────────────┤\n",
       "│ movie_id_fc_layer   │ (\u001b[38;5;45mNone\u001b[0m, \u001b[38;5;34m1\u001b[0m, \u001b[38;5;34m32\u001b[0m)     │      \u001b[38;5;34m1,056\u001b[0m │ movie_id_embed_l… │\n",
       "│ (\u001b[38;5;33mDense\u001b[0m)             │                   │            │                   │\n",
       "├─────────────────────┼───────────────────┼────────────┼───────────────────┤\n",
       "│ movie_categories_f… │ (\u001b[38;5;45mNone\u001b[0m, \u001b[38;5;34m1\u001b[0m, \u001b[38;5;34m32\u001b[0m)     │      \u001b[38;5;34m1,056\u001b[0m │ lambda_16[\u001b[38;5;34m0\u001b[0m][\u001b[38;5;34m0\u001b[0m]   │\n",
       "│ (\u001b[38;5;33mDense\u001b[0m)             │                   │            │                   │\n",
       "├─────────────────────┼───────────────────┼────────────┼───────────────────┤\n",
       "│ dropout_layer       │ (\u001b[38;5;45mNone\u001b[0m, \u001b[38;5;34m1\u001b[0m, \u001b[38;5;34m32\u001b[0m)     │          \u001b[38;5;34m0\u001b[0m │ pool_layer_flat[\u001b[38;5;34m…\u001b[0m │\n",
       "│ (\u001b[38;5;33mDropout\u001b[0m)           │                   │            │                   │\n",
       "├─────────────────────┼───────────────────┼────────────┼───────────────────┤\n",
       "│ concatenate_16      │ (\u001b[38;5;45mNone\u001b[0m, \u001b[38;5;34m1\u001b[0m, \u001b[38;5;34m128\u001b[0m)    │          \u001b[38;5;34m0\u001b[0m │ uid_fc_layer[\u001b[38;5;34m0\u001b[0m][\u001b[38;5;34m…\u001b[0m │\n",
       "│ (\u001b[38;5;33mConcatenate\u001b[0m)       │                   │            │ gender_fc_layer[\u001b[38;5;34m…\u001b[0m │\n",
       "│                     │                   │            │ age_fc_layer[\u001b[38;5;34m0\u001b[0m][\u001b[38;5;34m…\u001b[0m │\n",
       "│                     │                   │            │ job_fc_layer[\u001b[38;5;34m0\u001b[0m][\u001b[38;5;34m…\u001b[0m │\n",
       "├─────────────────────┼───────────────────┼────────────┼───────────────────┤\n",
       "│ concatenate_17      │ (\u001b[38;5;45mNone\u001b[0m, \u001b[38;5;34m1\u001b[0m, \u001b[38;5;34m96\u001b[0m)     │          \u001b[38;5;34m0\u001b[0m │ movie_id_fc_laye… │\n",
       "│ (\u001b[38;5;33mConcatenate\u001b[0m)       │                   │            │ movie_categories… │\n",
       "│                     │                   │            │ dropout_layer[\u001b[38;5;34m0\u001b[0m]… │\n",
       "├─────────────────────┼───────────────────┼────────────┼───────────────────┤\n",
       "│ dense_21 (\u001b[38;5;33mDense\u001b[0m)    │ (\u001b[38;5;45mNone\u001b[0m, \u001b[38;5;34m1\u001b[0m, \u001b[38;5;34m200\u001b[0m)    │     \u001b[38;5;34m25,800\u001b[0m │ concatenate_16[\u001b[38;5;34m0\u001b[0m… │\n",
       "├─────────────────────┼───────────────────┼────────────┼───────────────────┤\n",
       "│ dense_22 (\u001b[38;5;33mDense\u001b[0m)    │ (\u001b[38;5;45mNone\u001b[0m, \u001b[38;5;34m1\u001b[0m, \u001b[38;5;34m200\u001b[0m)    │     \u001b[38;5;34m19,400\u001b[0m │ concatenate_17[\u001b[38;5;34m0\u001b[0m… │\n",
       "├─────────────────────┼───────────────────┼────────────┼───────────────────┤\n",
       "│ user_combine_layer… │ (\u001b[38;5;45mNone\u001b[0m, \u001b[38;5;34m200\u001b[0m)       │          \u001b[38;5;34m0\u001b[0m │ dense_21[\u001b[38;5;34m0\u001b[0m][\u001b[38;5;34m0\u001b[0m]    │\n",
       "│ (\u001b[38;5;33mReshape\u001b[0m)           │                   │            │                   │\n",
       "├─────────────────────┼───────────────────┼────────────┼───────────────────┤\n",
       "│ movie_combine_laye… │ (\u001b[38;5;45mNone\u001b[0m, \u001b[38;5;34m200\u001b[0m)       │          \u001b[38;5;34m0\u001b[0m │ dense_22[\u001b[38;5;34m0\u001b[0m][\u001b[38;5;34m0\u001b[0m]    │\n",
       "│ (\u001b[38;5;33mReshape\u001b[0m)           │                   │            │                   │\n",
       "├─────────────────────┼───────────────────┼────────────┼───────────────────┤\n",
       "│ inference (\u001b[38;5;33mLambda\u001b[0m)  │ (\u001b[38;5;45mNone\u001b[0m)            │          \u001b[38;5;34m0\u001b[0m │ user_combine_lay… │\n",
       "│                     │                   │            │ movie_combine_la… │\n",
       "├─────────────────────┼───────────────────┼────────────┼───────────────────┤\n",
       "│ lambda_17 (\u001b[38;5;33mLambda\u001b[0m)  │ (\u001b[38;5;45mNone\u001b[0m, \u001b[38;5;34m1\u001b[0m)         │          \u001b[38;5;34m0\u001b[0m │ inference[\u001b[38;5;34m0\u001b[0m][\u001b[38;5;34m0\u001b[0m]   │\n",
       "└─────────────────────┴───────────────────┴────────────┴───────────────────┘\n"
      ]
     },
     "metadata": {},
     "output_type": "display_data"
    },
    {
     "data": {
      "text/html": [
       "<pre style=\"white-space:pre;overflow-x:auto;line-height:normal;font-family:Menlo,'DejaVu Sans Mono',consolas,'Courier New',monospace\"><span style=\"font-weight: bold\"> Total params: </span><span style=\"color: #00af00; text-decoration-color: #00af00\">541,456</span> (2.07 MB)\n",
       "</pre>\n"
      ],
      "text/plain": [
       "\u001b[1m Total params: \u001b[0m\u001b[38;5;34m541,456\u001b[0m (2.07 MB)\n"
      ]
     },
     "metadata": {},
     "output_type": "display_data"
    },
    {
     "data": {
      "text/html": [
       "<pre style=\"white-space:pre;overflow-x:auto;line-height:normal;font-family:Menlo,'DejaVu Sans Mono',consolas,'Courier New',monospace\"><span style=\"font-weight: bold\"> Trainable params: </span><span style=\"color: #00af00; text-decoration-color: #00af00\">541,456</span> (2.07 MB)\n",
       "</pre>\n"
      ],
      "text/plain": [
       "\u001b[1m Trainable params: \u001b[0m\u001b[38;5;34m541,456\u001b[0m (2.07 MB)\n"
      ]
     },
     "metadata": {},
     "output_type": "display_data"
    },
    {
     "data": {
      "text/html": [
       "<pre style=\"white-space:pre;overflow-x:auto;line-height:normal;font-family:Menlo,'DejaVu Sans Mono',consolas,'Courier New',monospace\"><span style=\"font-weight: bold\"> Non-trainable params: </span><span style=\"color: #00af00; text-decoration-color: #00af00\">0</span> (0.00 B)\n",
       "</pre>\n"
      ],
      "text/plain": [
       "\u001b[1m Non-trainable params: \u001b[0m\u001b[38;5;34m0\u001b[0m (0.00 B)\n"
      ]
     },
     "metadata": {},
     "output_type": "display_data"
    },
    {
     "name": "stdout",
     "output_type": "stream",
     "text": [
      "Step #46900\tEpoch   0 Batch   24/3125   Loss: 0.645293 mae: 0.652813 (14.70954575417326 steps/sec)\n",
      "Step #46950\tEpoch   0 Batch   74/3125   Loss: 0.742414 mae: 0.652362 (25.51923684881076 steps/sec)\n",
      "Step #47000\tEpoch   0 Batch  124/3125   Loss: 0.617928 mae: 0.654354 (22.330786012251334 steps/sec)\n",
      "Step #47050\tEpoch   0 Batch  174/3125   Loss: 0.712773 mae: 0.655018 (25.25116282989993 steps/sec)\n",
      "Step #47100\tEpoch   0 Batch  224/3125   Loss: 0.594403 mae: 0.655447 (27.446540383341617 steps/sec)\n",
      "Step #47150\tEpoch   0 Batch  274/3125   Loss: 0.687780 mae: 0.655825 (26.770855659378892 steps/sec)\n",
      "Step #47200\tEpoch   0 Batch  324/3125   Loss: 0.706365 mae: 0.655624 (26.676167799123807 steps/sec)\n",
      "Step #47250\tEpoch   0 Batch  374/3125   Loss: 0.658972 mae: 0.656273 (27.64867866165836 steps/sec)\n",
      "Step #47300\tEpoch   0 Batch  424/3125   Loss: 0.745296 mae: 0.656717 (27.600722173131505 steps/sec)\n",
      "Step #47350\tEpoch   0 Batch  474/3125   Loss: 0.714176 mae: 0.656840 (26.671960821894707 steps/sec)\n",
      "Step #47400\tEpoch   0 Batch  524/3125   Loss: 0.802954 mae: 0.656156 (27.24151758418376 steps/sec)\n",
      "Step #47450\tEpoch   0 Batch  574/3125   Loss: 0.757228 mae: 0.656354 (27.053037396017185 steps/sec)\n",
      "Step #47500\tEpoch   0 Batch  624/3125   Loss: 0.547497 mae: 0.656140 (27.713678847775977 steps/sec)\n",
      "Step #47550\tEpoch   0 Batch  674/3125   Loss: 0.752432 mae: 0.656454 (27.1707703605353 steps/sec)\n",
      "Step #47600\tEpoch   0 Batch  724/3125   Loss: 0.580373 mae: 0.656605 (26.736050421785766 steps/sec)\n",
      "Step #47650\tEpoch   0 Batch  774/3125   Loss: 0.625043 mae: 0.656212 (27.67772111536959 steps/sec)\n",
      "Step #47700\tEpoch   0 Batch  824/3125   Loss: 0.726310 mae: 0.656321 (26.792854376890265 steps/sec)\n",
      "Step #47750\tEpoch   0 Batch  874/3125   Loss: 0.643442 mae: 0.656287 (25.970414448856605 steps/sec)\n",
      "Step #47800\tEpoch   0 Batch  924/3125   Loss: 0.802783 mae: 0.656559 (25.64287794703595 steps/sec)\n",
      "Step #47850\tEpoch   0 Batch  974/3125   Loss: 0.643959 mae: 0.656523 (26.1839872987525 steps/sec)\n",
      "Step #47900\tEpoch   0 Batch 1024/3125   Loss: 0.685428 mae: 0.656480 (25.658407957958985 steps/sec)\n",
      "Step #47950\tEpoch   0 Batch 1074/3125   Loss: 0.705668 mae: 0.656475 (25.364744472047587 steps/sec)\n",
      "Step #48000\tEpoch   0 Batch 1124/3125   Loss: 0.683188 mae: 0.656617 (26.011223085079557 steps/sec)\n",
      "Step #48050\tEpoch   0 Batch 1174/3125   Loss: 0.595211 mae: 0.656753 (26.800143946085647 steps/sec)\n",
      "Step #48100\tEpoch   0 Batch 1224/3125   Loss: 0.707676 mae: 0.656585 (26.397536207128983 steps/sec)\n",
      "Step #48150\tEpoch   0 Batch 1274/3125   Loss: 0.766338 mae: 0.657044 (26.69094344055561 steps/sec)\n",
      "Step #48200\tEpoch   0 Batch 1324/3125   Loss: 0.637644 mae: 0.657000 (25.793723711557284 steps/sec)\n",
      "Step #48250\tEpoch   0 Batch 1374/3125   Loss: 0.681328 mae: 0.656851 (26.114934742300264 steps/sec)\n",
      "Step #48300\tEpoch   0 Batch 1424/3125   Loss: 0.705633 mae: 0.656783 (21.12136978219373 steps/sec)\n",
      "Step #48350\tEpoch   0 Batch 1474/3125   Loss: 0.613155 mae: 0.656712 (22.470567511607346 steps/sec)\n",
      "Step #48400\tEpoch   0 Batch 1524/3125   Loss: 0.613026 mae: 0.656575 (25.491539598060257 steps/sec)\n",
      "Step #48450\tEpoch   0 Batch 1574/3125   Loss: 0.701533 mae: 0.656556 (26.068990430005236 steps/sec)\n",
      "Step #48500\tEpoch   0 Batch 1624/3125   Loss: 0.748194 mae: 0.656316 (26.208643926577626 steps/sec)\n",
      "Step #48550\tEpoch   0 Batch 1674/3125   Loss: 0.606505 mae: 0.656357 (25.7944978186349 steps/sec)\n",
      "Step #48600\tEpoch   0 Batch 1724/3125   Loss: 0.767600 mae: 0.656344 (23.55059777348999 steps/sec)\n",
      "Step #48650\tEpoch   0 Batch 1774/3125   Loss: 0.612010 mae: 0.656346 (26.301540290675543 steps/sec)\n",
      "Step #48700\tEpoch   0 Batch 1824/3125   Loss: 0.631955 mae: 0.656358 (24.750392619937173 steps/sec)\n",
      "Step #48750\tEpoch   0 Batch 1874/3125   Loss: 0.682604 mae: 0.656362 (22.68405990797018 steps/sec)\n",
      "Step #48800\tEpoch   0 Batch 1924/3125   Loss: 0.850633 mae: 0.656245 (22.546292881886846 steps/sec)\n",
      "Step #48850\tEpoch   0 Batch 1974/3125   Loss: 0.626560 mae: 0.656201 (25.13902780747945 steps/sec)\n",
      "Step #48900\tEpoch   0 Batch 2024/3125   Loss: 0.847853 mae: 0.656305 (28.38996949619376 steps/sec)\n",
      "Step #48950\tEpoch   0 Batch 2074/3125   Loss: 0.706860 mae: 0.656179 (28.697273778695877 steps/sec)\n",
      "Step #49000\tEpoch   0 Batch 2124/3125   Loss: 0.572003 mae: 0.656093 (24.55075779312996 steps/sec)\n",
      "Step #49050\tEpoch   0 Batch 2174/3125   Loss: 0.699849 mae: 0.655911 (24.78255387392255 steps/sec)\n",
      "Step #49100\tEpoch   0 Batch 2224/3125   Loss: 0.622777 mae: 0.655812 (26.61777913388445 steps/sec)\n",
      "Step #49150\tEpoch   0 Batch 2274/3125   Loss: 0.733743 mae: 0.655708 (27.577235977623687 steps/sec)\n",
      "Step #49200\tEpoch   0 Batch 2324/3125   Loss: 0.578489 mae: 0.655854 (28.025199202362018 steps/sec)\n",
      "Step #49250\tEpoch   0 Batch 2374/3125   Loss: 0.654078 mae: 0.655853 (27.897579538256025 steps/sec)\n",
      "Step #49300\tEpoch   0 Batch 2424/3125   Loss: 0.632673 mae: 0.655752 (28.490266599030395 steps/sec)\n",
      "Step #49350\tEpoch   0 Batch 2474/3125   Loss: 0.733734 mae: 0.655619 (27.733777676389977 steps/sec)\n",
      "Step #49400\tEpoch   0 Batch 2524/3125   Loss: 0.667827 mae: 0.655671 (27.604809391220517 steps/sec)\n",
      "Step #49450\tEpoch   0 Batch 2574/3125   Loss: 0.743603 mae: 0.655772 (27.342970869004066 steps/sec)\n",
      "Step #49500\tEpoch   0 Batch 2624/3125   Loss: 0.815041 mae: 0.655859 (27.978018902271206 steps/sec)\n",
      "Step #49550\tEpoch   0 Batch 2674/3125   Loss: 0.730894 mae: 0.655855 (27.74711967535709 steps/sec)\n",
      "Step #49600\tEpoch   0 Batch 2724/3125   Loss: 0.633633 mae: 0.655730 (27.748709388201846 steps/sec)\n",
      "Step #49650\tEpoch   0 Batch 2774/3125   Loss: 0.652349 mae: 0.655676 (27.47752823416023 steps/sec)\n",
      "Step #49700\tEpoch   0 Batch 2824/3125   Loss: 0.701958 mae: 0.655815 (27.0582382170365 steps/sec)\n",
      "Step #49750\tEpoch   0 Batch 2874/3125   Loss: 0.778047 mae: 0.655674 (26.543546613899 steps/sec)\n",
      "Step #49800\tEpoch   0 Batch 2924/3125   Loss: 0.736648 mae: 0.655638 (26.043198523704795 steps/sec)\n",
      "Step #49850\tEpoch   0 Batch 2974/3125   Loss: 0.648385 mae: 0.655638 (26.484625949137293 steps/sec)\n",
      "Step #49900\tEpoch   0 Batch 3024/3125   Loss: 0.619358 mae: 0.655455 (24.160150024002874 steps/sec)\n",
      "Step #49950\tEpoch   0 Batch 3074/3125   Loss: 0.680925 mae: 0.655267 (25.860256714424317 steps/sec)\n",
      "Step #50000\tEpoch   0 Batch 3124/3125   Loss: 0.798479 mae: 0.655149 (27.0107373100595 steps/sec)\n",
      "\n",
      "Train time for epoch #1 (50000 total steps): 122.07711815834045\n",
      "Model test set loss: 0.752282 mae: 0.660153\n",
      "best loss = 0.7522820830345154\n",
      "Step #50050\tEpoch   1 Batch   49/3125   Loss: 0.796946 mae: 0.660060 (26.64468501836152 steps/sec)\n",
      "Step #50100\tEpoch   1 Batch   99/3125   Loss: 0.827539 mae: 0.659899 (28.21145353115344 steps/sec)\n",
      "Step #50150\tEpoch   1 Batch  149/3125   Loss: 0.646043 mae: 0.659821 (27.257227450730642 steps/sec)\n",
      "Step #50200\tEpoch   1 Batch  199/3125   Loss: 0.729782 mae: 0.659755 (23.06516079057285 steps/sec)\n",
      "Step #50250\tEpoch   1 Batch  249/3125   Loss: 0.755023 mae: 0.659680 (25.692542707234175 steps/sec)\n",
      "Step #50300\tEpoch   1 Batch  299/3125   Loss: 0.677297 mae: 0.659583 (26.085712658029774 steps/sec)\n",
      "Step #50350\tEpoch   1 Batch  349/3125   Loss: 0.721698 mae: 0.659526 (26.316663263860455 steps/sec)\n",
      "Step #50400\tEpoch   1 Batch  399/3125   Loss: 0.777163 mae: 0.659494 (26.722586772985206 steps/sec)\n",
      "Step #50450\tEpoch   1 Batch  449/3125   Loss: 0.695522 mae: 0.659523 (27.91447157289508 steps/sec)\n",
      "Step #50500\tEpoch   1 Batch  499/3125   Loss: 0.635104 mae: 0.659423 (28.340562107887685 steps/sec)\n",
      "Step #50550\tEpoch   1 Batch  549/3125   Loss: 0.640869 mae: 0.659279 (27.05052147484181 steps/sec)\n",
      "Step #50600\tEpoch   1 Batch  599/3125   Loss: 0.582693 mae: 0.659284 (25.208026269258944 steps/sec)\n",
      "Step #50650\tEpoch   1 Batch  649/3125   Loss: 0.661864 mae: 0.659225 (26.74184614517513 steps/sec)\n",
      "Step #50700\tEpoch   1 Batch  699/3125   Loss: 0.686755 mae: 0.659207 (27.916779151018694 steps/sec)\n",
      "Step #50750\tEpoch   1 Batch  749/3125   Loss: 0.678264 mae: 0.659080 (28.25915091516226 steps/sec)\n",
      "Step #50800\tEpoch   1 Batch  799/3125   Loss: 0.693419 mae: 0.659039 (27.98638975182529 steps/sec)\n",
      "Step #50850\tEpoch   1 Batch  849/3125   Loss: 0.791405 mae: 0.659000 (26.830852245772753 steps/sec)\n",
      "Step #50900\tEpoch   1 Batch  899/3125   Loss: 0.785578 mae: 0.658938 (26.518591447672318 steps/sec)\n",
      "Step #50950\tEpoch   1 Batch  949/3125   Loss: 0.655404 mae: 0.658900 (27.92397931405196 steps/sec)\n",
      "Step #51000\tEpoch   1 Batch  999/3125   Loss: 0.751040 mae: 0.658800 (26.24368138750811 steps/sec)\n",
      "Step #51050\tEpoch   1 Batch 1049/3125   Loss: 0.755717 mae: 0.658817 (26.475711967656775 steps/sec)\n",
      "Step #51100\tEpoch   1 Batch 1099/3125   Loss: 0.622164 mae: 0.658735 (27.29581586903019 steps/sec)\n",
      "Step #51150\tEpoch   1 Batch 1149/3125   Loss: 0.637417 mae: 0.658759 (25.462962513270863 steps/sec)\n",
      "Step #51200\tEpoch   1 Batch 1199/3125   Loss: 0.737305 mae: 0.658655 (24.45545086717268 steps/sec)\n",
      "Step #51250\tEpoch   1 Batch 1249/3125   Loss: 0.773078 mae: 0.658678 (26.386552464919248 steps/sec)\n",
      "Step #51300\tEpoch   1 Batch 1299/3125   Loss: 0.653765 mae: 0.658722 (26.23035133240402 steps/sec)\n",
      "Step #51350\tEpoch   1 Batch 1349/3125   Loss: 0.723255 mae: 0.658559 (26.372970783456882 steps/sec)\n",
      "Step #51400\tEpoch   1 Batch 1399/3125   Loss: 0.762921 mae: 0.658533 (27.92319481041698 steps/sec)\n",
      "Step #51450\tEpoch   1 Batch 1449/3125   Loss: 0.692530 mae: 0.658479 (26.079620521146715 steps/sec)\n",
      "Step #51500\tEpoch   1 Batch 1499/3125   Loss: 0.715661 mae: 0.658432 (27.598059774617706 steps/sec)\n",
      "Step #51550\tEpoch   1 Batch 1549/3125   Loss: 0.816794 mae: 0.658382 (26.337210412151865 steps/sec)\n",
      "Step #51600\tEpoch   1 Batch 1599/3125   Loss: 0.658653 mae: 0.658266 (27.121053425896026 steps/sec)\n",
      "Step #51650\tEpoch   1 Batch 1649/3125   Loss: 0.770051 mae: 0.658232 (26.926833527320024 steps/sec)\n",
      "Step #51700\tEpoch   1 Batch 1699/3125   Loss: 0.691458 mae: 0.658187 (25.87275352381225 steps/sec)\n",
      "Step #51750\tEpoch   1 Batch 1749/3125   Loss: 0.729502 mae: 0.658119 (27.760944889185996 steps/sec)\n",
      "Step #51800\tEpoch   1 Batch 1799/3125   Loss: 0.792668 mae: 0.658073 (26.52747728694047 steps/sec)\n",
      "Step #51850\tEpoch   1 Batch 1849/3125   Loss: 0.670400 mae: 0.658064 (26.83669945062335 steps/sec)\n",
      "Step #51900\tEpoch   1 Batch 1899/3125   Loss: 0.769378 mae: 0.658005 (26.042577583746834 steps/sec)\n",
      "Step #51950\tEpoch   1 Batch 1949/3125   Loss: 0.671119 mae: 0.657940 (25.954629842888718 steps/sec)\n",
      "Step #52000\tEpoch   1 Batch 1999/3125   Loss: 0.784150 mae: 0.657917 (26.19450527324497 steps/sec)\n",
      "Step #52050\tEpoch   1 Batch 2049/3125   Loss: 0.664031 mae: 0.657946 (26.66352711663437 steps/sec)\n",
      "Step #52100\tEpoch   1 Batch 2099/3125   Loss: 0.685841 mae: 0.657816 (24.097027340962242 steps/sec)\n",
      "Step #52150\tEpoch   1 Batch 2149/3125   Loss: 0.637922 mae: 0.657711 (25.950878559804643 steps/sec)\n",
      "Step #52200\tEpoch   1 Batch 2199/3125   Loss: 0.616149 mae: 0.657633 (26.173641097401074 steps/sec)\n",
      "Step #52250\tEpoch   1 Batch 2249/3125   Loss: 0.591280 mae: 0.657534 (25.65447818634395 steps/sec)\n",
      "Step #52300\tEpoch   1 Batch 2299/3125   Loss: 0.741899 mae: 0.657561 (26.456630292803336 steps/sec)\n",
      "Step #52350\tEpoch   1 Batch 2349/3125   Loss: 0.679404 mae: 0.657540 (26.292399690231033 steps/sec)\n",
      "Step #52400\tEpoch   1 Batch 2399/3125   Loss: 0.610971 mae: 0.657499 (26.5313400720836 steps/sec)\n",
      "Step #52450\tEpoch   1 Batch 2449/3125   Loss: 0.670368 mae: 0.657390 (26.400101614771 steps/sec)\n",
      "Step #52500\tEpoch   1 Batch 2499/3125   Loss: 0.835307 mae: 0.657386 (26.97433790646204 steps/sec)\n",
      "Step #52550\tEpoch   1 Batch 2549/3125   Loss: 0.578597 mae: 0.657379 (26.20249096785511 steps/sec)\n",
      "Step #52600\tEpoch   1 Batch 2599/3125   Loss: 0.792140 mae: 0.657371 (26.344015850988846 steps/sec)\n",
      "Step #52650\tEpoch   1 Batch 2649/3125   Loss: 0.823465 mae: 0.657334 (27.110370639256796 steps/sec)\n",
      "Step #52700\tEpoch   1 Batch 2699/3125   Loss: 0.678654 mae: 0.657284 (26.21720851846254 steps/sec)\n",
      "Step #52750\tEpoch   1 Batch 2749/3125   Loss: 0.750515 mae: 0.657208 (26.274058534159124 steps/sec)\n",
      "Step #52800\tEpoch   1 Batch 2799/3125   Loss: 0.735539 mae: 0.657218 (27.054929006922567 steps/sec)\n",
      "Step #52850\tEpoch   1 Batch 2849/3125   Loss: 0.695967 mae: 0.657168 (26.30089707525625 steps/sec)\n",
      "Step #52900\tEpoch   1 Batch 2899/3125   Loss: 0.742141 mae: 0.657092 (26.78104335826544 steps/sec)\n",
      "Step #52950\tEpoch   1 Batch 2949/3125   Loss: 0.742011 mae: 0.657082 (27.88219807476541 steps/sec)\n",
      "Step #53000\tEpoch   1 Batch 2999/3125   Loss: 0.654048 mae: 0.657013 (28.140909045163756 steps/sec)\n",
      "Step #53050\tEpoch   1 Batch 3049/3125   Loss: 0.658510 mae: 0.656879 (26.15014256218906 steps/sec)\n",
      "Step #53100\tEpoch   1 Batch 3099/3125   Loss: 0.693862 mae: 0.656802 (27.718338125205115 steps/sec)\n",
      "\n",
      "Train time for epoch #2 (53125 total steps): 117.58607053756714\n",
      "Model test set loss: 0.751323 mae: 0.659054\n",
      "best loss = 0.7513225078582764\n",
      "Step #53150\tEpoch   2 Batch   24/3125   Loss: 0.639150 mae: 0.659018 (52.61331489533795 steps/sec)\n",
      "Step #53200\tEpoch   2 Batch   74/3125   Loss: 0.713012 mae: 0.658940 (27.665704835316557 steps/sec)\n",
      "Step #53250\tEpoch   2 Batch  124/3125   Loss: 0.614117 mae: 0.658898 (28.207161947812867 steps/sec)\n",
      "Step #53300\tEpoch   2 Batch  174/3125   Loss: 0.697811 mae: 0.658856 (26.317809252003435 steps/sec)\n",
      "Step #53350\tEpoch   2 Batch  224/3125   Loss: 0.584237 mae: 0.658809 (24.712046573587838 steps/sec)\n",
      "Step #53400\tEpoch   2 Batch  274/3125   Loss: 0.678865 mae: 0.658761 (27.1120109009016 steps/sec)\n",
      "Step #53450\tEpoch   2 Batch  324/3125   Loss: 0.713237 mae: 0.658697 (27.151489540313413 steps/sec)\n",
      "Step #53500\tEpoch   2 Batch  374/3125   Loss: 0.639428 mae: 0.658676 (28.435411819867333 steps/sec)\n",
      "Step #53550\tEpoch   2 Batch  424/3125   Loss: 0.726426 mae: 0.658656 (28.713143354730857 steps/sec)\n",
      "Step #53600\tEpoch   2 Batch  474/3125   Loss: 0.701101 mae: 0.658626 (27.105969550453516 steps/sec)\n",
      "Step #53650\tEpoch   2 Batch  524/3125   Loss: 0.777653 mae: 0.658546 (26.970147355387407 steps/sec)\n",
      "Step #53700\tEpoch   2 Batch  574/3125   Loss: 0.737600 mae: 0.658514 (26.88185977710311 steps/sec)\n",
      "Step #53750\tEpoch   2 Batch  624/3125   Loss: 0.532049 mae: 0.658455 (27.490145490586194 steps/sec)\n",
      "Step #53800\tEpoch   2 Batch  674/3125   Loss: 0.745593 mae: 0.658446 (28.036892646537627 steps/sec)\n",
      "Step #53850\tEpoch   2 Batch  724/3125   Loss: 0.573257 mae: 0.658416 (28.21767124341972 steps/sec)\n",
      "Step #53900\tEpoch   2 Batch  774/3125   Loss: 0.608011 mae: 0.658347 (27.58351101728165 steps/sec)\n",
      "Step #53950\tEpoch   2 Batch  824/3125   Loss: 0.715392 mae: 0.658316 (27.916753137545072 steps/sec)\n",
      "Step #54000\tEpoch   2 Batch  874/3125   Loss: 0.647370 mae: 0.658270 (27.953435644112044 steps/sec)\n",
      "Step #54050\tEpoch   2 Batch  924/3125   Loss: 0.770572 mae: 0.658248 (28.470908085545553 steps/sec)\n",
      "Step #54100\tEpoch   2 Batch  974/3125   Loss: 0.617293 mae: 0.658203 (27.89476309459124 steps/sec)\n",
      "Step #54150\tEpoch   2 Batch 1024/3125   Loss: 0.685994 mae: 0.658162 (26.527467220334177 steps/sec)\n",
      "Step #54200\tEpoch   2 Batch 1074/3125   Loss: 0.710005 mae: 0.658119 (27.63889117695318 steps/sec)\n",
      "Step #54250\tEpoch   2 Batch 1124/3125   Loss: 0.679961 mae: 0.658102 (27.011965420492494 steps/sec)\n",
      "Step #54300\tEpoch   2 Batch 1174/3125   Loss: 0.582906 mae: 0.658087 (27.78819851711613 steps/sec)\n",
      "Step #54350\tEpoch   2 Batch 1224/3125   Loss: 0.689012 mae: 0.658024 (28.539692882359937 steps/sec)\n",
      "Step #54400\tEpoch   2 Batch 1274/3125   Loss: 0.758186 mae: 0.658054 (27.921603630370857 steps/sec)\n",
      "Step #54450\tEpoch   2 Batch 1324/3125   Loss: 0.630305 mae: 0.658016 (28.364492339437096 steps/sec)\n",
      "Step #54500\tEpoch   2 Batch 1374/3125   Loss: 0.683814 mae: 0.657958 (28.027311617861873 steps/sec)\n",
      "Step #54550\tEpoch   2 Batch 1424/3125   Loss: 0.687398 mae: 0.657918 (28.473791821838944 steps/sec)\n",
      "Step #54600\tEpoch   2 Batch 1474/3125   Loss: 0.597457 mae: 0.657880 (27.673743743343508 steps/sec)\n",
      "Step #54650\tEpoch   2 Batch 1524/3125   Loss: 0.622085 mae: 0.657824 (24.997246568700138 steps/sec)\n",
      "Step #54700\tEpoch   2 Batch 1574/3125   Loss: 0.696693 mae: 0.657789 (26.76868579235949 steps/sec)\n",
      "Step #54750\tEpoch   2 Batch 1624/3125   Loss: 0.736259 mae: 0.657714 (26.46617604094956 steps/sec)\n",
      "Step #54800\tEpoch   2 Batch 1674/3125   Loss: 0.580284 mae: 0.657684 (28.199208327965966 steps/sec)\n",
      "Step #54850\tEpoch   2 Batch 1724/3125   Loss: 0.757789 mae: 0.657653 (28.926653420497814 steps/sec)\n",
      "Step #54900\tEpoch   2 Batch 1774/3125   Loss: 0.598783 mae: 0.657623 (28.170972648868165 steps/sec)\n",
      "Step #54950\tEpoch   2 Batch 1824/3125   Loss: 0.616056 mae: 0.657593 (25.122831800396618 steps/sec)\n",
      "Step #55000\tEpoch   2 Batch 1874/3125   Loss: 0.668347 mae: 0.657568 (25.906994084936663 steps/sec)\n",
      "Step #55050\tEpoch   2 Batch 1924/3125   Loss: 0.825973 mae: 0.657515 (26.14741685487203 steps/sec)\n",
      "Step #55100\tEpoch   2 Batch 1974/3125   Loss: 0.617560 mae: 0.657476 (27.260802496216975 steps/sec)\n",
      "Step #55150\tEpoch   2 Batch 2024/3125   Loss: 0.827026 mae: 0.657474 (26.252009284801638 steps/sec)\n",
      "Step #55200\tEpoch   2 Batch 2074/3125   Loss: 0.689841 mae: 0.657412 (27.948328259375806 steps/sec)\n",
      "Step #55250\tEpoch   2 Batch 2124/3125   Loss: 0.563333 mae: 0.657362 (27.92410944924918 steps/sec)\n",
      "Step #55300\tEpoch   2 Batch 2174/3125   Loss: 0.685878 mae: 0.657295 (28.522963061291772 steps/sec)\n",
      "Step #55350\tEpoch   2 Batch 2224/3125   Loss: 0.635430 mae: 0.657240 (28.282871330084657 steps/sec)\n",
      "Step #55400\tEpoch   2 Batch 2274/3125   Loss: 0.729332 mae: 0.657184 (28.61265166027988 steps/sec)\n",
      "Step #55450\tEpoch   2 Batch 2324/3125   Loss: 0.568879 mae: 0.657186 (28.524673958860255 steps/sec)\n",
      "Step #55500\tEpoch   2 Batch 2374/3125   Loss: 0.648863 mae: 0.657166 (27.107731916853414 steps/sec)\n",
      "Step #55550\tEpoch   2 Batch 2424/3125   Loss: 0.621958 mae: 0.657113 (26.22751375687844 steps/sec)\n",
      "Step #55600\tEpoch   2 Batch 2474/3125   Loss: 0.734518 mae: 0.657056 (26.25838279117522 steps/sec)\n",
      "Step #55650\tEpoch   2 Batch 2524/3125   Loss: 0.674834 mae: 0.657034 (24.799809562619593 steps/sec)\n",
      "Step #55700\tEpoch   2 Batch 2574/3125   Loss: 0.737926 mae: 0.657035 (26.9628551555491 steps/sec)\n",
      "Step #55750\tEpoch   2 Batch 2624/3125   Loss: 0.805215 mae: 0.657034 (25.084362032611853 steps/sec)\n",
      "Step #55800\tEpoch   2 Batch 2674/3125   Loss: 0.731840 mae: 0.657000 (26.01126825199458 steps/sec)\n",
      "Step #55850\tEpoch   2 Batch 2724/3125   Loss: 0.630231 mae: 0.656940 (27.151398143869713 steps/sec)\n",
      "Step #55900\tEpoch   2 Batch 2774/3125   Loss: 0.646597 mae: 0.656900 (28.20749581726741 steps/sec)\n",
      "Step #55950\tEpoch   2 Batch 2824/3125   Loss: 0.697296 mae: 0.656906 (27.904379938298135 steps/sec)\n",
      "Step #56000\tEpoch   2 Batch 2874/3125   Loss: 0.745589 mae: 0.656834 (26.70663329661915 steps/sec)\n",
      "Step #56050\tEpoch   2 Batch 2924/3125   Loss: 0.735952 mae: 0.656799 (27.48733505026069 steps/sec)\n",
      "Step #56100\tEpoch   2 Batch 2974/3125   Loss: 0.625891 mae: 0.656775 (27.68165213034275 steps/sec)\n",
      "Step #56150\tEpoch   2 Batch 3024/3125   Loss: 0.621168 mae: 0.656697 (27.99876477922565 steps/sec)\n",
      "Step #56200\tEpoch   2 Batch 3074/3125   Loss: 0.663420 mae: 0.656615 (27.9164967216135 steps/sec)\n",
      "Step #56250\tEpoch   2 Batch 3124/3125   Loss: 0.783525 mae: 0.656556 (28.358259613287363 steps/sec)\n",
      "\n",
      "Train time for epoch #3 (56250 total steps): 114.4467465877533\n",
      "Model test set loss: 0.751270 mae: 0.658049\n",
      "best loss = 0.7512697577476501\n",
      "Step #56300\tEpoch   3 Batch   49/3125   Loss: 0.783716 mae: 0.658011 (27.11811806401274 steps/sec)\n",
      "Step #56350\tEpoch   3 Batch   99/3125   Loss: 0.815028 mae: 0.657948 (29.18538053405236 steps/sec)\n",
      "Step #56400\tEpoch   3 Batch  149/3125   Loss: 0.636170 mae: 0.657908 (28.65675035507472 steps/sec)\n",
      "Step #56450\tEpoch   3 Batch  199/3125   Loss: 0.729435 mae: 0.657874 (24.68043100183519 steps/sec)\n",
      "Step #56500\tEpoch   3 Batch  249/3125   Loss: 0.745420 mae: 0.657840 (25.842108888560563 steps/sec)\n",
      "Step #56550\tEpoch   3 Batch  299/3125   Loss: 0.669980 mae: 0.657796 (28.271147159191553 steps/sec)\n",
      "Step #56600\tEpoch   3 Batch  349/3125   Loss: 0.724524 mae: 0.657766 (28.493185228420796 steps/sec)\n",
      "Step #56650\tEpoch   3 Batch  399/3125   Loss: 0.764567 mae: 0.657740 (27.635015995390017 steps/sec)\n",
      "Step #56700\tEpoch   3 Batch  449/3125   Loss: 0.694188 mae: 0.657735 (26.80649173705364 steps/sec)\n",
      "Step #56750\tEpoch   3 Batch  499/3125   Loss: 0.618593 mae: 0.657688 (27.56689383716232 steps/sec)\n",
      "Step #56800\tEpoch   3 Batch  549/3125   Loss: 0.649384 mae: 0.657626 (25.594869778298833 steps/sec)\n",
      "Step #56850\tEpoch   3 Batch  599/3125   Loss: 0.579612 mae: 0.657614 (25.953733675826832 steps/sec)\n",
      "Step #56900\tEpoch   3 Batch  649/3125   Loss: 0.659270 mae: 0.657585 (26.476022819490797 steps/sec)\n",
      "Step #56950\tEpoch   3 Batch  699/3125   Loss: 0.677529 mae: 0.657573 (25.47534743328664 steps/sec)\n",
      "Step #57000\tEpoch   3 Batch  749/3125   Loss: 0.658174 mae: 0.657513 (27.13013708199719 steps/sec)\n",
      "Step #57050\tEpoch   3 Batch  799/3125   Loss: 0.670735 mae: 0.657491 (25.667222933109112 steps/sec)\n",
      "Step #57100\tEpoch   3 Batch  849/3125   Loss: 0.782806 mae: 0.657469 (24.483682172302895 steps/sec)\n",
      "Step #57150\tEpoch   3 Batch  899/3125   Loss: 0.765975 mae: 0.657434 (24.454093478296613 steps/sec)\n",
      "Step #57200\tEpoch   3 Batch  949/3125   Loss: 0.658944 mae: 0.657406 (26.83321760187791 steps/sec)\n",
      "Step #57250\tEpoch   3 Batch  999/3125   Loss: 0.736269 mae: 0.657355 (27.033874457186382 steps/sec)\n",
      "Step #57300\tEpoch   3 Batch 1049/3125   Loss: 0.757230 mae: 0.657354 (25.830952426701824 steps/sec)\n",
      "Step #57350\tEpoch   3 Batch 1099/3125   Loss: 0.617444 mae: 0.657309 (29.124441370652136 steps/sec)\n",
      "Step #57400\tEpoch   3 Batch 1149/3125   Loss: 0.625477 mae: 0.657309 (28.70230896555726 steps/sec)\n",
      "Step #57450\tEpoch   3 Batch 1199/3125   Loss: 0.718693 mae: 0.657258 (29.348513032482266 steps/sec)\n",
      "Step #57500\tEpoch   3 Batch 1249/3125   Loss: 0.750333 mae: 0.657249 (29.613471246513928 steps/sec)\n",
      "Step #57550\tEpoch   3 Batch 1299/3125   Loss: 0.650519 mae: 0.657257 (29.84475306928974 steps/sec)\n",
      "Step #57600\tEpoch   3 Batch 1349/3125   Loss: 0.715404 mae: 0.657183 (29.359483265747485 steps/sec)\n",
      "Step #57650\tEpoch   3 Batch 1399/3125   Loss: 0.768532 mae: 0.657164 (29.206849867757015 steps/sec)\n",
      "Step #57700\tEpoch   3 Batch 1449/3125   Loss: 0.686072 mae: 0.657132 (28.29356691125719 steps/sec)\n",
      "Step #57750\tEpoch   3 Batch 1499/3125   Loss: 0.715188 mae: 0.657104 (29.19162460148038 steps/sec)\n",
      "Step #57800\tEpoch   3 Batch 1549/3125   Loss: 0.801624 mae: 0.657075 (28.79464494121485 steps/sec)\n",
      "Step #57850\tEpoch   3 Batch 1599/3125   Loss: 0.660528 mae: 0.657018 (26.868951160604592 steps/sec)\n",
      "Step #57900\tEpoch   3 Batch 1649/3125   Loss: 0.753343 mae: 0.656995 (25.933247934177604 steps/sec)\n",
      "Step #57950\tEpoch   3 Batch 1699/3125   Loss: 0.687034 mae: 0.656966 (28.24994635323937 steps/sec)\n",
      "Step #58000\tEpoch   3 Batch 1749/3125   Loss: 0.716646 mae: 0.656926 (27.61075891037436 steps/sec)\n",
      "Step #58050\tEpoch   3 Batch 1799/3125   Loss: 0.799751 mae: 0.656904 (27.284522860548204 steps/sec)\n",
      "Step #58100\tEpoch   3 Batch 1849/3125   Loss: 0.669983 mae: 0.656882 (27.715396590870043 steps/sec)\n",
      "Step #58150\tEpoch   3 Batch 1899/3125   Loss: 0.762045 mae: 0.656845 (27.077453204720666 steps/sec)\n",
      "Step #58200\tEpoch   3 Batch 1949/3125   Loss: 0.662702 mae: 0.656807 (26.914852302458403 steps/sec)\n",
      "Step #58250\tEpoch   3 Batch 1999/3125   Loss: 0.772166 mae: 0.656791 (26.69599236527043 steps/sec)\n",
      "Step #58300\tEpoch   3 Batch 2049/3125   Loss: 0.642587 mae: 0.656791 (27.405239888892027 steps/sec)\n",
      "Step #58350\tEpoch   3 Batch 2099/3125   Loss: 0.686601 mae: 0.656721 (26.054895188517794 steps/sec)\n",
      "Step #58400\tEpoch   3 Batch 2149/3125   Loss: 0.626114 mae: 0.656663 (27.96562491040514 steps/sec)\n",
      "Step #58450\tEpoch   3 Batch 2199/3125   Loss: 0.594234 mae: 0.656618 (27.33700077090751 steps/sec)\n",
      "Step #58500\tEpoch   3 Batch 2249/3125   Loss: 0.595894 mae: 0.656564 (25.144094473555953 steps/sec)\n",
      "Step #58550\tEpoch   3 Batch 2299/3125   Loss: 0.717542 mae: 0.656564 (28.52532190335663 steps/sec)\n",
      "Step #58600\tEpoch   3 Batch 2349/3125   Loss: 0.666793 mae: 0.656542 (28.503517489588884 steps/sec)\n",
      "Step #58650\tEpoch   3 Batch 2399/3125   Loss: 0.605819 mae: 0.656514 (28.33159915624697 steps/sec)\n",
      "Step #58700\tEpoch   3 Batch 2449/3125   Loss: 0.660866 mae: 0.656460 (28.744147248183815 steps/sec)\n",
      "Step #58750\tEpoch   3 Batch 2499/3125   Loss: 0.825089 mae: 0.656448 (28.667479832720907 steps/sec)\n",
      "Step #58800\tEpoch   3 Batch 2549/3125   Loss: 0.573527 mae: 0.656428 (28.402054009017576 steps/sec)\n",
      "Step #58850\tEpoch   3 Batch 2599/3125   Loss: 0.781961 mae: 0.656414 (28.629131230957956 steps/sec)\n",
      "Step #58900\tEpoch   3 Batch 2649/3125   Loss: 0.825370 mae: 0.656386 (28.456760731810874 steps/sec)\n",
      "Step #58950\tEpoch   3 Batch 2699/3125   Loss: 0.682141 mae: 0.656356 (27.675449234869543 steps/sec)\n",
      "Step #59000\tEpoch   3 Batch 2749/3125   Loss: 0.734030 mae: 0.656310 (26.9823826946486 steps/sec)\n",
      "Step #59050\tEpoch   3 Batch 2799/3125   Loss: 0.727318 mae: 0.656303 (28.57911452866685 steps/sec)\n",
      "Step #59100\tEpoch   3 Batch 2849/3125   Loss: 0.678288 mae: 0.656271 (28.46924614366058 steps/sec)\n",
      "Step #59150\tEpoch   3 Batch 2899/3125   Loss: 0.738439 mae: 0.656226 (27.04056009228969 steps/sec)\n",
      "Step #59200\tEpoch   3 Batch 2949/3125   Loss: 0.725132 mae: 0.656206 (27.779901631570095 steps/sec)\n",
      "Step #59250\tEpoch   3 Batch 2999/3125   Loss: 0.663880 mae: 0.656165 (28.255838409337198 steps/sec)\n",
      "Step #59300\tEpoch   3 Batch 3049/3125   Loss: 0.639394 mae: 0.656087 (28.048629615467384 steps/sec)\n",
      "Step #59350\tEpoch   3 Batch 3099/3125   Loss: 0.671168 mae: 0.656039 (26.397984785188594 steps/sec)\n",
      "\n",
      "Train time for epoch #4 (59375 total steps): 113.8871078491211\n",
      "Model test set loss: 0.750828 mae: 0.657162\n",
      "best loss = 0.7508276104927063\n",
      "Step #59400\tEpoch   4 Batch   24/3125   Loss: 0.640224 mae: 0.657141 (57.023496763464536 steps/sec)\n",
      "Step #59450\tEpoch   4 Batch   74/3125   Loss: 0.710453 mae: 0.657095 (28.151074267541198 steps/sec)\n",
      "Step #59500\tEpoch   4 Batch  124/3125   Loss: 0.596636 mae: 0.657068 (27.74920139167309 steps/sec)\n",
      "Step #59550\tEpoch   4 Batch  174/3125   Loss: 0.697347 mae: 0.657041 (25.502745876321256 steps/sec)\n",
      "Step #59600\tEpoch   4 Batch  224/3125   Loss: 0.582856 mae: 0.657010 (23.350397818738777 steps/sec)\n",
      "Step #59650\tEpoch   4 Batch  274/3125   Loss: 0.659512 mae: 0.656981 (25.519364167300953 steps/sec)\n",
      "Step #59700\tEpoch   4 Batch  324/3125   Loss: 0.700741 mae: 0.656938 (25.713614500789866 steps/sec)\n",
      "Step #59750\tEpoch   4 Batch  374/3125   Loss: 0.637469 mae: 0.656920 (23.6761107970707 steps/sec)\n",
      "Step #59800\tEpoch   4 Batch  424/3125   Loss: 0.722826 mae: 0.656900 (26.277432992390498 steps/sec)\n",
      "Step #59850\tEpoch   4 Batch  474/3125   Loss: 0.697784 mae: 0.656878 (27.131621780261696 steps/sec)\n",
      "Step #59900\tEpoch   4 Batch  524/3125   Loss: 0.782152 mae: 0.656828 (27.374739945766176 steps/sec)\n",
      "Step #59950\tEpoch   4 Batch  574/3125   Loss: 0.726916 mae: 0.656804 (28.8974048373533 steps/sec)\n",
      "Step #60000\tEpoch   4 Batch  624/3125   Loss: 0.528209 mae: 0.656766 (28.675586128476183 steps/sec)\n",
      "Step #60050\tEpoch   4 Batch  674/3125   Loss: 0.728123 mae: 0.656753 (28.688845170944806 steps/sec)\n",
      "Step #60100\tEpoch   4 Batch  724/3125   Loss: 0.569536 mae: 0.656732 (28.638913105702567 steps/sec)\n",
      "Step #60150\tEpoch   4 Batch  774/3125   Loss: 0.587302 mae: 0.656690 (28.49448990203742 steps/sec)\n",
      "Step #60200\tEpoch   4 Batch  824/3125   Loss: 0.709112 mae: 0.656670 (28.58475508443273 steps/sec)\n",
      "Step #60250\tEpoch   4 Batch  874/3125   Loss: 0.634094 mae: 0.656642 (25.54841353658342 steps/sec)\n",
      "Step #60300\tEpoch   4 Batch  924/3125   Loss: 0.758689 mae: 0.656625 (27.24686193338398 steps/sec)\n",
      "Step #60350\tEpoch   4 Batch  974/3125   Loss: 0.624986 mae: 0.656593 (28.15261990341277 steps/sec)\n",
      "Step #60400\tEpoch   4 Batch 1024/3125   Loss: 0.661057 mae: 0.656565 (28.321643568036162 steps/sec)\n",
      "Step #60450\tEpoch   4 Batch 1074/3125   Loss: 0.694979 mae: 0.656534 (23.708923903148886 steps/sec)\n",
      "Step #60500\tEpoch   4 Batch 1124/3125   Loss: 0.678085 mae: 0.656519 (25.025990776019178 steps/sec)\n",
      "Step #60550\tEpoch   4 Batch 1174/3125   Loss: 0.578732 mae: 0.656505 (27.65796605108743 steps/sec)\n",
      "Step #60600\tEpoch   4 Batch 1224/3125   Loss: 0.675333 mae: 0.656464 (27.76022463899432 steps/sec)\n",
      "Step #60650\tEpoch   4 Batch 1274/3125   Loss: 0.739177 mae: 0.656471 (28.503881656437997 steps/sec)\n",
      "Step #60700\tEpoch   4 Batch 1324/3125   Loss: 0.611296 mae: 0.656441 (23.591300941761272 steps/sec)\n",
      "Step #60750\tEpoch   4 Batch 1374/3125   Loss: 0.683554 mae: 0.656403 (21.121637816452875 steps/sec)\n",
      "Step #60800\tEpoch   4 Batch 1424/3125   Loss: 0.688428 mae: 0.656376 (18.911847688868274 steps/sec)\n",
      "Step #60850\tEpoch   4 Batch 1474/3125   Loss: 0.592346 mae: 0.656346 (24.45212325122275 steps/sec)\n",
      "Step #60900\tEpoch   4 Batch 1524/3125   Loss: 0.611451 mae: 0.656311 (27.55371369417542 steps/sec)\n",
      "Step #60950\tEpoch   4 Batch 1574/3125   Loss: 0.680838 mae: 0.656289 (26.18341847009526 steps/sec)\n",
      "Step #61000\tEpoch   4 Batch 1624/3125   Loss: 0.716584 mae: 0.656239 (26.868214489924636 steps/sec)\n",
      "Step #61050\tEpoch   4 Batch 1674/3125   Loss: 0.580921 mae: 0.656217 (26.123818923360613 steps/sec)\n",
      "Step #61100\tEpoch   4 Batch 1724/3125   Loss: 0.756205 mae: 0.656190 (24.405807625883874 steps/sec)\n",
      "Step #61150\tEpoch   4 Batch 1774/3125   Loss: 0.601117 mae: 0.656170 (24.972668401170832 steps/sec)\n",
      "Step #61200\tEpoch   4 Batch 1824/3125   Loss: 0.617883 mae: 0.656148 (26.78177183635314 steps/sec)\n",
      "Step #61250\tEpoch   4 Batch 1874/3125   Loss: 0.651988 mae: 0.656128 (26.304400506332417 steps/sec)\n",
      "Step #61300\tEpoch   4 Batch 1924/3125   Loss: 0.811733 mae: 0.656092 (26.414479778895213 steps/sec)\n",
      "Step #61350\tEpoch   4 Batch 1974/3125   Loss: 0.615072 mae: 0.656063 (27.888297445101138 steps/sec)\n",
      "Step #61400\tEpoch   4 Batch 2024/3125   Loss: 0.809837 mae: 0.656056 (28.18057643040997 steps/sec)\n",
      "Step #61450\tEpoch   4 Batch 2074/3125   Loss: 0.697282 mae: 0.656016 (26.70697680341804 steps/sec)\n",
      "Step #61500\tEpoch   4 Batch 2124/3125   Loss: 0.552126 mae: 0.655982 (26.279283551087634 steps/sec)\n",
      "Step #61550\tEpoch   4 Batch 2174/3125   Loss: 0.693207 mae: 0.655935 (24.044569921173466 steps/sec)\n",
      "Step #61600\tEpoch   4 Batch 2224/3125   Loss: 0.606506 mae: 0.655901 (22.87323008441759 steps/sec)\n",
      "Step #61650\tEpoch   4 Batch 2274/3125   Loss: 0.716572 mae: 0.655862 (26.15926933986623 steps/sec)\n",
      "Step #61700\tEpoch   4 Batch 2324/3125   Loss: 0.571891 mae: 0.655856 (26.392250779943343 steps/sec)\n",
      "Step #61750\tEpoch   4 Batch 2374/3125   Loss: 0.647948 mae: 0.655837 (26.468370633319356 steps/sec)\n",
      "Step #61800\tEpoch   4 Batch 2424/3125   Loss: 0.603881 mae: 0.655802 (25.738106684022164 steps/sec)\n",
      "Step #61850\tEpoch   4 Batch 2474/3125   Loss: 0.723573 mae: 0.655762 (27.272522746587445 steps/sec)\n",
      "Step #61900\tEpoch   4 Batch 2524/3125   Loss: 0.659915 mae: 0.655741 (28.29858742664929 steps/sec)\n",
      "Step #61950\tEpoch   4 Batch 2574/3125   Loss: 0.723098 mae: 0.655735 (27.690515622881193 steps/sec)\n",
      "Step #62000\tEpoch   4 Batch 2624/3125   Loss: 0.799543 mae: 0.655730 (27.739217871597234 steps/sec)\n",
      "Step #62050\tEpoch   4 Batch 2674/3125   Loss: 0.734025 mae: 0.655703 (27.338547399806338 steps/sec)\n",
      "Step #62100\tEpoch   4 Batch 2724/3125   Loss: 0.623225 mae: 0.655662 (27.876242177406063 steps/sec)\n",
      "Step #62150\tEpoch   4 Batch 2774/3125   Loss: 0.634053 mae: 0.655635 (28.19738080512007 steps/sec)\n",
      "Step #62200\tEpoch   4 Batch 2824/3125   Loss: 0.680760 mae: 0.655633 (27.741445188821945 steps/sec)\n",
      "Step #62250\tEpoch   4 Batch 2874/3125   Loss: 0.747128 mae: 0.655587 (27.62944914534092 steps/sec)\n",
      "Step #62300\tEpoch   4 Batch 2924/3125   Loss: 0.718679 mae: 0.655556 (28.122173068232563 steps/sec)\n",
      "Step #62350\tEpoch   4 Batch 2974/3125   Loss: 0.625314 mae: 0.655534 (27.82610910918588 steps/sec)\n",
      "Step #62400\tEpoch   4 Batch 3024/3125   Loss: 0.617860 mae: 0.655481 (28.194499714983277 steps/sec)\n",
      "Step #62450\tEpoch   4 Batch 3074/3125   Loss: 0.661697 mae: 0.655428 (27.543913728785533 steps/sec)\n",
      "Step #62500\tEpoch   4 Batch 3124/3125   Loss: 0.775794 mae: 0.655388 (27.95926056382155 steps/sec)\n",
      "\n",
      "Train time for epoch #5 (62500 total steps): 118.26803302764893\n",
      "Model test set loss: 0.750896 mae: 0.656313\n",
      "INFO:tensorflow:Assets written to: ./models\\export\\assets\n"
     ]
    },
    {
     "name": "stderr",
     "output_type": "stream",
     "text": [
      "INFO:tensorflow:Assets written to: ./models\\export\\assets\n"
     ]
    }
   ],
   "source": [
    "mv_net=mv_network()\n",
    "mv_net.training(features, targets_values, epochs=5)"
   ]
  },
  {
   "cell_type": "code",
   "execution_count": null,
   "metadata": {},
   "outputs": [],
   "source": [
    "def rating_movie(mv_net, user_id_val, movie_id_val):\n",
    "    categories = np.zeros([1, 18])\n",
    "    categories[0] = movies.values[movieid2idx[movie_id_val]][2]\n",
    "    \n",
    "    titles = np.zeros([1, sentences_size])\n",
    "    titles[0] = movies.values[movieid2idx[movie_id_val]][1]\n",
    "    \n",
    "    inference_val = mv_net.model([np.reshape(users.values[user_id_val-1][0], [1, 1]),\n",
    "              np.reshape(users.values[user_id_val-1][1], [1, 1]),\n",
    "              np.reshape(users.values[user_id_val-1][2], [1, 1]),\n",
    "              np.reshape(users.values[user_id_val-1][3], [1, 1]),\n",
    "              np.reshape(movies.values[movieid2idx[movie_id_val]][0], [1, 1]),\n",
    "              categories,  \n",
    "              titles])\n",
    "\n",
    "    return (inference_val.numpy())"
   ]
  },
  {
   "cell_type": "code",
   "execution_count": null,
   "metadata": {},
   "outputs": [
    {
     "data": {
      "text/plain": [
       "array([[4.390629]], dtype=float32)"
      ]
     },
     "execution_count": 162,
     "metadata": {},
     "output_type": "execute_result"
    }
   ],
   "source": [
    "rating_movie(mv_net, 234, 1400)"
   ]
  },
  {
   "cell_type": "code",
   "execution_count": null,
   "metadata": {},
   "outputs": [],
   "source": [
    "movie_layer_model = keras.models.Model(inputs=[mv_net.model.input[4], mv_net.model.input[5], mv_net.model.input[6]], \n",
    "                                 outputs=mv_net.model.get_layer(\"movie_combine_layer_flat\").output)\n",
    "movie_matrics = []\n",
    "\n",
    "for item in movies.values:\n",
    "    categories = np.zeros([1, 18])\n",
    "    categories[0] = item.take(2)\n",
    "\n",
    "    titles = np.zeros([1, sentences_size])\n",
    "    titles[0] = item.take(1)\n",
    "\n",
    "    movie_combine_layer_flat_val = movie_layer_model([np.reshape(item.take(0), [1, 1]), categories, titles])  \n",
    "    movie_matrics.append(movie_combine_layer_flat_val)\n",
    "\n",
    "pickle.dump((np.array(movie_matrics).reshape(-1, 200)), open('movie_matrics.p', 'wb'))\n",
    "movie_matrics = pickle.load(open('movie_matrics.p', mode='rb'))"
   ]
  },
  {
   "cell_type": "code",
   "execution_count": null,
   "metadata": {},
   "outputs": [],
   "source": [
    "movie_matrics = pickle.load(open('movie_matrics.p', mode='rb'))"
   ]
  },
  {
   "cell_type": "code",
   "execution_count": null,
   "metadata": {},
   "outputs": [],
   "source": [
    "user_layer_model = keras.models.Model(inputs=[mv_net.model.input[0], mv_net.model.input[1], mv_net.model.input[2], mv_net.model.input[3]], \n",
    "                                 outputs=mv_net.model.get_layer(\"user_combine_layer_flat\").output)\n",
    "users_matrics = []\n",
    "\n",
    "for item in users.values:\n",
    "\n",
    "    user_combine_layer_flat_val = user_layer_model([np.reshape(item.take(0), [1, 1]), \n",
    "                                                    np.reshape(item.take(1), [1, 1]), \n",
    "                                                    np.reshape(item.take(2), [1, 1]), \n",
    "                                                    np.reshape(item.take(3), [1, 1])])  \n",
    "    users_matrics.append(user_combine_layer_flat_val)\n",
    "\n",
    "pickle.dump((np.array(users_matrics).reshape(-1, 200)), open('users_matrics.p', 'wb'))\n",
    "users_matrics = pickle.load(open('users_matrics.p', mode='rb'))"
   ]
  },
  {
   "cell_type": "code",
   "execution_count": null,
   "metadata": {},
   "outputs": [],
   "source": [
    "users_matrics = pickle.load(open('users_matrics.p', mode='rb'))"
   ]
  }
 ],
 "metadata": {
  "kernelspec": {
   "display_name": "Python 3",
   "language": "python",
   "name": "python3"
  },
  "language_info": {
   "codemirror_mode": {
    "name": "ipython",
    "version": 3
   },
   "file_extension": ".py",
   "mimetype": "text/x-python",
   "name": "python",
   "nbconvert_exporter": "python",
   "pygments_lexer": "ipython3",
   "version": "3.9.7"
  }
 },
 "nbformat": 4,
 "nbformat_minor": 1
}
